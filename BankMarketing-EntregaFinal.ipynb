{
 "cells": [
  {
   "cell_type": "markdown",
   "metadata": {},
   "source": [
    "<h1> Projeto da disciplina Tópicos Avançados em SI 6 (Ciência dos Dados)</h1>\n",
    "<h4> Centro de Informática - Universidade Federal de Pernambuco (CIn - UFPE) </h4>\n",
    "<h4> Professor: Fernando Neto </h4>\n",
    "<h4> Equipe: Márcio de Aquino, Vanessa Vieira </h4>\n",
    "<br>\n",
    "<h2> Base de dados: <a href=https://archive.ics.uci.edu/ml/datasets/Bank+Marketing> Bank Marketing </a> </h2>"
   ]
  },
  {
   "cell_type": "markdown",
   "metadata": {},
   "source": [
    "## Hipóteses:\n",
    "- É possível identificar e classificar um grupo mais provável de aceitar o depósito a prazo\n",
    "- Há uma relação entre os grupos que aceitam o depósito e a situação sócio-econômica do período\n",
    "- Há uma relação que engloba o intervalo entre ligações e a resposta\n",
    "- O tempo de duração da ligação está relacionado com a resposta\n",
    "- O fato do cliente ter algum empréstimo influencia na resposta\n"
   ]
  },
  {
   "cell_type": "markdown",
   "metadata": {},
   "source": [
    "## Pré-processamento"
   ]
  },
  {
   "cell_type": "code",
   "execution_count": 268,
   "metadata": {},
   "outputs": [],
   "source": [
    "import pandas as pd\n",
    "import numpy as np\n",
    "import matplotlib.pyplot as plt\n",
    "from sklearn import preprocessing\n",
    "\n",
    "%matplotlib inline"
   ]
  },
  {
   "cell_type": "code",
   "execution_count": 269,
   "metadata": {},
   "outputs": [],
   "source": [
    "phone_calls = pd.read_csv('./bank-additional/bank-additional-full.csv')"
   ]
  },
  {
   "cell_type": "markdown",
   "metadata": {},
   "source": [
    "<p> </p>\n",
    "<p> </p>\n",
    "<h4> Verificando se há algum valor nulo</h4>"
   ]
  },
  {
   "cell_type": "code",
   "execution_count": 270,
   "metadata": {},
   "outputs": [
    {
     "data": {
      "text/plain": [
       "age               0\n",
       "job               0\n",
       "marital           0\n",
       "education         0\n",
       "default           0\n",
       "housing           0\n",
       "loan              0\n",
       "contact           0\n",
       "month             0\n",
       "day_of_week       0\n",
       "duration          0\n",
       "campaign          0\n",
       "pdays             0\n",
       "previous          0\n",
       "poutcome          0\n",
       "emp.var.rate      0\n",
       "cons.price.idx    0\n",
       "cons.conf.idx     0\n",
       "euribor3m         0\n",
       "nr.employed       0\n",
       "y                 0\n",
       "dtype: int64"
      ]
     },
     "execution_count": 270,
     "metadata": {},
     "output_type": "execute_result"
    }
   ],
   "source": [
    "phone_calls.isnull().sum()"
   ]
  },
  {
   "cell_type": "markdown",
   "metadata": {},
   "source": [
    "<p> </p>\n",
    "<h4> Verificando alguns atributos categóricos importantes, para checar se alguma linha foge do padrão</h4>"
   ]
  },
  {
   "cell_type": "code",
   "execution_count": 271,
   "metadata": {},
   "outputs": [
    {
     "name": "stdout",
     "output_type": "stream",
     "text": [
      "no         32588\n",
      "unknown     8597\n",
      "yes            3\n",
      "Name: default, dtype: int64\n",
      "yes        21576\n",
      "no         18622\n",
      "unknown      990\n",
      "Name: housing, dtype: int64\n",
      "no         33950\n",
      "yes         6248\n",
      "unknown      990\n",
      "Name: loan, dtype: int64\n",
      "cellular     26144\n",
      "telephone    15044\n",
      "Name: contact, dtype: int64\n",
      "may    13769\n",
      "jul     7174\n",
      "aug     6178\n",
      "jun     5318\n",
      "nov     4101\n",
      "apr     2632\n",
      "oct      718\n",
      "sep      570\n",
      "mar      546\n",
      "dec      182\n",
      "Name: month, dtype: int64\n",
      "thu    8623\n",
      "mon    8514\n",
      "wed    8134\n",
      "tue    8090\n",
      "fri    7827\n",
      "Name: day_of_week, dtype: int64\n",
      "nonexistent    35563\n",
      "failure         4252\n",
      "success         1373\n",
      "Name: poutcome, dtype: int64\n",
      "no     36548\n",
      "yes     4640\n",
      "Name: y, dtype: int64\n"
     ]
    }
   ],
   "source": [
    "categorical_atributes = ['default', 'housing', 'loan', 'contact', 'month', 'day_of_week', 'poutcome', 'y']\n",
    "for a in categorical_atributes :\n",
    "    print(phone_calls[a].value_counts())"
   ]
  },
  {
   "cell_type": "markdown",
   "metadata": {},
   "source": [
    "<p></p>\n",
    "<h4> Verificando informações importantes dos dados númericos</h4>"
   ]
  },
  {
   "cell_type": "code",
   "execution_count": 272,
   "metadata": {},
   "outputs": [
    {
     "data": {
      "text/html": [
       "<div>\n",
       "<style scoped>\n",
       "    .dataframe tbody tr th:only-of-type {\n",
       "        vertical-align: middle;\n",
       "    }\n",
       "\n",
       "    .dataframe tbody tr th {\n",
       "        vertical-align: top;\n",
       "    }\n",
       "\n",
       "    .dataframe thead th {\n",
       "        text-align: right;\n",
       "    }\n",
       "</style>\n",
       "<table border=\"1\" class=\"dataframe\">\n",
       "  <thead>\n",
       "    <tr style=\"text-align: right;\">\n",
       "      <th></th>\n",
       "      <th>age</th>\n",
       "      <th>duration</th>\n",
       "      <th>campaign</th>\n",
       "      <th>pdays</th>\n",
       "      <th>previous</th>\n",
       "      <th>emp.var.rate</th>\n",
       "      <th>cons.price.idx</th>\n",
       "      <th>cons.conf.idx</th>\n",
       "      <th>euribor3m</th>\n",
       "      <th>nr.employed</th>\n",
       "    </tr>\n",
       "  </thead>\n",
       "  <tbody>\n",
       "    <tr>\n",
       "      <th>count</th>\n",
       "      <td>41188.00000</td>\n",
       "      <td>41188.000000</td>\n",
       "      <td>41188.000000</td>\n",
       "      <td>41188.000000</td>\n",
       "      <td>41188.000000</td>\n",
       "      <td>41188.000000</td>\n",
       "      <td>41188.000000</td>\n",
       "      <td>41188.000000</td>\n",
       "      <td>41188.000000</td>\n",
       "      <td>41188.000000</td>\n",
       "    </tr>\n",
       "    <tr>\n",
       "      <th>mean</th>\n",
       "      <td>40.02406</td>\n",
       "      <td>258.285010</td>\n",
       "      <td>2.567593</td>\n",
       "      <td>962.475454</td>\n",
       "      <td>0.172963</td>\n",
       "      <td>0.081886</td>\n",
       "      <td>93.575664</td>\n",
       "      <td>-40.502600</td>\n",
       "      <td>3.621291</td>\n",
       "      <td>5167.035911</td>\n",
       "    </tr>\n",
       "    <tr>\n",
       "      <th>std</th>\n",
       "      <td>10.42125</td>\n",
       "      <td>259.279249</td>\n",
       "      <td>2.770014</td>\n",
       "      <td>186.910907</td>\n",
       "      <td>0.494901</td>\n",
       "      <td>1.570960</td>\n",
       "      <td>0.578840</td>\n",
       "      <td>4.628198</td>\n",
       "      <td>1.734447</td>\n",
       "      <td>72.251528</td>\n",
       "    </tr>\n",
       "    <tr>\n",
       "      <th>min</th>\n",
       "      <td>17.00000</td>\n",
       "      <td>0.000000</td>\n",
       "      <td>1.000000</td>\n",
       "      <td>0.000000</td>\n",
       "      <td>0.000000</td>\n",
       "      <td>-3.400000</td>\n",
       "      <td>92.201000</td>\n",
       "      <td>-50.800000</td>\n",
       "      <td>0.634000</td>\n",
       "      <td>4963.600000</td>\n",
       "    </tr>\n",
       "    <tr>\n",
       "      <th>25%</th>\n",
       "      <td>32.00000</td>\n",
       "      <td>102.000000</td>\n",
       "      <td>1.000000</td>\n",
       "      <td>999.000000</td>\n",
       "      <td>0.000000</td>\n",
       "      <td>-1.800000</td>\n",
       "      <td>93.075000</td>\n",
       "      <td>-42.700000</td>\n",
       "      <td>1.344000</td>\n",
       "      <td>5099.100000</td>\n",
       "    </tr>\n",
       "    <tr>\n",
       "      <th>50%</th>\n",
       "      <td>38.00000</td>\n",
       "      <td>180.000000</td>\n",
       "      <td>2.000000</td>\n",
       "      <td>999.000000</td>\n",
       "      <td>0.000000</td>\n",
       "      <td>1.100000</td>\n",
       "      <td>93.749000</td>\n",
       "      <td>-41.800000</td>\n",
       "      <td>4.857000</td>\n",
       "      <td>5191.000000</td>\n",
       "    </tr>\n",
       "    <tr>\n",
       "      <th>75%</th>\n",
       "      <td>47.00000</td>\n",
       "      <td>319.000000</td>\n",
       "      <td>3.000000</td>\n",
       "      <td>999.000000</td>\n",
       "      <td>0.000000</td>\n",
       "      <td>1.400000</td>\n",
       "      <td>93.994000</td>\n",
       "      <td>-36.400000</td>\n",
       "      <td>4.961000</td>\n",
       "      <td>5228.100000</td>\n",
       "    </tr>\n",
       "    <tr>\n",
       "      <th>max</th>\n",
       "      <td>98.00000</td>\n",
       "      <td>4918.000000</td>\n",
       "      <td>56.000000</td>\n",
       "      <td>999.000000</td>\n",
       "      <td>7.000000</td>\n",
       "      <td>1.400000</td>\n",
       "      <td>94.767000</td>\n",
       "      <td>-26.900000</td>\n",
       "      <td>5.045000</td>\n",
       "      <td>5228.100000</td>\n",
       "    </tr>\n",
       "  </tbody>\n",
       "</table>\n",
       "</div>"
      ],
      "text/plain": [
       "               age      duration      campaign         pdays      previous  \\\n",
       "count  41188.00000  41188.000000  41188.000000  41188.000000  41188.000000   \n",
       "mean      40.02406    258.285010      2.567593    962.475454      0.172963   \n",
       "std       10.42125    259.279249      2.770014    186.910907      0.494901   \n",
       "min       17.00000      0.000000      1.000000      0.000000      0.000000   \n",
       "25%       32.00000    102.000000      1.000000    999.000000      0.000000   \n",
       "50%       38.00000    180.000000      2.000000    999.000000      0.000000   \n",
       "75%       47.00000    319.000000      3.000000    999.000000      0.000000   \n",
       "max       98.00000   4918.000000     56.000000    999.000000      7.000000   \n",
       "\n",
       "       emp.var.rate  cons.price.idx  cons.conf.idx     euribor3m   nr.employed  \n",
       "count  41188.000000    41188.000000   41188.000000  41188.000000  41188.000000  \n",
       "mean       0.081886       93.575664     -40.502600      3.621291   5167.035911  \n",
       "std        1.570960        0.578840       4.628198      1.734447     72.251528  \n",
       "min       -3.400000       92.201000     -50.800000      0.634000   4963.600000  \n",
       "25%       -1.800000       93.075000     -42.700000      1.344000   5099.100000  \n",
       "50%        1.100000       93.749000     -41.800000      4.857000   5191.000000  \n",
       "75%        1.400000       93.994000     -36.400000      4.961000   5228.100000  \n",
       "max        1.400000       94.767000     -26.900000      5.045000   5228.100000  "
      ]
     },
     "execution_count": 272,
     "metadata": {},
     "output_type": "execute_result"
    }
   ],
   "source": [
    "phone_calls.describe()"
   ]
  },
  {
   "cell_type": "markdown",
   "metadata": {},
   "source": [
    "<h2> Discretizando e categorizando dados </h2>"
   ]
  },
  {
   "cell_type": "markdown",
   "metadata": {},
   "source": [
    "<p> </p>\n",
    "<p> Criando coluna que diz se o cliente tem alguma dívida </p>"
   ]
  },
  {
   "cell_type": "code",
   "execution_count": 273,
   "metadata": {},
   "outputs": [
    {
     "data": {
      "text/plain": [
       "1    24135\n",
       "0    17053\n",
       "Name: in_debt, dtype: int64"
      ]
     },
     "execution_count": 273,
     "metadata": {},
     "output_type": "execute_result"
    }
   ],
   "source": [
    "phone_calls['in_debt'] = (\n",
    "     phone_calls.apply(lambda x: 1 if (x.housing == 'yes' or x.loan  == 'yes' or x.default == 'yes') else 0 , axis=1)\n",
    "     )\n",
    "phone_calls['in_debt'].value_counts()"
   ]
  },
  {
   "cell_type": "markdown",
   "metadata": {},
   "source": [
    "<h3> Discretizando os dados sócio-econômicos em quantis </h3>"
   ]
  },
  {
   "cell_type": "code",
   "execution_count": 274,
   "metadata": {},
   "outputs": [
    {
     "data": {
      "text/plain": [
       "emp_var_rate_4    23997\n",
       "emp_var_rate_2    10592\n",
       "emp_var_rate_3     3693\n",
       "emp_var_rate_1     2906\n",
       "Name: emp_var_rate_cat, dtype: int64"
      ]
     },
     "execution_count": 274,
     "metadata": {},
     "output_type": "execute_result"
    }
   ],
   "source": [
    "#quartiles = pd.cut(phone_calls['emp.var.rate'], 4, labels=range(1,5))\n",
    "quartiles = pd.cut(phone_calls['emp.var.rate'], 4, labels=['emp_var_rate_1', 'emp_var_rate_2', 'emp_var_rate_3', 'emp_var_rate_4'])\n",
    "\n",
    "phone_calls = phone_calls.assign(emp_var_rate_cat=quartiles.values)\n",
    "phone_calls['emp_var_rate_cat'].value_counts()"
   ]
  },
  {
   "cell_type": "code",
   "execution_count": 275,
   "metadata": {},
   "outputs": [
    {
     "data": {
      "text/plain": [
       "cons_price_idx_2    18304\n",
       "cons_price_idx_3    15363\n",
       "cons_price_idx_4     5320\n",
       "cons_price_idx_1     2201\n",
       "Name: cons_price_idx_cat, dtype: int64"
      ]
     },
     "execution_count": 275,
     "metadata": {},
     "output_type": "execute_result"
    }
   ],
   "source": [
    "quartiles = pd.cut(phone_calls['cons.price.idx'], 4, labels=['cons_price_idx_1', 'cons_price_idx_2', 'cons_price_idx_3', 'cons_price_idx_4'])\n",
    "phone_calls = phone_calls.assign(cons_price_idx_cat=quartiles.values)\n",
    "phone_calls['cons_price_idx_cat'].value_counts()"
   ]
  },
  {
   "cell_type": "code",
   "execution_count": 276,
   "metadata": {},
   "outputs": [
    {
     "data": {
      "text/plain": [
       "cons_conf_idx_2    16209\n",
       "cons_conf_idx_3    14262\n",
       "cons_conf_idx_1     8876\n",
       "cons_conf_idx_4     1841\n",
       "Name: cons_conf_idx_cat, dtype: int64"
      ]
     },
     "execution_count": 276,
     "metadata": {},
     "output_type": "execute_result"
    }
   ],
   "source": [
    "quartiles = pd.cut(phone_calls['cons.conf.idx'], 4, labels=['cons_conf_idx_1', 'cons_conf_idx_2', 'cons_conf_idx_3', 'cons_conf_idx_4'])\n",
    "phone_calls = phone_calls.assign(cons_conf_idx_cat=quartiles.values)\n",
    "phone_calls['cons_conf_idx_cat'].value_counts()"
   ]
  },
  {
   "cell_type": "code",
   "execution_count": 277,
   "metadata": {},
   "outputs": [
    {
     "data": {
      "text/plain": [
       "euribor3m_4    27676\n",
       "euribor3m_1    13430\n",
       "euribor3m_2       68\n",
       "euribor3m_3       14\n",
       "Name: euribor3m_cat, dtype: int64"
      ]
     },
     "execution_count": 277,
     "metadata": {},
     "output_type": "execute_result"
    }
   ],
   "source": [
    "quartiles = pd.cut(phone_calls['euribor3m'], 4, labels=['euribor3m_1', 'euribor3m_2', 'euribor3m_3', 'euribor3m_4'])\n",
    "phone_calls = phone_calls.assign(euribor3m_cat=quartiles.values)\n",
    "phone_calls['euribor3m_cat'].value_counts()"
   ]
  },
  {
   "cell_type": "code",
   "execution_count": 278,
   "metadata": {},
   "outputs": [
    {
     "data": {
      "text/plain": [
       "nr_employed_4    27690\n",
       "nr_employed_3     8534\n",
       "nr_employed_1     3301\n",
       "nr_employed_2     1663\n",
       "Name: nr_employed_cat, dtype: int64"
      ]
     },
     "execution_count": 278,
     "metadata": {},
     "output_type": "execute_result"
    }
   ],
   "source": [
    "quartiles = pd.cut(phone_calls['nr.employed'], 4, labels=['nr_employed_1', 'nr_employed_2', 'nr_employed_3', 'nr_employed_4'])\n",
    "phone_calls = phone_calls.assign(nr_employed_cat=quartiles.values)\n",
    "phone_calls['nr_employed_cat'].value_counts()"
   ]
  },
  {
   "cell_type": "markdown",
   "metadata": {},
   "source": [
    "<h3> Categorizando outros dados </h3>"
   ]
  },
  {
   "cell_type": "code",
   "execution_count": 279,
   "metadata": {},
   "outputs": [
    {
     "data": {
      "text/plain": [
       "middle-aged    26625\n",
       "youngers        7383\n",
       "olders          7180\n",
       "Name: age_cat, dtype: int64"
      ]
     },
     "execution_count": 279,
     "metadata": {},
     "output_type": "execute_result"
    }
   ],
   "source": [
    "criteria = [phone_calls['age'].between(0, 30), phone_calls['age'].between(31, 50), phone_calls['age'].between(50, 200)]\n",
    "values = ['youngers', 'middle-aged', 'olders']\n",
    "\n",
    "phone_calls['age_cat'] = np.select(criteria, values, 0)\n",
    "phone_calls['age_cat'].value_counts()"
   ]
  },
  {
   "cell_type": "code",
   "execution_count": 280,
   "metadata": {},
   "outputs": [
    {
     "data": {
      "text/plain": [
       "mean     26438\n",
       "long     13665\n",
       "short     1085\n",
       "Name: duration_cat, dtype: int64"
      ]
     },
     "execution_count": 280,
     "metadata": {},
     "output_type": "execute_result"
    }
   ],
   "source": [
    "criteria = [phone_calls['duration'].between(0, 20), phone_calls['duration'].between(21, phone_calls['duration'].mean()), phone_calls['duration'].between(phone_calls['duration'].mean(), phone_calls['duration'].max())]\n",
    "values = ['short', 'mean', 'long']\n",
    "\n",
    "phone_calls['duration_cat'] = np.select(criteria, values, 0)\n",
    "phone_calls['duration_cat'].value_counts()"
   ]
  },
  {
   "cell_type": "code",
   "execution_count": 281,
   "metadata": {},
   "outputs": [
    {
     "data": {
      "text/plain": [
       "0    28212\n",
       "1    12976\n",
       "Name: campaign_cat, dtype: int64"
      ]
     },
     "execution_count": 281,
     "metadata": {},
     "output_type": "execute_result"
    }
   ],
   "source": [
    "criteria = [phone_calls['campaign'].between(0, phone_calls['campaign'].mean()), phone_calls['campaign'].between(phone_calls['campaign'].mean(), phone_calls['campaign'].max())]\n",
    "values = [0, 1]\n",
    "\n",
    "phone_calls['campaign_cat'] = np.select(criteria, values, 0)\n",
    "phone_calls['campaign_cat'].value_counts()"
   ]
  },
  {
   "cell_type": "code",
   "execution_count": 282,
   "metadata": {},
   "outputs": [
    {
     "data": {
      "text/plain": [
       "not_contacted                 39673\n",
       "contacted_a_few_days_ ago      1117\n",
       "contacted_several_days_ago      398\n",
       "Name: pdays_cat, dtype: int64"
      ]
     },
     "execution_count": 282,
     "metadata": {},
     "output_type": "execute_result"
    }
   ],
   "source": [
    "pdays_without_999 = np.array([x for x in phone_calls['pdays'] if x != 999])\n",
    "\n",
    "criteria = [phone_calls['pdays'].between(999,999), phone_calls['pdays'].between(0, pdays_without_999.mean()), phone_calls['pdays'].between(pdays_without_999.mean(), pdays_without_999.max())]\n",
    "values = ['not_contacted', 'contacted_a_few_days_ ago', 'contacted_several_days_ago']\n",
    "\n",
    "phone_calls['pdays_cat'] = np.select(criteria, values, 0)\n",
    "phone_calls['pdays_cat'].value_counts()"
   ]
  },
  {
   "cell_type": "code",
   "execution_count": 283,
   "metadata": {},
   "outputs": [
    {
     "data": {
      "text/plain": [
       "0    35563\n",
       "1     5625\n",
       "Name: previous_cat, dtype: int64"
      ]
     },
     "execution_count": 283,
     "metadata": {},
     "output_type": "execute_result"
    }
   ],
   "source": [
    "criteria = [phone_calls['previous'].between(0, phone_calls['previous'].mean()), phone_calls['previous'].between(phone_calls['previous'].mean(), phone_calls['previous'].max())]\n",
    "values = [0, 1]\n",
    "\n",
    "phone_calls['previous_cat'] = np.select(criteria, values, 0)\n",
    "phone_calls['previous_cat'].value_counts()"
   ]
  },
  {
   "cell_type": "markdown",
   "metadata": {},
   "source": [
    "<h3> Convertendo atributos categóricos em binários </h3>\n"
   ]
  },
  {
   "cell_type": "code",
   "execution_count": 284,
   "metadata": {},
   "outputs": [],
   "source": [
    "#executar para converter o atributo de saída para binário\n",
    "results = {'no': 0, 'yes': 1}\n",
    "phone_calls.y = [ results[el] for el in phone_calls.y]"
   ]
  },
  {
   "cell_type": "code",
   "execution_count": 285,
   "metadata": {},
   "outputs": [],
   "source": [
    "#executar para converter o atributo de contact para binário\n",
    "results = {'telephone': 0, 'cellular': 1}\n",
    "phone_calls.contact = [ results[el] for el in phone_calls.contact]"
   ]
  },
  {
   "cell_type": "code",
   "execution_count": 286,
   "metadata": {},
   "outputs": [],
   "source": [
    "phone_calls =  phone_calls.join(pd.get_dummies(phone_calls.pop('job')), lsuffix=\"job_\", rsuffix=\"_job\")\n",
    "phone_calls =  phone_calls.join(pd.get_dummies(phone_calls.pop('marital')), rsuffix=\"_marital\" )\n",
    "phone_calls =  phone_calls.join(pd.get_dummies(phone_calls.pop('default')), rsuffix=\"_default\" )\n",
    "phone_calls =  phone_calls.join(pd.get_dummies(phone_calls.pop('education')), rsuffix=\"_education\" )\n",
    "phone_calls =  phone_calls.join(pd.get_dummies(phone_calls.pop('housing')), rsuffix=\"_housing\" )\n",
    "phone_calls =  phone_calls.join(pd.get_dummies(phone_calls.pop('loan')), rsuffix=\"_loan\" )\n",
    "phone_calls =  phone_calls.join(pd.get_dummies(phone_calls.pop('month')), rsuffix=\"_month\" )\n",
    "phone_calls =  phone_calls.join(pd.get_dummies(phone_calls.pop('day_of_week')), rsuffix=\"_day_of_week\" )\n",
    "phone_calls =  phone_calls.join(pd.get_dummies(phone_calls.pop('poutcome')), lsuffix=\"poutcome_\", rsuffix=\"_poutcome\" )"
   ]
  },
  {
   "cell_type": "code",
   "execution_count": 287,
   "metadata": {},
   "outputs": [
    {
     "data": {
      "text/html": [
       "<div>\n",
       "<style scoped>\n",
       "    .dataframe tbody tr th:only-of-type {\n",
       "        vertical-align: middle;\n",
       "    }\n",
       "\n",
       "    .dataframe tbody tr th {\n",
       "        vertical-align: top;\n",
       "    }\n",
       "\n",
       "    .dataframe thead th {\n",
       "        text-align: right;\n",
       "    }\n",
       "</style>\n",
       "<table border=\"1\" class=\"dataframe\">\n",
       "  <thead>\n",
       "    <tr style=\"text-align: right;\">\n",
       "      <th></th>\n",
       "      <th>age</th>\n",
       "      <th>contact</th>\n",
       "      <th>duration</th>\n",
       "      <th>campaign</th>\n",
       "      <th>pdays</th>\n",
       "      <th>previous</th>\n",
       "      <th>emp.var.rate</th>\n",
       "      <th>cons.price.idx</th>\n",
       "      <th>cons.conf.idx</th>\n",
       "      <th>euribor3m</th>\n",
       "      <th>...</th>\n",
       "      <th>oct</th>\n",
       "      <th>sep</th>\n",
       "      <th>fri</th>\n",
       "      <th>mon</th>\n",
       "      <th>thu</th>\n",
       "      <th>tue</th>\n",
       "      <th>wed</th>\n",
       "      <th>failure</th>\n",
       "      <th>nonexistent</th>\n",
       "      <th>success</th>\n",
       "    </tr>\n",
       "  </thead>\n",
       "  <tbody>\n",
       "    <tr>\n",
       "      <th>0</th>\n",
       "      <td>56</td>\n",
       "      <td>0</td>\n",
       "      <td>261</td>\n",
       "      <td>1</td>\n",
       "      <td>999</td>\n",
       "      <td>0</td>\n",
       "      <td>1.1</td>\n",
       "      <td>93.994</td>\n",
       "      <td>-36.4</td>\n",
       "      <td>4.857</td>\n",
       "      <td>...</td>\n",
       "      <td>0</td>\n",
       "      <td>0</td>\n",
       "      <td>0</td>\n",
       "      <td>1</td>\n",
       "      <td>0</td>\n",
       "      <td>0</td>\n",
       "      <td>0</td>\n",
       "      <td>0</td>\n",
       "      <td>1</td>\n",
       "      <td>0</td>\n",
       "    </tr>\n",
       "    <tr>\n",
       "      <th>1</th>\n",
       "      <td>57</td>\n",
       "      <td>0</td>\n",
       "      <td>149</td>\n",
       "      <td>1</td>\n",
       "      <td>999</td>\n",
       "      <td>0</td>\n",
       "      <td>1.1</td>\n",
       "      <td>93.994</td>\n",
       "      <td>-36.4</td>\n",
       "      <td>4.857</td>\n",
       "      <td>...</td>\n",
       "      <td>0</td>\n",
       "      <td>0</td>\n",
       "      <td>0</td>\n",
       "      <td>1</td>\n",
       "      <td>0</td>\n",
       "      <td>0</td>\n",
       "      <td>0</td>\n",
       "      <td>0</td>\n",
       "      <td>1</td>\n",
       "      <td>0</td>\n",
       "    </tr>\n",
       "    <tr>\n",
       "      <th>2</th>\n",
       "      <td>37</td>\n",
       "      <td>0</td>\n",
       "      <td>226</td>\n",
       "      <td>1</td>\n",
       "      <td>999</td>\n",
       "      <td>0</td>\n",
       "      <td>1.1</td>\n",
       "      <td>93.994</td>\n",
       "      <td>-36.4</td>\n",
       "      <td>4.857</td>\n",
       "      <td>...</td>\n",
       "      <td>0</td>\n",
       "      <td>0</td>\n",
       "      <td>0</td>\n",
       "      <td>1</td>\n",
       "      <td>0</td>\n",
       "      <td>0</td>\n",
       "      <td>0</td>\n",
       "      <td>0</td>\n",
       "      <td>1</td>\n",
       "      <td>0</td>\n",
       "    </tr>\n",
       "    <tr>\n",
       "      <th>3</th>\n",
       "      <td>40</td>\n",
       "      <td>0</td>\n",
       "      <td>151</td>\n",
       "      <td>1</td>\n",
       "      <td>999</td>\n",
       "      <td>0</td>\n",
       "      <td>1.1</td>\n",
       "      <td>93.994</td>\n",
       "      <td>-36.4</td>\n",
       "      <td>4.857</td>\n",
       "      <td>...</td>\n",
       "      <td>0</td>\n",
       "      <td>0</td>\n",
       "      <td>0</td>\n",
       "      <td>1</td>\n",
       "      <td>0</td>\n",
       "      <td>0</td>\n",
       "      <td>0</td>\n",
       "      <td>0</td>\n",
       "      <td>1</td>\n",
       "      <td>0</td>\n",
       "    </tr>\n",
       "    <tr>\n",
       "      <th>4</th>\n",
       "      <td>56</td>\n",
       "      <td>0</td>\n",
       "      <td>307</td>\n",
       "      <td>1</td>\n",
       "      <td>999</td>\n",
       "      <td>0</td>\n",
       "      <td>1.1</td>\n",
       "      <td>93.994</td>\n",
       "      <td>-36.4</td>\n",
       "      <td>4.857</td>\n",
       "      <td>...</td>\n",
       "      <td>0</td>\n",
       "      <td>0</td>\n",
       "      <td>0</td>\n",
       "      <td>1</td>\n",
       "      <td>0</td>\n",
       "      <td>0</td>\n",
       "      <td>0</td>\n",
       "      <td>0</td>\n",
       "      <td>1</td>\n",
       "      <td>0</td>\n",
       "    </tr>\n",
       "  </tbody>\n",
       "</table>\n",
       "<p>5 rows × 74 columns</p>\n",
       "</div>"
      ],
      "text/plain": [
       "   age  contact  duration  campaign  pdays  previous  emp.var.rate  \\\n",
       "0   56        0       261         1    999         0           1.1   \n",
       "1   57        0       149         1    999         0           1.1   \n",
       "2   37        0       226         1    999         0           1.1   \n",
       "3   40        0       151         1    999         0           1.1   \n",
       "4   56        0       307         1    999         0           1.1   \n",
       "\n",
       "   cons.price.idx  cons.conf.idx  euribor3m  ...  oct  sep  fri mon thu tue  \\\n",
       "0          93.994          -36.4      4.857  ...    0    0    0   1   0   0   \n",
       "1          93.994          -36.4      4.857  ...    0    0    0   1   0   0   \n",
       "2          93.994          -36.4      4.857  ...    0    0    0   1   0   0   \n",
       "3          93.994          -36.4      4.857  ...    0    0    0   1   0   0   \n",
       "4          93.994          -36.4      4.857  ...    0    0    0   1   0   0   \n",
       "\n",
       "  wed failure nonexistent success  \n",
       "0   0       0           1       0  \n",
       "1   0       0           1       0  \n",
       "2   0       0           1       0  \n",
       "3   0       0           1       0  \n",
       "4   0       0           1       0  \n",
       "\n",
       "[5 rows x 74 columns]"
      ]
     },
     "execution_count": 287,
     "metadata": {},
     "output_type": "execute_result"
    }
   ],
   "source": [
    "phone_calls.head()"
   ]
  },
  {
   "cell_type": "code",
   "execution_count": 288,
   "metadata": {},
   "outputs": [],
   "source": [
    "phone_calls =  phone_calls.join(pd.get_dummies(phone_calls.pop('emp_var_rate_cat')))\n",
    "phone_calls =  phone_calls.join(pd.get_dummies(phone_calls.pop('cons_price_idx_cat')))\n",
    "phone_calls =  phone_calls.join(pd.get_dummies(phone_calls.pop('cons_conf_idx_cat')))\n",
    "phone_calls =  phone_calls.join(pd.get_dummies(phone_calls.pop('euribor3m_cat')))\n",
    "phone_calls =  phone_calls.join(pd.get_dummies(phone_calls.pop('nr_employed_cat')))\n",
    "\n",
    "phone_calls =  phone_calls.join(pd.get_dummies(phone_calls.pop('age_cat')), lsuffix=\"age_cat_\", rsuffix=\"_age_cat\")\n",
    "phone_calls =  phone_calls.join(pd.get_dummies(phone_calls.pop('duration_cat')), lsuffix=\"duration_cat_\", rsuffix=\"_duration_cat\")\n",
    "phone_calls =  phone_calls.join(pd.get_dummies(phone_calls.pop('pdays_cat')), lsuffix=\"pdays_cat_\", rsuffix=\"_pdays_cat\")"
   ]
  },
  {
   "cell_type": "code",
   "execution_count": 292,
   "metadata": {},
   "outputs": [
    {
     "data": {
      "text/html": [
       "<div>\n",
       "<style scoped>\n",
       "    .dataframe tbody tr th:only-of-type {\n",
       "        vertical-align: middle;\n",
       "    }\n",
       "\n",
       "    .dataframe tbody tr th {\n",
       "        vertical-align: top;\n",
       "    }\n",
       "\n",
       "    .dataframe thead th {\n",
       "        text-align: right;\n",
       "    }\n",
       "</style>\n",
       "<table border=\"1\" class=\"dataframe\">\n",
       "  <thead>\n",
       "    <tr style=\"text-align: right;\">\n",
       "      <th></th>\n",
       "      <th>age</th>\n",
       "      <th>contact</th>\n",
       "      <th>duration</th>\n",
       "      <th>campaign</th>\n",
       "      <th>pdays</th>\n",
       "      <th>previous</th>\n",
       "      <th>emp.var.rate</th>\n",
       "      <th>cons.price.idx</th>\n",
       "      <th>cons.conf.idx</th>\n",
       "      <th>euribor3m</th>\n",
       "      <th>...</th>\n",
       "      <th>nr_employed_4</th>\n",
       "      <th>middle-aged</th>\n",
       "      <th>olders</th>\n",
       "      <th>youngers</th>\n",
       "      <th>long</th>\n",
       "      <th>mean</th>\n",
       "      <th>short</th>\n",
       "      <th>contacted_a_few_days_ ago</th>\n",
       "      <th>contacted_several_days_ago</th>\n",
       "      <th>not_contacted</th>\n",
       "    </tr>\n",
       "  </thead>\n",
       "  <tbody>\n",
       "    <tr>\n",
       "      <th>0</th>\n",
       "      <td>56</td>\n",
       "      <td>0</td>\n",
       "      <td>261</td>\n",
       "      <td>1</td>\n",
       "      <td>999</td>\n",
       "      <td>0</td>\n",
       "      <td>1.1</td>\n",
       "      <td>93.994</td>\n",
       "      <td>-36.4</td>\n",
       "      <td>4.857</td>\n",
       "      <td>...</td>\n",
       "      <td>1</td>\n",
       "      <td>0</td>\n",
       "      <td>1</td>\n",
       "      <td>0</td>\n",
       "      <td>1</td>\n",
       "      <td>0</td>\n",
       "      <td>0</td>\n",
       "      <td>0</td>\n",
       "      <td>0</td>\n",
       "      <td>1</td>\n",
       "    </tr>\n",
       "    <tr>\n",
       "      <th>1</th>\n",
       "      <td>57</td>\n",
       "      <td>0</td>\n",
       "      <td>149</td>\n",
       "      <td>1</td>\n",
       "      <td>999</td>\n",
       "      <td>0</td>\n",
       "      <td>1.1</td>\n",
       "      <td>93.994</td>\n",
       "      <td>-36.4</td>\n",
       "      <td>4.857</td>\n",
       "      <td>...</td>\n",
       "      <td>1</td>\n",
       "      <td>0</td>\n",
       "      <td>1</td>\n",
       "      <td>0</td>\n",
       "      <td>0</td>\n",
       "      <td>1</td>\n",
       "      <td>0</td>\n",
       "      <td>0</td>\n",
       "      <td>0</td>\n",
       "      <td>1</td>\n",
       "    </tr>\n",
       "    <tr>\n",
       "      <th>2</th>\n",
       "      <td>37</td>\n",
       "      <td>0</td>\n",
       "      <td>226</td>\n",
       "      <td>1</td>\n",
       "      <td>999</td>\n",
       "      <td>0</td>\n",
       "      <td>1.1</td>\n",
       "      <td>93.994</td>\n",
       "      <td>-36.4</td>\n",
       "      <td>4.857</td>\n",
       "      <td>...</td>\n",
       "      <td>1</td>\n",
       "      <td>1</td>\n",
       "      <td>0</td>\n",
       "      <td>0</td>\n",
       "      <td>0</td>\n",
       "      <td>1</td>\n",
       "      <td>0</td>\n",
       "      <td>0</td>\n",
       "      <td>0</td>\n",
       "      <td>1</td>\n",
       "    </tr>\n",
       "    <tr>\n",
       "      <th>3</th>\n",
       "      <td>40</td>\n",
       "      <td>0</td>\n",
       "      <td>151</td>\n",
       "      <td>1</td>\n",
       "      <td>999</td>\n",
       "      <td>0</td>\n",
       "      <td>1.1</td>\n",
       "      <td>93.994</td>\n",
       "      <td>-36.4</td>\n",
       "      <td>4.857</td>\n",
       "      <td>...</td>\n",
       "      <td>1</td>\n",
       "      <td>1</td>\n",
       "      <td>0</td>\n",
       "      <td>0</td>\n",
       "      <td>0</td>\n",
       "      <td>1</td>\n",
       "      <td>0</td>\n",
       "      <td>0</td>\n",
       "      <td>0</td>\n",
       "      <td>1</td>\n",
       "    </tr>\n",
       "    <tr>\n",
       "      <th>4</th>\n",
       "      <td>56</td>\n",
       "      <td>0</td>\n",
       "      <td>307</td>\n",
       "      <td>1</td>\n",
       "      <td>999</td>\n",
       "      <td>0</td>\n",
       "      <td>1.1</td>\n",
       "      <td>93.994</td>\n",
       "      <td>-36.4</td>\n",
       "      <td>4.857</td>\n",
       "      <td>...</td>\n",
       "      <td>1</td>\n",
       "      <td>0</td>\n",
       "      <td>1</td>\n",
       "      <td>0</td>\n",
       "      <td>1</td>\n",
       "      <td>0</td>\n",
       "      <td>0</td>\n",
       "      <td>0</td>\n",
       "      <td>0</td>\n",
       "      <td>1</td>\n",
       "    </tr>\n",
       "  </tbody>\n",
       "</table>\n",
       "<p>5 rows × 95 columns</p>\n",
       "</div>"
      ],
      "text/plain": [
       "   age  contact  duration  campaign  pdays  previous  emp.var.rate  \\\n",
       "0   56        0       261         1    999         0           1.1   \n",
       "1   57        0       149         1    999         0           1.1   \n",
       "2   37        0       226         1    999         0           1.1   \n",
       "3   40        0       151         1    999         0           1.1   \n",
       "4   56        0       307         1    999         0           1.1   \n",
       "\n",
       "   cons.price.idx  cons.conf.idx  euribor3m  ...  nr_employed_4  middle-aged  \\\n",
       "0          93.994          -36.4      4.857  ...              1            0   \n",
       "1          93.994          -36.4      4.857  ...              1            0   \n",
       "2          93.994          -36.4      4.857  ...              1            1   \n",
       "3          93.994          -36.4      4.857  ...              1            1   \n",
       "4          93.994          -36.4      4.857  ...              1            0   \n",
       "\n",
       "   olders  youngers  long  mean  short  contacted_a_few_days_ ago  \\\n",
       "0       1         0     1     0      0                          0   \n",
       "1       1         0     0     1      0                          0   \n",
       "2       0         0     0     1      0                          0   \n",
       "3       0         0     0     1      0                          0   \n",
       "4       1         0     1     0      0                          0   \n",
       "\n",
       "   contacted_several_days_ago  not_contacted  \n",
       "0                           0              1  \n",
       "1                           0              1  \n",
       "2                           0              1  \n",
       "3                           0              1  \n",
       "4                           0              1  \n",
       "\n",
       "[5 rows x 95 columns]"
      ]
     },
     "execution_count": 292,
     "metadata": {},
     "output_type": "execute_result"
    }
   ],
   "source": [
    "phone_calls.head()"
   ]
  },
  {
   "cell_type": "code",
   "execution_count": 294,
   "metadata": {},
   "outputs": [
    {
     "name": "stdout",
     "output_type": "stream",
     "text": [
      "Lista final de colunas: ['age', 'contact', 'duration', 'campaign', 'pdays', 'previous', 'emp.var.rate', 'cons.price.idx', 'cons.conf.idx', 'euribor3m', 'nr.employed', 'y', 'in_debt', 'campaign_cat', 'previous_cat', 'admin.', 'blue-collar', 'entrepreneur', 'housemaid', 'management', 'retired', 'self-employed', 'services', 'student', 'technician', 'unemployed', 'unknown', 'divorced', 'married', 'single', 'unknown_marital', 'no', 'unknown_default', 'yes', 'basic.4y', 'basic.6y', 'basic.9y', 'high.school', 'illiterate', 'professional.course', 'university.degree', 'unknown_education', 'no_housing', 'unknown_housing', 'yes_housing', 'no_loan', 'unknown_loan', 'yes_loan', 'apr', 'aug', 'dec', 'jul', 'jun', 'mar', 'may', 'nov', 'oct', 'sep', 'fri', 'mon', 'thu', 'tue', 'wed', 'failure', 'nonexistent', 'success', 'emp_var_rate_1', 'emp_var_rate_2', 'emp_var_rate_3', 'emp_var_rate_4', 'cons_price_idx_1', 'cons_price_idx_2', 'cons_price_idx_3', 'cons_price_idx_4', 'cons_conf_idx_1', 'cons_conf_idx_2', 'cons_conf_idx_3', 'cons_conf_idx_4', 'euribor3m_1', 'euribor3m_2', 'euribor3m_3', 'euribor3m_4', 'nr_employed_1', 'nr_employed_2', 'nr_employed_3', 'nr_employed_4', 'middle-aged', 'olders', 'youngers', 'long', 'mean', 'short', 'contacted_a_few_days_ ago', 'contacted_several_days_ago', 'not_contacted']\n"
     ]
    }
   ],
   "source": [
    "final_list_of_collumns = []\n",
    "for x in phone_calls: final_list_of_collumns.append(x)\n",
    "print(\"Lista final de colunas:\", final_list_of_collumns)"
   ]
  },
  {
   "cell_type": "markdown",
   "metadata": {},
   "source": [
    "<h1> Executando de Inteligência Artificial para cada hipótese</h1>"
   ]
  },
  {
   "cell_type": "code",
   "execution_count": 383,
   "metadata": {},
   "outputs": [],
   "source": [
    "from sklearn.metrics import accuracy_score #função que calcula taxa de acerto\n",
    "from sklearn.model_selection import train_test_split #função que particiona os dados em treino e teste\n",
    "from sklearn.metrics import classification_report, confusion_matrix    "
   ]
  },
  {
   "cell_type": "markdown",
   "metadata": {},
   "source": [
    "### Sobre o relatório de classificação:\n",
    "* Precision: Precisão das previsões positivas.\n",
    "<p>Precision = TP / (TP + FP)</p>\n",
    "* Recall: Lembre-se: Fração de positivos que foram corretamente identificados.\n",
    "<p>Recall = TP / (TP + FN)</p>\n",
    "* F1 Score: Porcentagem de previsões positivas corretas.\n",
    "<p>F1 Score = 2 * (Recall * Precision) / (Recall + Precision)</p>\n",
    "* Support: Quantidade de elementos no conjunto de teste"
   ]
  },
  {
   "cell_type": "markdown",
   "metadata": {},
   "source": [
    "<h2> Separando conjuntos de treino e de teste </h2>"
   ]
  },
  {
   "cell_type": "code",
   "execution_count": null,
   "metadata": {},
   "outputs": [],
   "source": [
    "#OUTPUT (target)\n",
    "y = phone_calls['y'].values"
   ]
  },
  {
   "cell_type": "code",
   "execution_count": 374,
   "metadata": {},
   "outputs": [],
   "source": [
    "def setTrainTest(X, y):\n",
    "    #dividindo os conjuntos de entrada e saída em conjuntos de 70% p/ treino e de 30% p/ teste \n",
    "    X_train, X_test, y_train, y_test = train_test_split(\n",
    "        X, y, test_size=0.30, random_state=1)\n",
    "    return X_train, X_test, y_train, y_test"
   ]
  },
  {
   "cell_type": "markdown",
   "metadata": {},
   "source": [
    "<p></p>\n",
    "<h2>Função que irá executar cada um dos algoritmos quando for chamada, com os conjuntos de treino e de teste relacionados a cada uma das hipóteses</h2>"
   ]
  },
  {
   "cell_type": "code",
   "execution_count": 378,
   "metadata": {},
   "outputs": [],
   "source": [
    "def algorithmExecute(algorithm, trainAndTest) :\n",
    "\n",
    "    #TREINAMENTO\n",
    "    algorithm.fit(X_train, y_train)   #a funcao fit treina a rede neural com o conjunto de entrada X e a saida esperada y\n",
    "\n",
    "    #TESTE\n",
    "    y_pred = algorithm.predict(X_test) #prediz qual a classe que pertence ao conjunto de teste\n",
    "\n",
    "    #CONFERINDO RESULTADOS\n",
    "    taxa = accuracy_score(y_test, y_pred)*100\n",
    "    \n",
    "    return taxa"
   ]
  },
  {
   "cell_type": "markdown",
   "metadata": {},
   "source": [
    "<h2>Hipótese \"É possível identificar e classificar um grupo mais provável de aceitar o depósito a prazo\"</h2>"
   ]
  },
  {
   "cell_type": "code",
   "execution_count": 370,
   "metadata": {},
   "outputs": [],
   "source": [
    "#INPUTS\n",
    "X = phone_calls[['middle-aged', 'olders', 'youngers', 'admin.', 'blue-collar', 'entrepreneur', 'housemaid', 'management', 'retired', 'self-employed', 'services', 'student', 'technician', 'unemployed', 'unknown', 'divorced', 'married', 'single', 'unknown_marital', 'no', 'unknown_default', 'yes', 'basic.4y', 'basic.6y', 'basic.9y', 'high.school', 'illiterate', 'professional.course', 'university.degree', 'unknown_education']].values\n",
    "trainAndTest = setTrainTest(X, y)"
   ]
  },
  {
   "cell_type": "markdown",
   "metadata": {},
   "source": [
    "<h2>Hipótese \"Há uma relação entre os grupos que aceitam o depósito e a situação sócio-econômica do país no período\"</h2>"
   ]
  },
  {
   "cell_type": "code",
   "execution_count": 373,
   "metadata": {},
   "outputs": [],
   "source": [
    "#INPUTS\n",
    "X = phone_calls[['emp_var_rate_2', 'emp_var_rate_3', 'emp_var_rate_4', 'cons_price_idx_1', 'cons_price_idx_2', 'cons_price_idx_3', 'cons_price_idx_4','cons_conf_idx_1', 'cons_conf_idx_2', 'cons_conf_idx_3', 'cons_conf_idx_4', 'euribor3m_1', 'euribor3m_2', 'euribor3m_3', 'euribor3m_4', 'nr_employed_1', 'nr_employed_2', 'nr_employed_3', 'nr_employed_4']].values  \n",
    "trainAndTest = setTrainTest(X, y)"
   ]
  },
  {
   "cell_type": "markdown",
   "metadata": {},
   "source": [
    "<h3> MLP (Multilayer Perceptron) </h3>\n"
   ]
  },
  {
   "cell_type": "code",
   "execution_count": null,
   "metadata": {},
   "outputs": [],
   "source": [
    "#Dúvida sobre melhor forma de fazer as mudança de parâmetros:\n",
    "#1ª FORMA: Mudar um conjunto de 3 parâmetros de uma vez\n",
    "mlp1 = MLPClassifier(solver='adam', alpha=0.0001, \n",
    "                    hidden_layer_sizes=(100,)) \n",
    "\n",
    "mlp2 = MLPClassifier(solver='lbfgs', alpha=1e-5, \n",
    "                    hidden_layer_sizes=(20,))\n",
    "\n",
    "\n",
    "#2ª FORMA: Mudar 1 parâmetro por vez\n",
    "mlp1 = MLPClassifier(solver='lbfgs') \n",
    "mlp2 = MLPClassifier(alpha=1e-5)\n",
    "mlp3 = MLPClassifier(hidden_layer_sizes=(20,))"
   ]
  },
  {
   "cell_type": "code",
   "execution_count": null,
   "metadata": {},
   "outputs": [],
   "source": [
    "from sklearn.neural_network import MLPClassifier"
   ]
  },
  {
   "cell_type": "code",
   "execution_count": 382,
   "metadata": {},
   "outputs": [
    {
     "name": "stdout",
     "output_type": "stream",
     "text": [
      "A taxa de acerto do MLP com o primeiro conjunto de parâmetros foi: 88.87%\n",
      "\n"
     ]
    }
   ],
   "source": [
    "mlp1 = MLPClassifier(solver='adam', alpha=0.0001, \n",
    "                    hidden_layer_sizes=(100,), random_state=1) \n",
    "\n",
    "algorithmExecute(mlp1, trainAndTest)\n",
    "print('A taxa de acerto do MLP com o primeiro conjunto de parâmetros foi: {:.2f}%\\n'.format(taxa))\n"
   ]
  },
  {
   "cell_type": "code",
   "execution_count": 320,
   "metadata": {},
   "outputs": [
    {
     "name": "stdout",
     "output_type": "stream",
     "text": [
      "A taxa de acerto do MLP 2 com o segundo conjunto de parâmetros foi: 88.87%\n"
     ]
    }
   ],
   "source": [
    "mlp2 = MLPClassifier(solver='lbfgs', alpha=1e-5, \n",
    "                    hidden_layer_sizes=(20,), random_state=1)\n",
    "\n",
    "algorithmExecute(mlp2, trainAndTest)\n",
    "print('A taxa de acerto do MLP 2 com o segundo conjunto de parâmetros foi: {:.2f}%'.format(taxa))"
   ]
  },
  {
   "cell_type": "markdown",
   "metadata": {},
   "source": [
    "<p></p>\n",
    "<p> Para o MLP com a segunda opção de parâmetros: </p>"
   ]
  },
  {
   "cell_type": "code",
   "execution_count": 304,
   "metadata": {},
   "outputs": [
    {
     "name": "stdout",
     "output_type": "stream",
     "text": [
      "MATRIZ DE CONFUSÃO:\n",
      " [[10672   272]\n",
      " [ 1105   308]]\n",
      "\n",
      "RELATÓRIO DE CLASSIFICAÇÃO:\n",
      "               precision    recall  f1-score   support\n",
      "\n",
      "           0       0.91      0.98      0.94     10944\n",
      "           1       0.53      0.22      0.31      1413\n",
      "\n",
      "   micro avg       0.89      0.89      0.89     12357\n",
      "   macro avg       0.72      0.60      0.62     12357\n",
      "weighted avg       0.86      0.89      0.87     12357\n",
      "\n"
     ]
    }
   ],
   "source": [
    "print(\"MATRIZ DE CONFUSÃO:\\n\", confusion_matrix(y_test, y_pred)) \n",
    "print(\"\\nRELATÓRIO DE CLASSIFICAÇÃO:\\n\", classification_report(y_test, y_pred))"
   ]
  },
  {
   "cell_type": "markdown",
   "metadata": {},
   "source": [
    "<p> </p>\n",
    "<h4> Taxa de erro com 1 camada na rede neural </h4>"
   ]
  },
  {
   "cell_type": "code",
   "execution_count": 308,
   "metadata": {},
   "outputs": [
    {
     "data": {
      "text/plain": [
       "Text(0, 0.5, 'Erro médio')"
      ]
     },
     "execution_count": 308,
     "metadata": {},
     "output_type": "execute_result"
    },
    {
     "data": {
      "image/png": "[encoded data removed]",
      "text/plain": [
       "<Figure size 864x432 with 1 Axes>"
      ]
     },
     "metadata": {
      "needs_background": "light"
     },
     "output_type": "display_data"
    }
   ],
   "source": [
    "errorOneLayer = []\n",
    "\n",
    "for i in range(1, 40):  \n",
    "    mlpTestError = MLPClassifier(solver='lbfgs', alpha=1e-5, \n",
    "                    hidden_layer_sizes=(i,), random_state=1)\n",
    "    mlpTestError.fit(X_train, y_train)\n",
    "    pred_i = mlpTestError.predict(X_test)\n",
    "    errorOneLayer.append(np.mean(pred_i != y_test))\n",
    "    \n",
    "plt.figure(figsize=(12, 6))  \n",
    "plt.plot(range(1, 40), errorOneLayer, color='red', linestyle='dashed', marker='o',  \n",
    "         markerfacecolor='cyan', markersize=10)\n",
    "plt.title('Taxa de erro / quantidade de neurônios')  \n",
    "plt.xlabel('Quantidade de neurônios')  \n",
    "plt.ylabel('Erro médio')"
   ]
  },
  {
   "cell_type": "markdown",
   "metadata": {},
   "source": [
    "<p> </p>\n",
    "<h4>Taxa de erro com 2 camadas na rede neural </h4>"
   ]
  },
  {
   "cell_type": "code",
   "execution_count": 309,
   "metadata": {},
   "outputs": [
    {
     "data": {
      "text/plain": [
       "Text(0, 0.5, 'Erro médio')"
      ]
     },
     "execution_count": 309,
     "metadata": {},
     "output_type": "execute_result"
    },
    {
     "data": {
      "image/png": "[encoded data removed]",
      "text/plain": [
       "<Figure size 864x432 with 1 Axes>"
      ]
     },
     "metadata": {
      "needs_background": "light"
     },
     "output_type": "display_data"
    }
   ],
   "source": [
    "errorTwoLayers = []\n",
    "\n",
    "for i in range(1, 40):  \n",
    "    mlpTestError = MLPClassifier(solver='lbfgs', alpha=1e-5, \n",
    "                    hidden_layer_sizes=(i, i, ), random_state=1)\n",
    "    mlpTestError.fit(X_train, y_train)\n",
    "    pred_i = mlpTestError.predict(X_test)\n",
    "    errorTwoLayers.append(np.mean(pred_i != y_test))\n",
    "    \n",
    "plt.figure(figsize=(12, 6))  \n",
    "plt.plot(range(1, 40), errorTwoLayers, color='red', linestyle='dashed', marker='o',  \n",
    "         markerfacecolor='cyan', markersize=10)\n",
    "plt.title('Taxa de erro / quantidade de neurônios')  \n",
    "plt.xlabel('Quantidade de neurônios')  \n",
    "plt.ylabel('Erro médio')"
   ]
  },
  {
   "cell_type": "markdown",
   "metadata": {},
   "source": [
    "<h3> K-means supervisionado (Neighbors Nearest Centroid) </h3>"
   ]
  },
  {
   "cell_type": "code",
   "execution_count": 384,
   "metadata": {},
   "outputs": [],
   "source": [
    "from sklearn.neighbors.nearest_centroid import NearestCentroid"
   ]
  },
  {
   "cell_type": "code",
   "execution_count": 324,
   "metadata": {},
   "outputs": [
    {
     "name": "stdout",
     "output_type": "stream",
     "text": [
      "A taxa de acerto do Nearest Centroid (K-Means supervisionado) com o primeiro conjunto de parâmetros foi: 72.52%\n",
      "\n"
     ]
    }
   ],
   "source": [
    "nc1 = NearestCentroid()\n",
    "\n",
    "algorithmExecute(nc1, trainAndTest)\n",
    "\n",
    "print('A taxa de acerto do Nearest Centroid (K-Means supervisionado) com o primeiro conjunto de parâmetros foi: {:.2f}%\\n'.format(taxa))"
   ]
  },
  {
   "cell_type": "code",
   "execution_count": 325,
   "metadata": {},
   "outputs": [
    {
     "name": "stdout",
     "output_type": "stream",
     "text": [
      "A taxa de acerto do Nearest Centroid (K-Means supervisionado) com o segundo conjunto de parâmetros foi: 72.52%\n",
      "\n"
     ]
    }
   ],
   "source": [
    "from sklearn.neighbors.nearest_centroid import NearestCentroid\n",
    "\n",
    "nc2 = NearestCentroid() #VERIFICAR QUAIS PARÂMETROS PODEM SER ALTERADOS\n",
    "\n",
    "algorithmExecute(nc2, trainAndTest)\n",
    "\n",
    "print('A taxa de acerto do Nearest Centroid (K-Means supervisionado) com o segundo conjunto de parâmetros foi: {:.2f}%\\n'.format(taxa))"
   ]
  },
  {
   "cell_type": "markdown",
   "metadata": {},
   "source": [
    "<p></p>\n",
    "<p> Para o Nearest Centroid com a segunda opção de parâmetros: </p>"
   ]
  },
  {
   "cell_type": "code",
   "execution_count": 316,
   "metadata": {},
   "outputs": [
    {
     "name": "stdout",
     "output_type": "stream",
     "text": [
      "MATRIZ DE CONFUSÃO:\n",
      " [[7940 3004]\n",
      " [ 392 1021]]\n",
      "\n",
      "RELATÓRIO DE CLASSIFICAÇÃO:\n",
      "               precision    recall  f1-score   support\n",
      "\n",
      "           0       0.95      0.73      0.82     10944\n",
      "           1       0.25      0.72      0.38      1413\n",
      "\n",
      "   micro avg       0.73      0.73      0.73     12357\n",
      "   macro avg       0.60      0.72      0.60     12357\n",
      "weighted avg       0.87      0.73      0.77     12357\n",
      "\n"
     ]
    }
   ],
   "source": [
    "print(\"MATRIZ DE CONFUSÃO:\\n\", confusion_matrix(y_test, y_pred)) \n",
    "print(\"\\nRELATÓRIO DE CLASSIFICAÇÃO:\\n\", classification_report(y_test, y_pred))"
   ]
  },
  {
   "cell_type": "markdown",
   "metadata": {},
   "source": [
    "<h3> SVM (Support Vector Machine)</h3>\n"
   ]
  },
  {
   "cell_type": "code",
   "execution_count": 385,
   "metadata": {},
   "outputs": [],
   "source": [
    "from sklearn import svm"
   ]
  },
  {
   "cell_type": "code",
   "execution_count": 328,
   "metadata": {},
   "outputs": [
    {
     "name": "stdout",
     "output_type": "stream",
     "text": [
      "A taxa de acerto do SVM com o primeiro conjunto de parâmetros foi: 88.87%\n"
     ]
    }
   ],
   "source": [
    "svmClf1 = svm.SVC(gamma='scale')\n",
    "\n",
    "algorithmExecute(svmClf1, trainAndTest)\n",
    "\n",
    "print('A taxa de acerto do SVM com o primeiro conjunto de parâmetros foi: {:.2f}%'.format(taxa))\n"
   ]
  },
  {
   "cell_type": "code",
   "execution_count": 347,
   "metadata": {},
   "outputs": [
    {
     "name": "stdout",
     "output_type": "stream",
     "text": [
      "A taxa de acerto do SVM com o segundo conjunto de parâmetros foi: 88.87%\n"
     ]
    }
   ],
   "source": [
    "svmClf2 = svm.SVC(gamma='scale') #MUDAR ALGUNS PARÂMETROS DO SVM E TESTAR\n",
    "\n",
    "algorithmExecute(svmClf2, trainAndTest)\n",
    "\n",
    "print('A taxa de acerto do SVM com o segundo conjunto de parâmetros foi: {:.2f}%'.format(taxa))"
   ]
  },
  {
   "cell_type": "markdown",
   "metadata": {},
   "source": [
    "<p></p>\n",
    "<p> Para o SVM com o segundo conjunto de parâmetros: </p>"
   ]
  },
  {
   "cell_type": "code",
   "execution_count": 341,
   "metadata": {},
   "outputs": [
    {
     "name": "stdout",
     "output_type": "stream",
     "text": [
      "MATRIZ DE CONFUSÃO:\n",
      " [[10707   237]\n",
      " [ 1132   281]]\n",
      "\n",
      "RELATÓRIO DE CLASSIFICAÇÃO:\n",
      "               precision    recall  f1-score   support\n",
      "\n",
      "           0       0.90      0.98      0.94     10944\n",
      "           1       0.54      0.20      0.29      1413\n",
      "\n",
      "   micro avg       0.89      0.89      0.89     12357\n",
      "   macro avg       0.72      0.59      0.62     12357\n",
      "weighted avg       0.86      0.89      0.87     12357\n",
      "\n"
     ]
    }
   ],
   "source": [
    "print(\"MATRIZ DE CONFUSÃO:\\n\", confusion_matrix(y_test, y_pred)) \n",
    "print(\"\\nRELATÓRIO DE CLASSIFICAÇÃO:\\n\", classification_report(y_test, y_pred))"
   ]
  },
  {
   "cell_type": "markdown",
   "metadata": {},
   "source": [
    "<h3> Decision Tree  </h3>\n"
   ]
  },
  {
   "cell_type": "code",
   "execution_count": null,
   "metadata": {},
   "outputs": [],
   "source": [
    "from sklearn import tree"
   ]
  },
  {
   "cell_type": "code",
   "execution_count": 333,
   "metadata": {},
   "outputs": [
    {
     "name": "stdout",
     "output_type": "stream",
     "text": [
      "A taxa de acerto da Árvore de Decisão com o primeiro conjunto de parâmetros foi: 88.92%\n"
     ]
    }
   ],
   "source": [
    "decisionTree1 = tree.DecisionTreeClassifier()\n",
    "\n",
    "algorithmExecute(decisionTree1, trainAndTest)\n",
    "\n",
    "print('A taxa de acerto da Árvore de Decisão com o primeiro conjunto de parâmetros foi: {:.2f}%'.format(percent))"
   ]
  },
  {
   "cell_type": "code",
   "execution_count": 343,
   "metadata": {},
   "outputs": [
    {
     "name": "stdout",
     "output_type": "stream",
     "text": [
      "A taxa de acerto da Árvore de Decisão com o segunda conjunto de parâmetros foi: 88.92%\n"
     ]
    }
   ],
   "source": [
    "decisionTree2 = tree.DecisionTreeClassifier(criterion= 'entropy', max_depth=10, presort=True)\n",
    "\n",
    "algorithmExecute(decisionTree2, trainAndTest)\n",
    "\n",
    "print('A taxa de acerto da Árvore de Decisão com o segunda conjunto de parâmetros foi: {:.2f}%'.format(percent))"
   ]
  },
  {
   "cell_type": "markdown",
   "metadata": {},
   "source": [
    "<p></p>\n",
    "<p> Para a Árvore de Decisão com o segunda conjunto de parâmetros: </p>"
   ]
  },
  {
   "cell_type": "code",
   "execution_count": 344,
   "metadata": {},
   "outputs": [
    {
     "name": "stdout",
     "output_type": "stream",
     "text": [
      "MATRIZ DE CONFUSÃO:\n",
      " [[10707   237]\n",
      " [ 1132   281]]\n",
      "\n",
      "RELATÓRIO DE CLASSIFICAÇÃO:\n",
      "               precision    recall  f1-score   support\n",
      "\n",
      "           0       0.90      0.98      0.94     10944\n",
      "           1       0.54      0.20      0.29      1413\n",
      "\n",
      "   micro avg       0.89      0.89      0.89     12357\n",
      "   macro avg       0.72      0.59      0.62     12357\n",
      "weighted avg       0.86      0.89      0.87     12357\n",
      "\n"
     ]
    }
   ],
   "source": [
    "print(\"MATRIZ DE CONFUSÃO:\\n\", confusion_matrix(y_test, y_pred)) \n",
    "print(\"\\nRELATÓRIO DE CLASSIFICAÇÃO:\\n\", classification_report(y_test, y_pred))"
   ]
  },
  {
   "cell_type": "markdown",
   "metadata": {},
   "source": [
    "<h3> K-Fold Cross Validation  </h3>\n"
   ]
  },
  {
   "cell_type": "code",
   "execution_count": null,
   "metadata": {},
   "outputs": [],
   "source": [
    "from sklearn import model_selection\n",
    "from sklearn.model_selection import KFold"
   ]
  },
  {
   "cell_type": "code",
   "execution_count": 360,
   "metadata": {},
   "outputs": [],
   "source": [
    "def kfoldExecute(mlp, nc, svmClf, decisionTree) :\n",
    "    models = []\n",
    "    models.append((\"MLP: \", mlp))\n",
    "    models.append((\"NC: \", nc))\n",
    "    models.append((\"SVM: \", svmClf))\n",
    "    models.append((\"DT: \", decisionTree))\n",
    "    seed=7\n",
    "    results = []\n",
    "    names = []\n",
    "    scoring = 'accuracy'\n",
    "    for i in range(2,5): \n",
    "        print(\"\\nCom\", i, \"folds:\")\n",
    "        for name, model in models:\n",
    "            kfold = model_selection.KFold(n_splits=i, random_state=seed)\n",
    "            cv_results = model_selection.cross_val_score(model, X, y, cv=kfold, scoring=scoring)\n",
    "            results.append(cv_results)\n",
    "            names.append(name)\n",
    "            msg = \"%s: %f (%f)\" % (name, cv_results.mean(), cv_results.std())\n",
    "            print(msg)\n",
    "\n",
    "    print('\\n')\n",
    "    fig = plt.figure()\n",
    "    fig.suptitle('Comparação dos algoritmos')\n",
    "    ax = fig.add_subplot(111)\n",
    "    plt.boxplot(results)\n",
    "    ax.set_xticklabels(names)\n",
    "    plt.show()"
   ]
  },
  {
   "cell_type": "code",
   "execution_count": 361,
   "metadata": {},
   "outputs": [
    {
     "name": "stdout",
     "output_type": "stream",
     "text": [
      "\n",
      "Com 2 folds:\n",
      "MLP: : 0.887346 (0.065893)\n",
      "NC: : 0.641862 (0.311377)\n",
      "SVM: : 0.744804 (0.076649)\n",
      "DT: : 0.470914 (0.350539)\n",
      "\n",
      "Com 3 folds:\n",
      "MLP: : 0.887344 (0.091263)\n",
      "NC: : 0.715032 (0.334626)\n",
      "SVM: : 0.887344 (0.091263)\n",
      "DT: : 0.887757 (0.090683)\n",
      "\n",
      "Com 4 folds:\n",
      "MLP: : 0.887346 (0.087123)\n",
      "NC: : 0.719724 (0.283937)\n",
      "SVM: : 0.887346 (0.087123)\n",
      "DT: : 0.887346 (0.087123)\n",
      "\n",
      "\n"
     ]
    },
    {
     "data": {
      "image/png": "[encoded data removed]",
      "text/plain": [
       "<Figure size 432x288 with 1 Axes>"
      ]
     },
     "metadata": {
      "needs_background": "light"
     },
     "output_type": "display_data"
    }
   ],
   "source": [
    "kfoldExecute(mlp1, nc1, svmClf1, decisionTree1)"
   ]
  },
  {
   "cell_type": "code",
   "execution_count": 362,
   "metadata": {},
   "outputs": [
    {
     "name": "stdout",
     "output_type": "stream",
     "text": [
      "\n",
      "Com 2 folds:\n",
      "MLP: : 0.887346 (0.065893)\n",
      "NC: : 0.641862 (0.311377)\n",
      "SVM: : 0.744804 (0.076649)\n",
      "DT: : 0.470914 (0.350539)\n",
      "\n",
      "Com 3 folds:\n",
      "MLP: : 0.887344 (0.091263)\n",
      "NC: : 0.715032 (0.334626)\n",
      "SVM: : 0.887344 (0.091263)\n",
      "DT: : 0.887344 (0.091263)\n",
      "\n",
      "Com 4 folds:\n",
      "MLP: : 0.887346 (0.087123)\n",
      "NC: : 0.719724 (0.283937)\n",
      "SVM: : 0.887346 (0.087123)\n",
      "DT: : 0.887346 (0.087123)\n",
      "\n",
      "\n"
     ]
    },
    {
     "data": {
      "image/png": "[encoded data removed]",
      "text/plain": [
       "<Figure size 432x288 with 1 Axes>"
      ]
     },
     "metadata": {
      "needs_background": "light"
     },
     "output_type": "display_data"
    }
   ],
   "source": [
    "kfoldExecute(mlp2, nc2, svmClf2, decisionTree2)"
   ]
  },
  {
   "cell_type": "markdown",
   "metadata": {},
   "source": [
    "<h2>Hipótese \"Há uma relação que engloba o intervalo entre ligações e a resposta\"</h2>"
   ]
  },
  {
   "cell_type": "code",
   "execution_count": 366,
   "metadata": {},
   "outputs": [],
   "source": [
    "#INPUTS\n",
    "X = phone_calls[['not_contacted', 'contacted_a_few_days_ ago', 'contacted_several_days_ago']].values\n",
    "trainAndTest = setTrainTest(X, y)"
   ]
  },
  {
   "cell_type": "markdown",
   "metadata": {},
   "source": [
    "<h2>Hipótese \"O tempo de duração da ligação está relacionado com a resposta\"</h2>"
   ]
  },
  {
   "cell_type": "code",
   "execution_count": 367,
   "metadata": {},
   "outputs": [],
   "source": [
    "#INPUTS\n",
    "X = phone_calls[['short', 'mean', 'long']].values\n",
    "trainAndTest = setTrainTest(X, y)"
   ]
  },
  {
   "cell_type": "markdown",
   "metadata": {},
   "source": [
    "<h2>Hipótese \"O fato do cliente ter algum tipo de empréstimo influencia na resposta\"</h2>"
   ]
  },
  {
   "cell_type": "code",
   "execution_count": 380,
   "metadata": {},
   "outputs": [],
   "source": [
    "#INPUTS\n",
    "X = phone_calls['in_debt'].values\n",
    "trainAndTest = setTrainTest(X, y)"
   ]
  },
  {
   "cell_type": "code",
   "execution_count": null,
   "metadata": {},
   "outputs": [],
   "source": []
  }
 ],
 "metadata": {
  "kernelspec": {
   "display_name": "Python 3",
   "language": "python",
   "name": "python3"
  },
  "language_info": {
   "codemirror_mode": {
    "name": "ipython",
    "version": 3
   },
   "file_extension": ".py",
   "mimetype": "text/x-python",
   "name": "python",
   "nbconvert_exporter": "python",
   "pygments_lexer": "ipython3",
   "version": "3.7.3"
  }
 },
 "nbformat": 4,
 "nbformat_minor": 2
}
