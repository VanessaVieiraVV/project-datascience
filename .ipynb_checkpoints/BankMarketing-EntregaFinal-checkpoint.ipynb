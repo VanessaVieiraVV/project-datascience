{
 "cells": [
  {
   "cell_type": "markdown",
   "metadata": {},
   "source": [
    "<h1> Projeto da disciplina Tópicos Avançados em SI 6 (Ciência dos Dados)</h1>\n",
    "<h4> Centro de Informática - Universidade Federal de Pernambuco (CIn - UFPE) </h4>\n",
    "<h4> Professor: Fernando Neto </h4>\n",
    "<h4> Equipe: Márcio de Aquino, Vanessa Vieira </h4>\n",
    "<br>\n",
    "<h2> Base de dados: <a href=https://archive.ics.uci.edu/ml/datasets/Bank+Marketing> Bank Marketing </a> </h2>"
   ]
  },
  {
   "cell_type": "markdown",
   "metadata": {},
   "source": [
    "## Hipóteses:\n",
    "- É possível identificar e classificar um grupo mais provável de aceitar o depósito a prazo\n",
    "- Há uma relação entre os grupos que aceitam o depósito e a situação sócio-econômica do período\n",
    "- Há uma relação que engloba o intervalo entre ligações e a resposta\n",
    "- O tempo de duração da ligação está relacionado com a resposta\n",
    "- O fato do cliente ter algum empréstimo influencia na resposta\n"
   ]
  },
  {
   "cell_type": "markdown",
   "metadata": {},
   "source": [
    "## Pré-processamento"
   ]
  },
  {
   "cell_type": "code",
   "execution_count": 2,
   "metadata": {},
   "outputs": [],
   "source": [
    "import pandas as pd\n",
    "import numpy as np\n",
    "import matplotlib.pyplot as plt\n",
    "from sklearn import preprocessing\n",
    "\n",
    "%matplotlib inline"
   ]
  },
  {
   "cell_type": "code",
   "execution_count": 3,
   "metadata": {},
   "outputs": [],
   "source": [
    "phone_calls = pd.read_csv('./bank-additional/bank-additional-full.csv')"
   ]
  },
  {
   "cell_type": "markdown",
   "metadata": {},
   "source": [
    "<p> </p>\n",
    "<p> </p>\n",
    "<h4> Verificando se há algum valor nulo</h4>"
   ]
  },
  {
   "cell_type": "code",
   "execution_count": 4,
   "metadata": {},
   "outputs": [
    {
     "data": {
      "text/plain": [
       "age               0\n",
       "job               0\n",
       "marital           0\n",
       "education         0\n",
       "default           0\n",
       "housing           0\n",
       "loan              0\n",
       "contact           0\n",
       "month             0\n",
       "day_of_week       0\n",
       "duration          0\n",
       "campaign          0\n",
       "pdays             0\n",
       "previous          0\n",
       "poutcome          0\n",
       "emp.var.rate      0\n",
       "cons.price.idx    0\n",
       "cons.conf.idx     0\n",
       "euribor3m         0\n",
       "nr.employed       0\n",
       "y                 0\n",
       "dtype: int64"
      ]
     },
     "execution_count": 4,
     "metadata": {},
     "output_type": "execute_result"
    }
   ],
   "source": [
    "phone_calls.isnull().sum()"
   ]
  },
  {
   "cell_type": "markdown",
   "metadata": {},
   "source": [
    "<p> </p>\n",
    "<h4> Verificando alguns atributos categóricos importantes, para checar se alguma linha foge do padrão</h4>"
   ]
  },
  {
   "cell_type": "code",
   "execution_count": 5,
   "metadata": {},
   "outputs": [
    {
     "name": "stdout",
     "output_type": "stream",
     "text": [
      "no         32588\n",
      "unknown     8597\n",
      "yes            3\n",
      "Name: default, dtype: int64\n",
      "yes        21576\n",
      "no         18622\n",
      "unknown      990\n",
      "Name: housing, dtype: int64\n",
      "no         33950\n",
      "yes         6248\n",
      "unknown      990\n",
      "Name: loan, dtype: int64\n",
      "cellular     26144\n",
      "telephone    15044\n",
      "Name: contact, dtype: int64\n",
      "may    13769\n",
      "jul     7174\n",
      "aug     6178\n",
      "jun     5318\n",
      "nov     4101\n",
      "apr     2632\n",
      "oct      718\n",
      "sep      570\n",
      "mar      546\n",
      "dec      182\n",
      "Name: month, dtype: int64\n",
      "thu    8623\n",
      "mon    8514\n",
      "wed    8134\n",
      "tue    8090\n",
      "fri    7827\n",
      "Name: day_of_week, dtype: int64\n",
      "nonexistent    35563\n",
      "failure         4252\n",
      "success         1373\n",
      "Name: poutcome, dtype: int64\n",
      "no     36548\n",
      "yes     4640\n",
      "Name: y, dtype: int64\n"
     ]
    }
   ],
   "source": [
    "categorical_atributes = ['default', 'housing', 'loan', 'contact', 'month', 'day_of_week', 'poutcome', 'y']\n",
    "for a in categorical_atributes :\n",
    "    print(phone_calls[a].value_counts())"
   ]
  },
  {
   "cell_type": "markdown",
   "metadata": {},
   "source": [
    "<p></p>\n",
    "<h4> Verificando informações importantes dos dados númericos</h4>"
   ]
  },
  {
   "cell_type": "code",
   "execution_count": 6,
   "metadata": {},
   "outputs": [
    {
     "data": {
      "text/html": [
       "<div>\n",
       "<style scoped>\n",
       "    .dataframe tbody tr th:only-of-type {\n",
       "        vertical-align: middle;\n",
       "    }\n",
       "\n",
       "    .dataframe tbody tr th {\n",
       "        vertical-align: top;\n",
       "    }\n",
       "\n",
       "    .dataframe thead th {\n",
       "        text-align: right;\n",
       "    }\n",
       "</style>\n",
       "<table border=\"1\" class=\"dataframe\">\n",
       "  <thead>\n",
       "    <tr style=\"text-align: right;\">\n",
       "      <th></th>\n",
       "      <th>age</th>\n",
       "      <th>duration</th>\n",
       "      <th>campaign</th>\n",
       "      <th>pdays</th>\n",
       "      <th>previous</th>\n",
       "      <th>emp.var.rate</th>\n",
       "      <th>cons.price.idx</th>\n",
       "      <th>cons.conf.idx</th>\n",
       "      <th>euribor3m</th>\n",
       "      <th>nr.employed</th>\n",
       "    </tr>\n",
       "  </thead>\n",
       "  <tbody>\n",
       "    <tr>\n",
       "      <th>count</th>\n",
       "      <td>41188.00000</td>\n",
       "      <td>41188.000000</td>\n",
       "      <td>41188.000000</td>\n",
       "      <td>41188.000000</td>\n",
       "      <td>41188.000000</td>\n",
       "      <td>41188.000000</td>\n",
       "      <td>41188.000000</td>\n",
       "      <td>41188.000000</td>\n",
       "      <td>41188.000000</td>\n",
       "      <td>41188.000000</td>\n",
       "    </tr>\n",
       "    <tr>\n",
       "      <th>mean</th>\n",
       "      <td>40.02406</td>\n",
       "      <td>258.285010</td>\n",
       "      <td>2.567593</td>\n",
       "      <td>962.475454</td>\n",
       "      <td>0.172963</td>\n",
       "      <td>0.081886</td>\n",
       "      <td>93.575664</td>\n",
       "      <td>-40.502600</td>\n",
       "      <td>3.621291</td>\n",
       "      <td>5167.035911</td>\n",
       "    </tr>\n",
       "    <tr>\n",
       "      <th>std</th>\n",
       "      <td>10.42125</td>\n",
       "      <td>259.279249</td>\n",
       "      <td>2.770014</td>\n",
       "      <td>186.910907</td>\n",
       "      <td>0.494901</td>\n",
       "      <td>1.570960</td>\n",
       "      <td>0.578840</td>\n",
       "      <td>4.628198</td>\n",
       "      <td>1.734447</td>\n",
       "      <td>72.251528</td>\n",
       "    </tr>\n",
       "    <tr>\n",
       "      <th>min</th>\n",
       "      <td>17.00000</td>\n",
       "      <td>0.000000</td>\n",
       "      <td>1.000000</td>\n",
       "      <td>0.000000</td>\n",
       "      <td>0.000000</td>\n",
       "      <td>-3.400000</td>\n",
       "      <td>92.201000</td>\n",
       "      <td>-50.800000</td>\n",
       "      <td>0.634000</td>\n",
       "      <td>4963.600000</td>\n",
       "    </tr>\n",
       "    <tr>\n",
       "      <th>25%</th>\n",
       "      <td>32.00000</td>\n",
       "      <td>102.000000</td>\n",
       "      <td>1.000000</td>\n",
       "      <td>999.000000</td>\n",
       "      <td>0.000000</td>\n",
       "      <td>-1.800000</td>\n",
       "      <td>93.075000</td>\n",
       "      <td>-42.700000</td>\n",
       "      <td>1.344000</td>\n",
       "      <td>5099.100000</td>\n",
       "    </tr>\n",
       "    <tr>\n",
       "      <th>50%</th>\n",
       "      <td>38.00000</td>\n",
       "      <td>180.000000</td>\n",
       "      <td>2.000000</td>\n",
       "      <td>999.000000</td>\n",
       "      <td>0.000000</td>\n",
       "      <td>1.100000</td>\n",
       "      <td>93.749000</td>\n",
       "      <td>-41.800000</td>\n",
       "      <td>4.857000</td>\n",
       "      <td>5191.000000</td>\n",
       "    </tr>\n",
       "    <tr>\n",
       "      <th>75%</th>\n",
       "      <td>47.00000</td>\n",
       "      <td>319.000000</td>\n",
       "      <td>3.000000</td>\n",
       "      <td>999.000000</td>\n",
       "      <td>0.000000</td>\n",
       "      <td>1.400000</td>\n",
       "      <td>93.994000</td>\n",
       "      <td>-36.400000</td>\n",
       "      <td>4.961000</td>\n",
       "      <td>5228.100000</td>\n",
       "    </tr>\n",
       "    <tr>\n",
       "      <th>max</th>\n",
       "      <td>98.00000</td>\n",
       "      <td>4918.000000</td>\n",
       "      <td>56.000000</td>\n",
       "      <td>999.000000</td>\n",
       "      <td>7.000000</td>\n",
       "      <td>1.400000</td>\n",
       "      <td>94.767000</td>\n",
       "      <td>-26.900000</td>\n",
       "      <td>5.045000</td>\n",
       "      <td>5228.100000</td>\n",
       "    </tr>\n",
       "  </tbody>\n",
       "</table>\n",
       "</div>"
      ],
      "text/plain": [
       "               age      duration      campaign         pdays      previous  \\\n",
       "count  41188.00000  41188.000000  41188.000000  41188.000000  41188.000000   \n",
       "mean      40.02406    258.285010      2.567593    962.475454      0.172963   \n",
       "std       10.42125    259.279249      2.770014    186.910907      0.494901   \n",
       "min       17.00000      0.000000      1.000000      0.000000      0.000000   \n",
       "25%       32.00000    102.000000      1.000000    999.000000      0.000000   \n",
       "50%       38.00000    180.000000      2.000000    999.000000      0.000000   \n",
       "75%       47.00000    319.000000      3.000000    999.000000      0.000000   \n",
       "max       98.00000   4918.000000     56.000000    999.000000      7.000000   \n",
       "\n",
       "       emp.var.rate  cons.price.idx  cons.conf.idx     euribor3m   nr.employed  \n",
       "count  41188.000000    41188.000000   41188.000000  41188.000000  41188.000000  \n",
       "mean       0.081886       93.575664     -40.502600      3.621291   5167.035911  \n",
       "std        1.570960        0.578840       4.628198      1.734447     72.251528  \n",
       "min       -3.400000       92.201000     -50.800000      0.634000   4963.600000  \n",
       "25%       -1.800000       93.075000     -42.700000      1.344000   5099.100000  \n",
       "50%        1.100000       93.749000     -41.800000      4.857000   5191.000000  \n",
       "75%        1.400000       93.994000     -36.400000      4.961000   5228.100000  \n",
       "max        1.400000       94.767000     -26.900000      5.045000   5228.100000  "
      ]
     },
     "execution_count": 6,
     "metadata": {},
     "output_type": "execute_result"
    }
   ],
   "source": [
    "phone_calls.describe()"
   ]
  },
  {
   "cell_type": "markdown",
   "metadata": {},
   "source": [
    "<h2> Discretizando e categorizando dados </h2>"
   ]
  },
  {
   "cell_type": "markdown",
   "metadata": {},
   "source": [
    "<h3> Discretizando os dados sócio-econômicos em quantis </h3>"
   ]
  },
  {
   "cell_type": "code",
   "execution_count": 8,
   "metadata": {},
   "outputs": [
    {
     "data": {
      "text/plain": [
       "emp_var_rate_4    23997\n",
       "emp_var_rate_2    10592\n",
       "emp_var_rate_3     3693\n",
       "emp_var_rate_1     2906\n",
       "Name: emp_var_rate_cat, dtype: int64"
      ]
     },
     "execution_count": 8,
     "metadata": {},
     "output_type": "execute_result"
    }
   ],
   "source": [
    "#quartiles = pd.cut(phone_calls['emp.var.rate'], 4, labels=range(1,5))\n",
    "quartiles = pd.cut(phone_calls['emp.var.rate'], 4, labels=['emp_var_rate_1', 'emp_var_rate_2', 'emp_var_rate_3', 'emp_var_rate_4'])\n",
    "\n",
    "phone_calls = phone_calls.assign(emp_var_rate_cat=quartiles.values)\n",
    "phone_calls['emp_var_rate_cat'].value_counts()"
   ]
  },
  {
   "cell_type": "code",
   "execution_count": 9,
   "metadata": {},
   "outputs": [
    {
     "data": {
      "text/plain": [
       "cons_price_idx_2    18304\n",
       "cons_price_idx_3    15363\n",
       "cons_price_idx_4     5320\n",
       "cons_price_idx_1     2201\n",
       "Name: cons_price_idx_cat, dtype: int64"
      ]
     },
     "execution_count": 9,
     "metadata": {},
     "output_type": "execute_result"
    }
   ],
   "source": [
    "quartiles = pd.cut(phone_calls['cons.price.idx'], 4, labels=['cons_price_idx_1', 'cons_price_idx_2', 'cons_price_idx_3', 'cons_price_idx_4'])\n",
    "phone_calls = phone_calls.assign(cons_price_idx_cat=quartiles.values)\n",
    "phone_calls['cons_price_idx_cat'].value_counts()"
   ]
  },
  {
   "cell_type": "code",
   "execution_count": 10,
   "metadata": {},
   "outputs": [
    {
     "data": {
      "text/plain": [
       "cons_conf_idx_2    16209\n",
       "cons_conf_idx_3    14262\n",
       "cons_conf_idx_1     8876\n",
       "cons_conf_idx_4     1841\n",
       "Name: cons_conf_idx_cat, dtype: int64"
      ]
     },
     "execution_count": 10,
     "metadata": {},
     "output_type": "execute_result"
    }
   ],
   "source": [
    "quartiles = pd.cut(phone_calls['cons.conf.idx'], 4, labels=['cons_conf_idx_1', 'cons_conf_idx_2', 'cons_conf_idx_3', 'cons_conf_idx_4'])\n",
    "phone_calls = phone_calls.assign(cons_conf_idx_cat=quartiles.values)\n",
    "phone_calls['cons_conf_idx_cat'].value_counts()"
   ]
  },
  {
   "cell_type": "code",
   "execution_count": 11,
   "metadata": {},
   "outputs": [
    {
     "data": {
      "text/plain": [
       "euribor3m_4    27676\n",
       "euribor3m_1    13430\n",
       "euribor3m_2       68\n",
       "euribor3m_3       14\n",
       "Name: euribor3m_cat, dtype: int64"
      ]
     },
     "execution_count": 11,
     "metadata": {},
     "output_type": "execute_result"
    }
   ],
   "source": [
    "quartiles = pd.cut(phone_calls['euribor3m'], 4, labels=['euribor3m_1', 'euribor3m_2', 'euribor3m_3', 'euribor3m_4'])\n",
    "phone_calls = phone_calls.assign(euribor3m_cat=quartiles.values)\n",
    "phone_calls['euribor3m_cat'].value_counts()"
   ]
  },
  {
   "cell_type": "code",
   "execution_count": 12,
   "metadata": {},
   "outputs": [
    {
     "data": {
      "text/plain": [
       "nr_employed_4    27690\n",
       "nr_employed_3     8534\n",
       "nr_employed_1     3301\n",
       "nr_employed_2     1663\n",
       "Name: nr_employed_cat, dtype: int64"
      ]
     },
     "execution_count": 12,
     "metadata": {},
     "output_type": "execute_result"
    }
   ],
   "source": [
    "quartiles = pd.cut(phone_calls['nr.employed'], 4, labels=['nr_employed_1', 'nr_employed_2', 'nr_employed_3', 'nr_employed_4'])\n",
    "phone_calls = phone_calls.assign(nr_employed_cat=quartiles.values)\n",
    "phone_calls['nr_employed_cat'].value_counts()"
   ]
  },
  {
   "cell_type": "markdown",
   "metadata": {},
   "source": [
    "<h3> Categorizando outros dados </h3>"
   ]
  },
  {
   "cell_type": "code",
   "execution_count": 13,
   "metadata": {},
   "outputs": [
    {
     "data": {
      "text/plain": [
       "middle-aged    26625\n",
       "youngers        7383\n",
       "olders          7180\n",
       "Name: age_cat, dtype: int64"
      ]
     },
     "execution_count": 13,
     "metadata": {},
     "output_type": "execute_result"
    }
   ],
   "source": [
    "criteria = [phone_calls['age'].between(0, 30), phone_calls['age'].between(31, 50), phone_calls['age'].between(50, 200)]\n",
    "values = ['youngers', 'middle-aged', 'olders']\n",
    "\n",
    "phone_calls['age_cat'] = np.select(criteria, values, 0)\n",
    "phone_calls['age_cat'].value_counts()"
   ]
  },
  {
   "cell_type": "code",
   "execution_count": 14,
   "metadata": {},
   "outputs": [
    {
     "data": {
      "text/plain": [
       "mean     26438\n",
       "long     13665\n",
       "short     1085\n",
       "Name: duration_cat, dtype: int64"
      ]
     },
     "execution_count": 14,
     "metadata": {},
     "output_type": "execute_result"
    }
   ],
   "source": [
    "criteria = [phone_calls['duration'].between(0, 20), phone_calls['duration'].between(21, phone_calls['duration'].mean()), phone_calls['duration'].between(phone_calls['duration'].mean(), phone_calls['duration'].max())]\n",
    "values = ['short', 'mean', 'long']\n",
    "\n",
    "phone_calls['duration_cat'] = np.select(criteria, values, 0)\n",
    "phone_calls['duration_cat'].value_counts()"
   ]
  },
  {
   "cell_type": "code",
   "execution_count": 15,
   "metadata": {},
   "outputs": [
    {
     "data": {
      "text/plain": [
       "0    28212\n",
       "1    12976\n",
       "Name: campaign_cat, dtype: int64"
      ]
     },
     "execution_count": 15,
     "metadata": {},
     "output_type": "execute_result"
    }
   ],
   "source": [
    "criteria = [phone_calls['campaign'].between(0, phone_calls['campaign'].mean()), phone_calls['campaign'].between(phone_calls['campaign'].mean(), phone_calls['campaign'].max())]\n",
    "values = [0, 1]\n",
    "\n",
    "phone_calls['campaign_cat'] = np.select(criteria, values, 0)\n",
    "phone_calls['campaign_cat'].value_counts()"
   ]
  },
  {
   "cell_type": "code",
   "execution_count": 143,
   "metadata": {},
   "outputs": [
    {
     "data": {
      "text/plain": [
       "not_contacted                 39673\n",
       "contacted_a_few_days_ago       1117\n",
       "contacted_several_days_ago      398\n",
       "Name: pdays_cat, dtype: int64"
      ]
     },
     "execution_count": 143,
     "metadata": {},
     "output_type": "execute_result"
    }
   ],
   "source": [
    "pdays_without_999 = np.array([x for x in phone_calls['pdays'] if x != 999])\n",
    "\n",
    "criteria = [phone_calls['pdays'].between(999,999), phone_calls['pdays'].between(0, pdays_without_999.mean()), phone_calls['pdays'].between(pdays_without_999.mean(), pdays_without_999.max())]\n",
    "values = ['not_contacted', 'contacted_a_few_days_ago', 'contacted_several_days_ago']\n",
    "\n",
    "phone_calls['pdays_cat'] = np.select(criteria, values, 0)\n",
    "phone_calls['pdays_cat'].value_counts()"
   ]
  },
  {
   "cell_type": "code",
   "execution_count": 17,
   "metadata": {},
   "outputs": [
    {
     "data": {
      "text/plain": [
       "0    35563\n",
       "1     5625\n",
       "Name: previous_cat, dtype: int64"
      ]
     },
     "execution_count": 17,
     "metadata": {},
     "output_type": "execute_result"
    }
   ],
   "source": [
    "criteria = [phone_calls['previous'].between(0, phone_calls['previous'].mean()), phone_calls['previous'].between(phone_calls['previous'].mean(), phone_calls['previous'].max())]\n",
    "values = [0, 1]\n",
    "\n",
    "phone_calls['previous_cat'] = np.select(criteria, values, 0)\n",
    "phone_calls['previous_cat'].value_counts()"
   ]
  },
  {
   "cell_type": "markdown",
   "metadata": {},
   "source": [
    "<h3> Convertendo atributos categóricos em binários </h3>\n"
   ]
  },
  {
   "cell_type": "code",
   "execution_count": 18,
   "metadata": {},
   "outputs": [],
   "source": [
    "#executar para converter o atributo de saída para binário\n",
    "results = {'no': 0, 'yes': 1}\n",
    "phone_calls.y = [ results[el] for el in phone_calls.y]"
   ]
  },
  {
   "cell_type": "code",
   "execution_count": 19,
   "metadata": {},
   "outputs": [],
   "source": [
    "#executar para converter o atributo de contact para binário\n",
    "results = {'telephone': 0, 'cellular': 1}\n",
    "phone_calls.contact = [ results[el] for el in phone_calls.contact]"
   ]
  },
  {
   "cell_type": "code",
   "execution_count": 20,
   "metadata": {},
   "outputs": [],
   "source": [
    "phone_calls =  phone_calls.join(pd.get_dummies(phone_calls.pop('job')), lsuffix=\"job_\", rsuffix=\"_job\")\n",
    "phone_calls =  phone_calls.join(pd.get_dummies(phone_calls.pop('marital')), rsuffix=\"_marital\" )\n",
    "phone_calls =  phone_calls.join(pd.get_dummies(phone_calls.pop('default')), rsuffix=\"_default\" )\n",
    "phone_calls =  phone_calls.join(pd.get_dummies(phone_calls.pop('education')), rsuffix=\"_education\" )\n",
    "phone_calls =  phone_calls.join(pd.get_dummies(phone_calls.pop('housing')), rsuffix=\"_housing\" )\n",
    "phone_calls =  phone_calls.join(pd.get_dummies(phone_calls.pop('loan')), rsuffix=\"_loan\" )\n",
    "phone_calls =  phone_calls.join(pd.get_dummies(phone_calls.pop('month')), rsuffix=\"_month\" )\n",
    "phone_calls =  phone_calls.join(pd.get_dummies(phone_calls.pop('day_of_week')), rsuffix=\"_day_of_week\" )\n",
    "phone_calls =  phone_calls.join(pd.get_dummies(phone_calls.pop('poutcome')), lsuffix=\"poutcome_\", rsuffix=\"_poutcome\" )"
   ]
  },
  {
   "cell_type": "code",
   "execution_count": 21,
   "metadata": {},
   "outputs": [
    {
     "data": {
      "text/html": [
       "<div>\n",
       "<style scoped>\n",
       "    .dataframe tbody tr th:only-of-type {\n",
       "        vertical-align: middle;\n",
       "    }\n",
       "\n",
       "    .dataframe tbody tr th {\n",
       "        vertical-align: top;\n",
       "    }\n",
       "\n",
       "    .dataframe thead th {\n",
       "        text-align: right;\n",
       "    }\n",
       "</style>\n",
       "<table border=\"1\" class=\"dataframe\">\n",
       "  <thead>\n",
       "    <tr style=\"text-align: right;\">\n",
       "      <th></th>\n",
       "      <th>age</th>\n",
       "      <th>contact</th>\n",
       "      <th>duration</th>\n",
       "      <th>campaign</th>\n",
       "      <th>pdays</th>\n",
       "      <th>previous</th>\n",
       "      <th>emp.var.rate</th>\n",
       "      <th>cons.price.idx</th>\n",
       "      <th>cons.conf.idx</th>\n",
       "      <th>euribor3m</th>\n",
       "      <th>...</th>\n",
       "      <th>oct</th>\n",
       "      <th>sep</th>\n",
       "      <th>fri</th>\n",
       "      <th>mon</th>\n",
       "      <th>thu</th>\n",
       "      <th>tue</th>\n",
       "      <th>wed</th>\n",
       "      <th>failure</th>\n",
       "      <th>nonexistent</th>\n",
       "      <th>success</th>\n",
       "    </tr>\n",
       "  </thead>\n",
       "  <tbody>\n",
       "    <tr>\n",
       "      <th>0</th>\n",
       "      <td>56</td>\n",
       "      <td>0</td>\n",
       "      <td>261</td>\n",
       "      <td>1</td>\n",
       "      <td>999</td>\n",
       "      <td>0</td>\n",
       "      <td>1.1</td>\n",
       "      <td>93.994</td>\n",
       "      <td>-36.4</td>\n",
       "      <td>4.857</td>\n",
       "      <td>...</td>\n",
       "      <td>0</td>\n",
       "      <td>0</td>\n",
       "      <td>0</td>\n",
       "      <td>1</td>\n",
       "      <td>0</td>\n",
       "      <td>0</td>\n",
       "      <td>0</td>\n",
       "      <td>0</td>\n",
       "      <td>1</td>\n",
       "      <td>0</td>\n",
       "    </tr>\n",
       "    <tr>\n",
       "      <th>1</th>\n",
       "      <td>57</td>\n",
       "      <td>0</td>\n",
       "      <td>149</td>\n",
       "      <td>1</td>\n",
       "      <td>999</td>\n",
       "      <td>0</td>\n",
       "      <td>1.1</td>\n",
       "      <td>93.994</td>\n",
       "      <td>-36.4</td>\n",
       "      <td>4.857</td>\n",
       "      <td>...</td>\n",
       "      <td>0</td>\n",
       "      <td>0</td>\n",
       "      <td>0</td>\n",
       "      <td>1</td>\n",
       "      <td>0</td>\n",
       "      <td>0</td>\n",
       "      <td>0</td>\n",
       "      <td>0</td>\n",
       "      <td>1</td>\n",
       "      <td>0</td>\n",
       "    </tr>\n",
       "    <tr>\n",
       "      <th>2</th>\n",
       "      <td>37</td>\n",
       "      <td>0</td>\n",
       "      <td>226</td>\n",
       "      <td>1</td>\n",
       "      <td>999</td>\n",
       "      <td>0</td>\n",
       "      <td>1.1</td>\n",
       "      <td>93.994</td>\n",
       "      <td>-36.4</td>\n",
       "      <td>4.857</td>\n",
       "      <td>...</td>\n",
       "      <td>0</td>\n",
       "      <td>0</td>\n",
       "      <td>0</td>\n",
       "      <td>1</td>\n",
       "      <td>0</td>\n",
       "      <td>0</td>\n",
       "      <td>0</td>\n",
       "      <td>0</td>\n",
       "      <td>1</td>\n",
       "      <td>0</td>\n",
       "    </tr>\n",
       "    <tr>\n",
       "      <th>3</th>\n",
       "      <td>40</td>\n",
       "      <td>0</td>\n",
       "      <td>151</td>\n",
       "      <td>1</td>\n",
       "      <td>999</td>\n",
       "      <td>0</td>\n",
       "      <td>1.1</td>\n",
       "      <td>93.994</td>\n",
       "      <td>-36.4</td>\n",
       "      <td>4.857</td>\n",
       "      <td>...</td>\n",
       "      <td>0</td>\n",
       "      <td>0</td>\n",
       "      <td>0</td>\n",
       "      <td>1</td>\n",
       "      <td>0</td>\n",
       "      <td>0</td>\n",
       "      <td>0</td>\n",
       "      <td>0</td>\n",
       "      <td>1</td>\n",
       "      <td>0</td>\n",
       "    </tr>\n",
       "    <tr>\n",
       "      <th>4</th>\n",
       "      <td>56</td>\n",
       "      <td>0</td>\n",
       "      <td>307</td>\n",
       "      <td>1</td>\n",
       "      <td>999</td>\n",
       "      <td>0</td>\n",
       "      <td>1.1</td>\n",
       "      <td>93.994</td>\n",
       "      <td>-36.4</td>\n",
       "      <td>4.857</td>\n",
       "      <td>...</td>\n",
       "      <td>0</td>\n",
       "      <td>0</td>\n",
       "      <td>0</td>\n",
       "      <td>1</td>\n",
       "      <td>0</td>\n",
       "      <td>0</td>\n",
       "      <td>0</td>\n",
       "      <td>0</td>\n",
       "      <td>1</td>\n",
       "      <td>0</td>\n",
       "    </tr>\n",
       "  </tbody>\n",
       "</table>\n",
       "<p>5 rows × 74 columns</p>\n",
       "</div>"
      ],
      "text/plain": [
       "   age  contact  duration  campaign  pdays  previous  emp.var.rate  \\\n",
       "0   56        0       261         1    999         0           1.1   \n",
       "1   57        0       149         1    999         0           1.1   \n",
       "2   37        0       226         1    999         0           1.1   \n",
       "3   40        0       151         1    999         0           1.1   \n",
       "4   56        0       307         1    999         0           1.1   \n",
       "\n",
       "   cons.price.idx  cons.conf.idx  euribor3m  ...  oct  sep  fri mon thu tue  \\\n",
       "0          93.994          -36.4      4.857  ...    0    0    0   1   0   0   \n",
       "1          93.994          -36.4      4.857  ...    0    0    0   1   0   0   \n",
       "2          93.994          -36.4      4.857  ...    0    0    0   1   0   0   \n",
       "3          93.994          -36.4      4.857  ...    0    0    0   1   0   0   \n",
       "4          93.994          -36.4      4.857  ...    0    0    0   1   0   0   \n",
       "\n",
       "  wed failure nonexistent success  \n",
       "0   0       0           1       0  \n",
       "1   0       0           1       0  \n",
       "2   0       0           1       0  \n",
       "3   0       0           1       0  \n",
       "4   0       0           1       0  \n",
       "\n",
       "[5 rows x 74 columns]"
      ]
     },
     "execution_count": 21,
     "metadata": {},
     "output_type": "execute_result"
    }
   ],
   "source": [
    "phone_calls.head()"
   ]
  },
  {
   "cell_type": "code",
   "execution_count": 22,
   "metadata": {},
   "outputs": [],
   "source": [
    "phone_calls =  phone_calls.join(pd.get_dummies(phone_calls.pop('emp_var_rate_cat')))\n",
    "phone_calls =  phone_calls.join(pd.get_dummies(phone_calls.pop('cons_price_idx_cat')))\n",
    "phone_calls =  phone_calls.join(pd.get_dummies(phone_calls.pop('cons_conf_idx_cat')))\n",
    "phone_calls =  phone_calls.join(pd.get_dummies(phone_calls.pop('euribor3m_cat')))\n",
    "phone_calls =  phone_calls.join(pd.get_dummies(phone_calls.pop('nr_employed_cat')))\n",
    "\n",
    "phone_calls =  phone_calls.join(pd.get_dummies(phone_calls.pop('age_cat')), lsuffix=\"age_cat_\", rsuffix=\"_age_cat\")\n",
    "phone_calls =  phone_calls.join(pd.get_dummies(phone_calls.pop('duration_cat')), lsuffix=\"duration_cat_\", rsuffix=\"_duration_cat\")\n",
    "phone_calls =  phone_calls.join(pd.get_dummies(phone_calls.pop('pdays_cat')), lsuffix=\"pdays_cat_\", rsuffix=\"_pdays_cat\")"
   ]
  },
  {
   "cell_type": "code",
   "execution_count": 23,
   "metadata": {},
   "outputs": [
    {
     "data": {
      "text/html": [
       "<div>\n",
       "<style scoped>\n",
       "    .dataframe tbody tr th:only-of-type {\n",
       "        vertical-align: middle;\n",
       "    }\n",
       "\n",
       "    .dataframe tbody tr th {\n",
       "        vertical-align: top;\n",
       "    }\n",
       "\n",
       "    .dataframe thead th {\n",
       "        text-align: right;\n",
       "    }\n",
       "</style>\n",
       "<table border=\"1\" class=\"dataframe\">\n",
       "  <thead>\n",
       "    <tr style=\"text-align: right;\">\n",
       "      <th></th>\n",
       "      <th>age</th>\n",
       "      <th>contact</th>\n",
       "      <th>duration</th>\n",
       "      <th>campaign</th>\n",
       "      <th>pdays</th>\n",
       "      <th>previous</th>\n",
       "      <th>emp.var.rate</th>\n",
       "      <th>cons.price.idx</th>\n",
       "      <th>cons.conf.idx</th>\n",
       "      <th>euribor3m</th>\n",
       "      <th>...</th>\n",
       "      <th>nr_employed_4</th>\n",
       "      <th>middle-aged</th>\n",
       "      <th>olders</th>\n",
       "      <th>youngers</th>\n",
       "      <th>long</th>\n",
       "      <th>mean</th>\n",
       "      <th>short</th>\n",
       "      <th>contacted_a_few_days_ ago</th>\n",
       "      <th>contacted_several_days_ago</th>\n",
       "      <th>not_contacted</th>\n",
       "    </tr>\n",
       "  </thead>\n",
       "  <tbody>\n",
       "    <tr>\n",
       "      <th>0</th>\n",
       "      <td>56</td>\n",
       "      <td>0</td>\n",
       "      <td>261</td>\n",
       "      <td>1</td>\n",
       "      <td>999</td>\n",
       "      <td>0</td>\n",
       "      <td>1.1</td>\n",
       "      <td>93.994</td>\n",
       "      <td>-36.4</td>\n",
       "      <td>4.857</td>\n",
       "      <td>...</td>\n",
       "      <td>1</td>\n",
       "      <td>0</td>\n",
       "      <td>1</td>\n",
       "      <td>0</td>\n",
       "      <td>1</td>\n",
       "      <td>0</td>\n",
       "      <td>0</td>\n",
       "      <td>0</td>\n",
       "      <td>0</td>\n",
       "      <td>1</td>\n",
       "    </tr>\n",
       "    <tr>\n",
       "      <th>1</th>\n",
       "      <td>57</td>\n",
       "      <td>0</td>\n",
       "      <td>149</td>\n",
       "      <td>1</td>\n",
       "      <td>999</td>\n",
       "      <td>0</td>\n",
       "      <td>1.1</td>\n",
       "      <td>93.994</td>\n",
       "      <td>-36.4</td>\n",
       "      <td>4.857</td>\n",
       "      <td>...</td>\n",
       "      <td>1</td>\n",
       "      <td>0</td>\n",
       "      <td>1</td>\n",
       "      <td>0</td>\n",
       "      <td>0</td>\n",
       "      <td>1</td>\n",
       "      <td>0</td>\n",
       "      <td>0</td>\n",
       "      <td>0</td>\n",
       "      <td>1</td>\n",
       "    </tr>\n",
       "    <tr>\n",
       "      <th>2</th>\n",
       "      <td>37</td>\n",
       "      <td>0</td>\n",
       "      <td>226</td>\n",
       "      <td>1</td>\n",
       "      <td>999</td>\n",
       "      <td>0</td>\n",
       "      <td>1.1</td>\n",
       "      <td>93.994</td>\n",
       "      <td>-36.4</td>\n",
       "      <td>4.857</td>\n",
       "      <td>...</td>\n",
       "      <td>1</td>\n",
       "      <td>1</td>\n",
       "      <td>0</td>\n",
       "      <td>0</td>\n",
       "      <td>0</td>\n",
       "      <td>1</td>\n",
       "      <td>0</td>\n",
       "      <td>0</td>\n",
       "      <td>0</td>\n",
       "      <td>1</td>\n",
       "    </tr>\n",
       "    <tr>\n",
       "      <th>3</th>\n",
       "      <td>40</td>\n",
       "      <td>0</td>\n",
       "      <td>151</td>\n",
       "      <td>1</td>\n",
       "      <td>999</td>\n",
       "      <td>0</td>\n",
       "      <td>1.1</td>\n",
       "      <td>93.994</td>\n",
       "      <td>-36.4</td>\n",
       "      <td>4.857</td>\n",
       "      <td>...</td>\n",
       "      <td>1</td>\n",
       "      <td>1</td>\n",
       "      <td>0</td>\n",
       "      <td>0</td>\n",
       "      <td>0</td>\n",
       "      <td>1</td>\n",
       "      <td>0</td>\n",
       "      <td>0</td>\n",
       "      <td>0</td>\n",
       "      <td>1</td>\n",
       "    </tr>\n",
       "    <tr>\n",
       "      <th>4</th>\n",
       "      <td>56</td>\n",
       "      <td>0</td>\n",
       "      <td>307</td>\n",
       "      <td>1</td>\n",
       "      <td>999</td>\n",
       "      <td>0</td>\n",
       "      <td>1.1</td>\n",
       "      <td>93.994</td>\n",
       "      <td>-36.4</td>\n",
       "      <td>4.857</td>\n",
       "      <td>...</td>\n",
       "      <td>1</td>\n",
       "      <td>0</td>\n",
       "      <td>1</td>\n",
       "      <td>0</td>\n",
       "      <td>1</td>\n",
       "      <td>0</td>\n",
       "      <td>0</td>\n",
       "      <td>0</td>\n",
       "      <td>0</td>\n",
       "      <td>1</td>\n",
       "    </tr>\n",
       "  </tbody>\n",
       "</table>\n",
       "<p>5 rows × 95 columns</p>\n",
       "</div>"
      ],
      "text/plain": [
       "   age  contact  duration  campaign  pdays  previous  emp.var.rate  \\\n",
       "0   56        0       261         1    999         0           1.1   \n",
       "1   57        0       149         1    999         0           1.1   \n",
       "2   37        0       226         1    999         0           1.1   \n",
       "3   40        0       151         1    999         0           1.1   \n",
       "4   56        0       307         1    999         0           1.1   \n",
       "\n",
       "   cons.price.idx  cons.conf.idx  euribor3m  ...  nr_employed_4  middle-aged  \\\n",
       "0          93.994          -36.4      4.857  ...              1            0   \n",
       "1          93.994          -36.4      4.857  ...              1            0   \n",
       "2          93.994          -36.4      4.857  ...              1            1   \n",
       "3          93.994          -36.4      4.857  ...              1            1   \n",
       "4          93.994          -36.4      4.857  ...              1            0   \n",
       "\n",
       "   olders  youngers  long  mean  short  contacted_a_few_days_ ago  \\\n",
       "0       1         0     1     0      0                          0   \n",
       "1       1         0     0     1      0                          0   \n",
       "2       0         0     0     1      0                          0   \n",
       "3       0         0     0     1      0                          0   \n",
       "4       1         0     1     0      0                          0   \n",
       "\n",
       "   contacted_several_days_ago  not_contacted  \n",
       "0                           0              1  \n",
       "1                           0              1  \n",
       "2                           0              1  \n",
       "3                           0              1  \n",
       "4                           0              1  \n",
       "\n",
       "[5 rows x 95 columns]"
      ]
     },
     "execution_count": 23,
     "metadata": {},
     "output_type": "execute_result"
    }
   ],
   "source": [
    "phone_calls.head()"
   ]
  },
  {
   "cell_type": "code",
   "execution_count": null,
   "metadata": {},
   "outputs": [],
   "source": [
    "final_list_of_collumns = []\n",
    "for x in phone_calls: final_list_of_collumns.append(x)\n",
    "print(\"Lista final de colunas:\", final_list_of_collumns)"
   ]
  },
  {
   "cell_type": "markdown",
   "metadata": {},
   "source": [
    "<h1> Executando de Inteligência Artificial para cada hipótese</h1>"
   ]
  },
  {
   "cell_type": "code",
   "execution_count": 25,
   "metadata": {},
   "outputs": [],
   "source": [
    "from sklearn.metrics import accuracy_score #função que calcula taxa de acerto\n",
    "from sklearn.model_selection import train_test_split #função que particiona os dados em treino e teste\n",
    "from sklearn.metrics import classification_report, confusion_matrix    "
   ]
  },
  {
   "cell_type": "markdown",
   "metadata": {},
   "source": [
    "<h2> Separando conjuntos de treino e de teste </h2>"
   ]
  },
  {
   "cell_type": "code",
   "execution_count": 186,
   "metadata": {},
   "outputs": [],
   "source": [
    "#OUTPUT (target)\n",
    "y = phone_calls['y'].values"
   ]
  },
  {
   "cell_type": "code",
   "execution_count": 27,
   "metadata": {},
   "outputs": [],
   "source": [
    "def setTrainTest(X, y):\n",
    "    #dividindo os conjuntos de entrada e saída em conjuntos de 70% p/ treino e de 30% p/ teste \n",
    "    X_train, X_test, y_train, y_test = train_test_split(\n",
    "        X, y, test_size=0.30, random_state=1)\n",
    "    return X_train, X_test, y_train, y_test"
   ]
  },
  {
   "cell_type": "markdown",
   "metadata": {},
   "source": [
    "<p></p>\n",
    "<h2>Função que irá executar cada um dos algoritmos quando for chamada, com os conjuntos de treino e de teste relacionados a cada uma das hipóteses</h2>"
   ]
  },
  {
   "cell_type": "code",
<<<<<<< Updated upstream
   "execution_count": 77,
=======
   "execution_count": 429,
>>>>>>> Stashed changes
   "metadata": {},
   "outputs": [],
   "source": [
    "def algorithmExecute(algorithm, X_train, X_test, y_train, y_test) :\n",
    "\n",
    "    #TREINAMENTO\n",
    "    algorithm.fit(X_train, y_train)   #a funcao fit treina a rede neural com o conjunto de entrada X e a saida esperada y\n",
    "\n",
    "    #TESTE\n",
    "    y_pred = algorithm.predict(X_test) #prediz qual a classe que pertence ao conjunto de teste\n",
    "\n",
    "    #CONFERINDO RESULTADOS\n",
    "    taxa = accuracy_score(y_test, y_pred)*100\n",
    "    \n",
    "    return taxa, y_pred"
   ]
  },
  {
   "cell_type": "markdown",
   "metadata": {},
   "source": [
    "<p></p>\n",
    "<h2>Função que irá mostrar matriz de confusão e relatório de classificação para cada um dos algoritmos em cada uma das hipóteses</h2>"
   ]
  },
  {
<<<<<<< Updated upstream
   "cell_type": "code",
   "execution_count": 287,
   "metadata": {},
   "outputs": [],
   "source": [
    "def confusionAndClassification(algorithm, X_train, X_test, y_train, y_test):\n",
    "    y_pred = algorithmExecute(algorithm, X_train, X_test, y_train, y_test)[1]\n",
    "\n",
    "    print(\"MATRIZ DE CONFUSÃO:\\n\", confusion_matrix(y_test, y_pred)) \n",
    "    print(\"\\nRELATÓRIO DE CLASSIFICAÇÃO:\\n\", classification_report(y_test, y_pred))"
=======
   "cell_type": "markdown",
   "metadata": {},
   "source": [
    "### Sobre o relatório de classificação:\n",
    "* Precision: Precisão das previsões positivas.\n",
    "<p>Precision = TP / (TP + FP)</p>\n",
    "* Recall: Lembre-se: Fração de positivos que foram corretamente identificados.\n",
    "<p>Recall = TP / (TP + FN)</p>\n",
    "* F1 Score: Porcentagem de previsões positivas corretas.\n",
    "<p>F1 Score = 2 * (Recall * Precision) / (Recall + Precision)</p>\n",
    "* Support: Quantidade de elementos no conjunto de teste"
>>>>>>> Stashed changes
   ]
  },
  {
   "cell_type": "code",
   "execution_count": 428,
   "metadata": {},
   "outputs": [],
   "source": [
    "def confusionAndClassification(y_test, y_pred):\n",
    "    print(\"MATRIZ DE CONFUSÃO:\\n\", confusion_matrix(y_test, y_pred)) \n",
    "    print(\"\\nRELATÓRIO DE CLASSIFICAÇÃO:\\n\", classification_report(y_test, y_pred))"
   ]
  },
  {
   "cell_type": "markdown",
   "metadata": {},
   "source": [
    "<h3> Função que irá gerar gráfico de erros para 1 ou 2 camadas ocultas do MLP, com variação na quantidade de neurônios </h3>"
   ]
  },
  {
   "cell_type": "code",
<<<<<<< Updated upstream
   "execution_count": 307,
   "metadata": {},
   "outputs": [],
   "source": [
    "def mlpExecute(H_accuracy):\n",
    "    solvers_list = [\"adam\", \"lbfgs\"]\n",
    "    alphas_list = [0.0001, 1e-5]\n",
    "    hidden_layer_sizes_list = [20, 150]\n",
    "    cont=1\n",
    "    for s in solvers_list:\n",
    "        for a in alphas_list:\n",
    "            for l in hidden_layer_sizes_list:\n",
    "                mlp = MLPClassifier(solver=s, alpha=a, \n",
    "                        hidden_layer_sizes=(l,), random_state=1)\n",
    "                algorithmExecute = algorithmExecute(mlp, X_train, X_test, y_train, y_test)\n",
    "                taxa = algorithmExecute[0]\n",
    "                y_pred_ = algorithmExecute[1]\n",
    "                y_pred = y_pred_\n",
    "                taxa = '{:.2f}%'.format(taxa)\n",
    "                H_accuracy['Acc MLP'].loc[cont] = taxa\n",
    "                H_accuracy['Parâmetros MLP'].loc[cont] = 'solv='+str(s)+', alp='+str(a)+', h_l_s=('+str(l)+',)'\n",
    "                cont+=1\n",
    "    return y_pred\n"
=======
   "execution_count": 437,
   "metadata": {},
   "outputs": [],
   "source": [
    "def graficoErroMLP(numCamadas, mlp):\n",
    "    errorOneLayer=[]\n",
    "    if numCamadas == 1:\n",
    "        for i in range(1, 40):  \n",
    "            mlp = MLPClassifier(hidden_layer_sizes=(i, ))\n",
    "            mlp.fit(X_train, y_train)\n",
    "            pred_i = mlp.predict(X_test)\n",
    "            errorOneLayer.append(np.mean(pred_i != y_test))\n",
    "    elif numCamadas == 2:\n",
    "        for i in range(1, 40):  \n",
    "            mlp = MLPClassifier(hidden_layer_sizes=(i, i, ))\n",
    "            mlp.fit(X_train, y_train)\n",
    "            pred_i = mlp.predict(X_test)\n",
    "            errorOneLayer.append(np.mean(pred_i != y_test))\n",
    "    plt.figure(figsize=(12, 6))  \n",
    "    plt.plot(range(1, 40), errorOneLayer, color='red', linestyle='dashed', marker='o',  \n",
    "             markerfacecolor='cyan', markersize=10)\n",
    "    plt.title('Taxa de erro / quantidade de neurônios')  \n",
    "    plt.xlabel('Quantidade de neurônios')  \n",
    "    plt.ylabel('Erro médio')"
>>>>>>> Stashed changes
   ]
  },
  {
   "cell_type": "code",
   "execution_count": null,
   "metadata": {},
   "outputs": [],
   "source": []
  },
  {
   "cell_type": "markdown",
   "metadata": {},
   "source": [
    "<h3> K-Fold Cross Validation  </h3>\n"
   ]
  },
  {
   "cell_type": "code",
   "execution_count": null,
   "metadata": {},
   "outputs": [],
   "source": [
    "from sklearn import model_selection\n",
    "from sklearn.model_selection import KFold"
   ]
  },
  {
   "cell_type": "code",
<<<<<<< Updated upstream
   "execution_count": 292,
   "metadata": {},
   "outputs": [],
   "source": [
    "#def confusionAndClassification(algorithm, X_train, X_test, y_train, y_test):\n",
    "def confusionAndClassification(algorithmExecute):\n",
    "    algorithmExecute[1]\n",
    "\n",
    "    print(\"MATRIZ DE CONFUSÃO:\\n\", confusion_matrix(y_test, y_pred)) \n",
    "    print(\"\\nRELATÓRIO DE CLASSIFICAÇÃO:\\n\", classification_report(y_test, y_pred))"
=======
   "execution_count": 440,
   "metadata": {},
   "outputs": [],
   "source": [
    "def kfoldExecute(mlp, nc, knn, dt) :\n",
    "    models = []\n",
    "    models.append((\"MLP: \", mlp))\n",
    "    models.append((\"NC: \", nc))\n",
    "    models.append((\"KNN: \", knn))\n",
    "    models.append((\"DT: \", dt))\n",
    "    seed=7\n",
    "    results = []\n",
    "    names = []\n",
    "    scoring = 'accuracy'\n",
    "    for i in range(2,5): \n",
    "        print(\"\\nCom\", i, \"folds:\")\n",
    "        for name, model in models:\n",
    "            kfold = model_selection.KFold(n_splits=i, random_state=seed)\n",
    "            cv_results = model_selection.cross_val_score(model, X, y, cv=kfold, scoring=scoring)\n",
    "            results.append(cv_results)\n",
    "            names.append(name)\n",
    "            msg = \"%s: %f (%f)\" % (name, cv_results.mean(), cv_results.std())\n",
    "            print(msg)\n",
    "\n",
    "    print('\\n')\n",
    "    fig = plt.figure()\n",
    "    fig.suptitle('Comparação dos algoritmos')\n",
    "    ax = fig.add_subplot(111)\n",
    "    plt.boxplot(results)\n",
    "    ax.set_xticklabels(names)\n",
    "    plt.show()"
>>>>>>> Stashed changes
   ]
  },
  {
   "cell_type": "markdown",
   "metadata": {},
   "source": [
    "<h2> Algoritmos de classificação </h2>"
   ]
  },
  {
   "cell_type": "markdown",
   "metadata": {},
   "source": [
    "<h3> MLP (Multilayer Perceptron) </h3>\n"
   ]
  },
  {
   "cell_type": "code",
   "execution_count": 30,
   "metadata": {},
   "outputs": [],
   "source": [
    "from sklearn.neural_network import MLPClassifier"
   ]
  },
  {
   "cell_type": "code",
   "execution_count": 319,
   "metadata": {},
   "outputs": [],
   "source": [
    "def mlpExecute(H_accuracy):\n",
    "    solvers_list = [\"adam\", \"lbfgs\"]\n",
    "    alphas_list = [0.0001, 1e-5]\n",
    "    hidden_layer_sizes_list = [20, 150]\n",
    "    cont=1\n",
    "    taxas=[]\n",
    "    maximo =0\n",
    "    for s in solvers_list:\n",
    "        for a in alphas_list:\n",
    "            for l in hidden_layer_sizes_list:\n",
    "                mlp = MLPClassifier(solver=s, alpha=a, \n",
    "                        hidden_layer_sizes=(l,), random_state=1)\n",
    "                taxa = algorithmExecute(mlp, X_train, X_test, y_train, y_test)[0]\n",
    "                temp = taxa \n",
    "                if temp > maximo:\n",
    "                    maximo = temp\n",
    "                    parametros = mlp\n",
    "                    y_pred = algorithmExecute(mlp, X_train, X_test, y_train, y_test)[1]\n",
    "                    \n",
    "                taxa = '{:.2f}%'.format(taxa)\n",
    "                H_accuracy['Acc MLP'].loc[cont] = taxa\n",
    "                H_accuracy['Parâmetros MLP'].loc[cont] = 'solv='+str(s)+', alp='+str(a)+', h_l_s=('+str(l)+',)'\n",
    "                cont+=1\n",
    "    return y_pred, parametros\n"
   ]
  },
  {
   "cell_type": "markdown",
   "metadata": {},
   "source": [
    "<h3> K-means supervisionado (Neighbors Nearest Centroid) </h3>"
   ]
  },
  {
   "cell_type": "code",
   "execution_count": 202,
   "metadata": {},
   "outputs": [],
   "source": [
    "from sklearn.neighbors.nearest_centroid import NearestCentroid"
   ]
  },
  {
   "cell_type": "code",
   "execution_count": 425,
   "metadata": {},
   "outputs": [],
   "source": [
    "def ncExecute(H_accuracy):\n",
    "    shrink_threshold_list = [None, 3.5]\n",
    "    cont=1\n",
    "    taxas=[]\n",
    "    maximo =0\n",
    "    for s in shrink_threshold_list :\n",
    "        nc = NearestCentroid(shrink_threshold=s)\n",
    "        taxa = algorithmExecute(nc, X_train, X_test, y_train, y_test)[0]\n",
    "        temp = taxa \n",
    "        if temp > maximo:\n",
    "            maximo = temp\n",
    "            parametros = nc\n",
    "            y_pred = algorithmExecute(nc, X_train, X_test, y_train, y_test)[1]\n",
    "\n",
    "        taxa = '{:.2f}%'.format(taxa)\n",
    "        H_accuracy['Acc NC'].loc[cont] = taxa\n",
    "        H_accuracy['Parâmetros NC'].loc[cont] = 's_t=s'\n",
    "        cont+=1    \n",
    "    return y_pred, parametros\n"
   ]
  },
  {
   "cell_type": "markdown",
   "metadata": {},
   "source": [
    "<h3>KNN (k-nearest neighbors)</h3>"
   ]
  },
  {
   "cell_type": "code",
   "execution_count": 224,
   "metadata": {},
   "outputs": [],
   "source": [
    "from sklearn.neighbors import KNeighborsClassifier"
   ]
  },
  {
   "cell_type": "code",
   "execution_count": 426,
   "metadata": {},
   "outputs": [],
   "source": [
    "def knnExecute(H_accuracy):\n",
    "    n_neighbors_list=[3,5]\n",
    "    weights_list=['uniform','distance']\n",
    "    algorithm_list=['auto', 'ball_tree']\n",
    "    cont=1\n",
    "    taxas=[]\n",
    "    maximo =0\n",
    "    for n in n_neighbors_list:\n",
    "        for w in weights_list:\n",
    "            for a in algorithm_list:\n",
    "                knn = KNeighborsClassifier(n_neighbors=n, weights=w,algorithm=a)\n",
    "                taxa = algorithmExecute(knn, X_train, X_test, y_train, y_test)[0]\n",
    "                temp = taxa \n",
    "                if temp > maximo:\n",
    "                    maximo = temp\n",
    "                    parametros = knn\n",
    "                    y_pred = algorithmExecute(knn, X_train, X_test, y_train, y_test)[1]\n",
    "\n",
    "                taxa = '{:.2f}%'.format(taxa)\n",
    "                H_accuracy['Acc KNN'].loc[cont] = taxa\n",
    "                H_accuracy['Parâmetros KNN'].loc[cont] = 'neigh='+str(n)+', weig='+str(w)+', alg='+str(a)\n",
    "                cont+=1\n",
    "    return y_pred, parametros"
   ]
  },
  {
   "cell_type": "markdown",
   "metadata": {},
   "source": [
    "<h3> Decision Tree  </h3>\n"
   ]
  },
  {
   "cell_type": "code",
   "execution_count": 87,
   "metadata": {},
   "outputs": [],
   "source": [
    "from sklearn import tree"
   ]
  },
  {
   "cell_type": "code",
   "execution_count": 427,
   "metadata": {},
   "outputs": [],
   "source": [
    "def dtExecute(H_accuracy):\n",
    "    criterion_list = ['gini', 'entropy']\n",
    "    max_depth_list = [None, 5]\n",
    "    presort_list = [False, True]\n",
    "    cont=1\n",
    "    taxas=[]\n",
    "    maximo =0\n",
    "    for c in criterion_list:\n",
    "        for d in max_depth_list:\n",
    "            for p in presort_list:\n",
    "                dt = tree.DecisionTreeClassifier(criterion=c, max_depth=d, presort=p)\n",
    "                taxa = algorithmExecute(dt, X_train, X_test, y_train, y_test)[0]\n",
    "                temp = taxa \n",
    "                if temp > maximo:\n",
    "                    maximo = temp\n",
    "                    parametros = dt\n",
    "                    y_pred = algorithmExecute(dt, X_train, X_test, y_train, y_test)[1]\n",
    "                    \n",
    "                taxa = '{:.2f}%'.format(taxa)\n",
    "                H_accuracy['Acc DT'].loc[cont] = taxa\n",
    "                H_accuracy['Parâmetros DT'].loc[cont] = 'crit='+str(c)+', m_d='+str(d)+', ps='+str(p)\n",
    "                cont+=1\n",
    "    return y_pred, parametros"
   ]
  },
  {
   "cell_type": "markdown",
   "metadata": {},
   "source": [
    "<h2>Hipótese 1: \"Há uma relação entre os grupos que aceitam o depósito e a situação sócio-econômica do país no período\"</h2>"
   ]
  },
  {
   "cell_type": "code",
   "execution_count": 188,
   "metadata": {},
   "outputs": [],
   "source": [
    "#INPUTS\n",
    "X = phone_calls[['emp_var_rate_1', 'emp_var_rate_2', 'emp_var_rate_3', 'emp_var_rate_4', 'cons_price_idx_1', 'cons_price_idx_2', 'cons_price_idx_3', 'cons_price_idx_4','cons_conf_idx_1', 'cons_conf_idx_2', 'cons_conf_idx_3', 'cons_conf_idx_4', 'euribor3m_1', 'euribor3m_2', 'euribor3m_3', 'euribor3m_4', 'nr_employed_1', 'nr_employed_2', 'nr_employed_3', 'nr_employed_4']].values  \n",
    "X_train, X_test, y_train, y_test = setTrainTest(X, y)"
   ]
  },
  {
   "cell_type": "code",
   "execution_count": 233,
   "metadata": {},
   "outputs": [],
   "source": [
    "H1_accuracy = pd.DataFrame(columns = ['Parâmetros MLP', 'Acc MLP', 'Parâmetros NC', 'Acc NC', 'Parâmetros KNN', 'Acc KNN', 'Parâmetros DT', 'Acc DT', ], index=[x for x in range(1,9)])"
   ]
  },
  {
   "cell_type": "code",
<<<<<<< Updated upstream
   "execution_count": null,
   "metadata": {},
   "outputs": [],
   "source": [
    "def algorithmExecute(algorithm, X_train, X_test, y_train, y_test) :\n",
    "\n",
    "    #TREINAMENTO\n",
    "    algorithm.fit(X_train, y_train)   #a funcao fit treina a rede neural com o conjunto de entrada X e a saida esperada y\n",
    "\n",
    "    #TESTE\n",
    "    y_pred = algorithm.predict(X_test) #prediz qual a classe que pertence ao conjunto de teste\n",
    "\n",
    "    #CONFERINDO RESULTADOS\n",
    "    taxa = accuracy_score(y_test, y_pred)*100\n",
    "    \n",
    "    return taxa, y_pred"
=======
   "execution_count": 423,
   "metadata": {},
   "outputs": [],
   "source": [
    "y_pred = mlpExecute(H1_accuracy)[0]\n",
    "confusionAndClassification(y_test, y_pred)"
>>>>>>> Stashed changes
   ]
  },
  {
   "cell_type": "code",
   "execution_count": null,
   "metadata": {},
   "outputs": [],
   "source": [
<<<<<<< Updated upstream
    "#def confusionAndClassification(algorithm, X_train, X_test, y_train, y_test):\n",
    "def confusionAndClassification(algorithmExecute):\n",
    "    algorithmExecute[1]\n",
    "\n",
    "    print(\"MATRIZ DE CONFUSÃO:\\n\", confusion_matrix(y_test, y_pred)) \n",
    "    print(\"\\nRELATÓRIO DE CLASSIFICAÇÃO:\\n\", classification_report(y_test, y_pred))"
=======
    "y_pred = ncExecute(H1_accuracy)[0]\n",
    "confusionAndClassification(y_test, y_pred)"
>>>>>>> Stashed changes
   ]
  },
  {
   "cell_type": "code",
<<<<<<< Updated upstream
   "execution_count": 302,
   "metadata": {},
   "outputs": [],
   "source": [
    "mlp = MLPClassifier(solver='lbfgs', alpha=1e-5, \n",
    "                    hidden_layer_sizes=(20,), random_state=1)"
=======
   "execution_count": null,
   "metadata": {},
   "outputs": [],
   "source": [
    "y_pred = knnExecute(H1_accuracy)[0]\n",
    "confusionAndClassification(y_test, y_pred)"
>>>>>>> Stashed changes
   ]
  },
  {
   "cell_type": "code",
<<<<<<< Updated upstream
   "execution_count": 308,
   "metadata": {},
   "outputs": [
    {
     "ename": "UnboundLocalError",
     "evalue": "local variable 'algorithmExecute' referenced before assignment",
     "output_type": "error",
     "traceback": [
      "\u001b[1;31m---------------------------------------------------------------------------\u001b[0m",
      "\u001b[1;31mUnboundLocalError\u001b[0m                         Traceback (most recent call last)",
      "\u001b[1;32m<ipython-input-308-6414e4a3e28e>\u001b[0m in \u001b[0;36m<module>\u001b[1;34m\u001b[0m\n\u001b[1;32m----> 1\u001b[1;33m \u001b[0my_pred\u001b[0m \u001b[1;33m=\u001b[0m \u001b[0mmlpExecute\u001b[0m\u001b[1;33m(\u001b[0m\u001b[0mH1_accuracy\u001b[0m\u001b[1;33m)\u001b[0m\u001b[1;33m\u001b[0m\u001b[1;33m\u001b[0m\u001b[0m\n\u001b[0m",
      "\u001b[1;32m<ipython-input-307-e5dda6f8651b>\u001b[0m in \u001b[0;36mmlpExecute\u001b[1;34m(H_accuracy)\u001b[0m\n\u001b[0;32m      9\u001b[0m                 mlp = MLPClassifier(solver=s, alpha=a, \n\u001b[0;32m     10\u001b[0m                         hidden_layer_sizes=(l,), random_state=1)\n\u001b[1;32m---> 11\u001b[1;33m                 \u001b[0malgorithmExecute\u001b[0m \u001b[1;33m=\u001b[0m \u001b[0malgorithmExecute\u001b[0m\u001b[1;33m(\u001b[0m\u001b[0mmlp\u001b[0m\u001b[1;33m,\u001b[0m \u001b[0mX_train\u001b[0m\u001b[1;33m,\u001b[0m \u001b[0mX_test\u001b[0m\u001b[1;33m,\u001b[0m \u001b[0my_train\u001b[0m\u001b[1;33m,\u001b[0m \u001b[0my_test\u001b[0m\u001b[1;33m)\u001b[0m\u001b[1;33m\u001b[0m\u001b[1;33m\u001b[0m\u001b[0m\n\u001b[0m\u001b[0;32m     12\u001b[0m                 \u001b[0mtaxa\u001b[0m \u001b[1;33m=\u001b[0m \u001b[0malgorithmExecute\u001b[0m\u001b[1;33m[\u001b[0m\u001b[1;36m0\u001b[0m\u001b[1;33m]\u001b[0m\u001b[1;33m\u001b[0m\u001b[1;33m\u001b[0m\u001b[0m\n\u001b[0;32m     13\u001b[0m                 \u001b[0my_pred_\u001b[0m \u001b[1;33m=\u001b[0m \u001b[0malgorithmExecute\u001b[0m\u001b[1;33m[\u001b[0m\u001b[1;36m1\u001b[0m\u001b[1;33m]\u001b[0m\u001b[1;33m\u001b[0m\u001b[1;33m\u001b[0m\u001b[0m\n",
      "\u001b[1;31mUnboundLocalError\u001b[0m: local variable 'algorithmExecute' referenced before assignment"
     ]
    }
   ],
   "source": [
    "y_pred = mlpExecute(H1_accuracy)"
   ]
  },
  {
   "cell_type": "code",
   "execution_count": 303,
   "metadata": {},
   "outputs": [
    {
     "ename": "TypeError",
     "evalue": "'tuple' object is not callable",
     "output_type": "error",
     "traceback": [
      "\u001b[1;31m---------------------------------------------------------------------------\u001b[0m",
      "\u001b[1;31mTypeError\u001b[0m                                 Traceback (most recent call last)",
      "\u001b[1;32m<ipython-input-303-26b8f0594e23>\u001b[0m in \u001b[0;36m<module>\u001b[1;34m\u001b[0m\n\u001b[1;32m----> 1\u001b[1;33m \u001b[0malgorithmExecute\u001b[0m \u001b[1;33m=\u001b[0m \u001b[0malgorithmExecute\u001b[0m\u001b[1;33m(\u001b[0m\u001b[0mmlp\u001b[0m\u001b[1;33m,\u001b[0m \u001b[0mX_train\u001b[0m\u001b[1;33m,\u001b[0m \u001b[0mX_test\u001b[0m\u001b[1;33m,\u001b[0m \u001b[0my_train\u001b[0m\u001b[1;33m,\u001b[0m \u001b[0my_test\u001b[0m\u001b[1;33m)\u001b[0m\u001b[1;33m\u001b[0m\u001b[1;33m\u001b[0m\u001b[0m\n\u001b[0m\u001b[0;32m      2\u001b[0m \u001b[0mconfusionAndClassification\u001b[0m\u001b[1;33m(\u001b[0m\u001b[0malgorithmExecute\u001b[0m\u001b[1;33m)\u001b[0m\u001b[1;33m\u001b[0m\u001b[1;33m\u001b[0m\u001b[0m\n",
      "\u001b[1;31mTypeError\u001b[0m: 'tuple' object is not callable"
     ]
    }
   ],
   "source": [
    "algorithmExecute = algorithmExecute(mlp, X_train, X_test, y_train, y_test)\n",
    "confusionAndClassification(algorithmExecute)"
=======
   "execution_count": null,
   "metadata": {},
   "outputs": [],
   "source": [
    "y_pred = dtExecute(H1_accuracy)[0]\n",
    "confusionAndClassification(y_test, y_pred)"
>>>>>>> Stashed changes
   ]
  },
  {
   "cell_type": "code",
<<<<<<< Updated upstream
   "execution_count": 294,
   "metadata": {},
   "outputs": [
    {
     "ename": "TypeError",
     "evalue": "'tuple' object is not callable",
     "output_type": "error",
     "traceback": [
      "\u001b[1;31m---------------------------------------------------------------------------\u001b[0m",
      "\u001b[1;31mTypeError\u001b[0m                                 Traceback (most recent call last)",
      "\u001b[1;32m<ipython-input-294-a782fe66b521>\u001b[0m in \u001b[0;36m<module>\u001b[1;34m\u001b[0m\n\u001b[1;32m----> 1\u001b[1;33m \u001b[0mncExecute\u001b[0m\u001b[1;33m(\u001b[0m\u001b[0mH1_accuracy\u001b[0m\u001b[1;33m)\u001b[0m\u001b[1;33m\u001b[0m\u001b[1;33m\u001b[0m\u001b[0m\n\u001b[0m\u001b[0;32m      2\u001b[0m \u001b[0malgorithmExecute\u001b[0m \u001b[1;33m=\u001b[0m \u001b[0malgorithmExecute\u001b[0m\u001b[1;33m(\u001b[0m\u001b[0mnc\u001b[0m\u001b[1;33m,\u001b[0m \u001b[0mX_train\u001b[0m\u001b[1;33m,\u001b[0m \u001b[0mX_test\u001b[0m\u001b[1;33m,\u001b[0m \u001b[0my_train\u001b[0m\u001b[1;33m,\u001b[0m \u001b[0my_test\u001b[0m\u001b[1;33m)\u001b[0m\u001b[1;33m\u001b[0m\u001b[1;33m\u001b[0m\u001b[0m\n\u001b[0;32m      3\u001b[0m \u001b[0mconfusionAndClassification\u001b[0m\u001b[1;33m(\u001b[0m\u001b[0malgorithmExecute\u001b[0m\u001b[1;33m)\u001b[0m\u001b[1;33m\u001b[0m\u001b[1;33m\u001b[0m\u001b[0m\n",
      "\u001b[1;32m<ipython-input-213-7f3ebcf42fb5>\u001b[0m in \u001b[0;36mncExecute\u001b[1;34m(H_accuracy)\u001b[0m\n\u001b[0;32m      4\u001b[0m     \u001b[1;32mfor\u001b[0m \u001b[0ms\u001b[0m \u001b[1;32min\u001b[0m \u001b[0mshrink_threshold_list\u001b[0m \u001b[1;33m:\u001b[0m\u001b[1;33m\u001b[0m\u001b[1;33m\u001b[0m\u001b[0m\n\u001b[0;32m      5\u001b[0m         \u001b[0mnc\u001b[0m \u001b[1;33m=\u001b[0m \u001b[0mNearestCentroid\u001b[0m\u001b[1;33m(\u001b[0m\u001b[0mshrink_threshold\u001b[0m\u001b[1;33m=\u001b[0m\u001b[0ms\u001b[0m\u001b[1;33m)\u001b[0m\u001b[1;33m\u001b[0m\u001b[1;33m\u001b[0m\u001b[0m\n\u001b[1;32m----> 6\u001b[1;33m         \u001b[0mtaxa\u001b[0m \u001b[1;33m=\u001b[0m \u001b[0malgorithmExecute\u001b[0m\u001b[1;33m(\u001b[0m\u001b[0mnc\u001b[0m\u001b[1;33m,\u001b[0m \u001b[0mX_train\u001b[0m\u001b[1;33m,\u001b[0m \u001b[0mX_test\u001b[0m\u001b[1;33m,\u001b[0m \u001b[0my_train\u001b[0m\u001b[1;33m,\u001b[0m \u001b[0my_test\u001b[0m\u001b[1;33m)\u001b[0m\u001b[1;33m[\u001b[0m\u001b[1;36m0\u001b[0m\u001b[1;33m]\u001b[0m\u001b[1;33m\u001b[0m\u001b[1;33m\u001b[0m\u001b[0m\n\u001b[0m\u001b[0;32m      7\u001b[0m         \u001b[0mtaxa\u001b[0m \u001b[1;33m=\u001b[0m \u001b[1;34m'{:.2f}%'\u001b[0m\u001b[1;33m.\u001b[0m\u001b[0mformat\u001b[0m\u001b[1;33m(\u001b[0m\u001b[0mtaxa\u001b[0m\u001b[1;33m)\u001b[0m\u001b[1;33m\u001b[0m\u001b[1;33m\u001b[0m\u001b[0m\n\u001b[0;32m      8\u001b[0m         \u001b[0mH_accuracy\u001b[0m\u001b[1;33m[\u001b[0m\u001b[1;34m'Acc NC'\u001b[0m\u001b[1;33m]\u001b[0m\u001b[1;33m.\u001b[0m\u001b[0mloc\u001b[0m\u001b[1;33m[\u001b[0m\u001b[0mcont\u001b[0m\u001b[1;33m]\u001b[0m \u001b[1;33m=\u001b[0m \u001b[0mtaxa\u001b[0m\u001b[1;33m\u001b[0m\u001b[1;33m\u001b[0m\u001b[0m\n",
      "\u001b[1;31mTypeError\u001b[0m: 'tuple' object is not callable"
=======
   "execution_count": 405,
   "metadata": {},
   "outputs": [
    {
     "name": "stdout",
     "output_type": "stream",
     "text": [
      "58.274662134822364\n",
      "60.20069596180303\n",
      "maximo 60.20069596180303\n"
>>>>>>> Stashed changes
     ]
    }
   ],
   "source": [
<<<<<<< Updated upstream
    "ncExecute(H1_accuracy)\n",
    "algorithmExecute = algorithmExecute(nc, X_train, X_test, y_train, y_test)\n",
    "confusionAndClassification(algorithmExecute)"
   ]
  },
  {
   "cell_type": "code",
   "execution_count": 243,
   "metadata": {},
   "outputs": [],
   "source": [
    "knnExecute(H1_accuracy)\n",
    "confusionAndClassification(knn, y_train, y_test)"
=======
    "y_pred = ncExecute(H1_accuracy)[0]\n",
    "confusionAndClassification(y_test, y_pred)"
>>>>>>> Stashed changes
   ]
  },
  {
   "cell_type": "code",
<<<<<<< Updated upstream
   "execution_count": 238,
   "metadata": {},
   "outputs": [],
   "source": [
    "dtExecute(H1_accuracy)\n",
    "confusionAndClassification(dt, y_train, y_test)"
   ]
  },
  {
   "cell_type": "code",
   "execution_count": 244,
=======
   "execution_count": 421,
>>>>>>> Stashed changes
   "metadata": {},
   "outputs": [
    {
     "data": {
      "text/html": [
       "<div>\n",
       "<style scoped>\n",
       "    .dataframe tbody tr th:only-of-type {\n",
       "        vertical-align: middle;\n",
       "    }\n",
       "\n",
       "    .dataframe tbody tr th {\n",
       "        vertical-align: top;\n",
       "    }\n",
       "\n",
       "    .dataframe thead th {\n",
       "        text-align: right;\n",
       "    }\n",
       "</style>\n",
       "<table border=\"1\" class=\"dataframe\">\n",
       "  <thead>\n",
       "    <tr style=\"text-align: right;\">\n",
       "      <th></th>\n",
       "      <th>Parâmetros MLP</th>\n",
       "      <th>Acc MLP</th>\n",
       "      <th>Parâmetros NC</th>\n",
       "      <th>Acc NC</th>\n",
       "      <th>Parâmetros KNN</th>\n",
       "      <th>Acc KNN</th>\n",
       "      <th>Parâmetros DT</th>\n",
       "      <th>Acc DT</th>\n",
       "    </tr>\n",
       "  </thead>\n",
       "  <tbody>\n",
       "    <tr>\n",
       "      <th>1</th>\n",
<<<<<<< Updated upstream
       "      <td>solv=adam, alp=0.0001, h_l_s=(20,)</td>\n",
       "      <td>88.86%</td>\n",
       "      <td>s_t=s</td>\n",
       "      <td>72.52%</td>\n",
       "      <td>neigh=3, weig=uniform, alg=auto</td>\n",
       "      <td>88.46%</td>\n",
       "      <td>crit=gini, m_d=None, ps=False</td>\n",
       "      <td>88.92%</td>\n",
       "    </tr>\n",
       "    <tr>\n",
       "      <th>2</th>\n",
       "      <td>solv=adam, alp=0.0001, h_l_s=(150,)</td>\n",
       "      <td>88.90%</td>\n",
       "      <td>s_t=s</td>\n",
       "      <td>72.52%</td>\n",
       "      <td>neigh=3, weig=uniform, alg=ball_tree</td>\n",
       "      <td>88.46%</td>\n",
       "      <td>crit=gini, m_d=None, ps=True</td>\n",
       "      <td>88.92%</td>\n",
       "    </tr>\n",
       "    <tr>\n",
       "      <th>3</th>\n",
       "      <td>solv=adam, alp=1e-05, h_l_s=(20,)</td>\n",
       "      <td>88.86%</td>\n",
       "      <td>NaN</td>\n",
       "      <td>NaN</td>\n",
       "      <td>neigh=3, weig=distance, alg=auto</td>\n",
       "      <td>88.46%</td>\n",
       "      <td>crit=gini, m_d=5, ps=False</td>\n",
       "      <td>88.88%</td>\n",
       "    </tr>\n",
       "    <tr>\n",
       "      <th>4</th>\n",
       "      <td>solv=adam, alp=1e-05, h_l_s=(150,)</td>\n",
       "      <td>88.90%</td>\n",
       "      <td>NaN</td>\n",
       "      <td>NaN</td>\n",
       "      <td>neigh=3, weig=distance, alg=ball_tree</td>\n",
       "      <td>88.46%</td>\n",
       "      <td>crit=gini, m_d=5, ps=True</td>\n",
       "      <td>88.88%</td>\n",
       "    </tr>\n",
       "    <tr>\n",
       "      <th>5</th>\n",
       "      <td>solv=lbfgs, alp=0.0001, h_l_s=(20,)</td>\n",
       "      <td>88.87%</td>\n",
       "      <td>NaN</td>\n",
       "      <td>NaN</td>\n",
       "      <td>neigh=5, weig=uniform, alg=auto</td>\n",
       "      <td>88.41%</td>\n",
       "      <td>crit=entropy, m_d=None, ps=False</td>\n",
       "      <td>88.92%</td>\n",
       "    </tr>\n",
       "    <tr>\n",
       "      <th>6</th>\n",
       "      <td>solv=lbfgs, alp=0.0001, h_l_s=(150,)</td>\n",
       "      <td>88.87%</td>\n",
       "      <td>NaN</td>\n",
       "      <td>NaN</td>\n",
       "      <td>neigh=5, weig=uniform, alg=ball_tree</td>\n",
       "      <td>88.41%</td>\n",
       "      <td>crit=entropy, m_d=None, ps=True</td>\n",
       "      <td>88.92%</td>\n",
       "    </tr>\n",
       "    <tr>\n",
       "      <th>7</th>\n",
       "      <td>solv=lbfgs, alp=1e-05, h_l_s=(20,)</td>\n",
       "      <td>88.87%</td>\n",
       "      <td>NaN</td>\n",
       "      <td>NaN</td>\n",
       "      <td>neigh=5, weig=distance, alg=auto</td>\n",
       "      <td>88.41%</td>\n",
       "      <td>crit=entropy, m_d=5, ps=False</td>\n",
       "      <td>88.92%</td>\n",
       "    </tr>\n",
       "    <tr>\n",
       "      <th>8</th>\n",
       "      <td>solv=lbfgs, alp=1e-05, h_l_s=(150,)</td>\n",
       "      <td>88.87%</td>\n",
       "      <td>NaN</td>\n",
       "      <td>NaN</td>\n",
       "      <td>neigh=5, weig=distance, alg=ball_tree</td>\n",
       "      <td>88.41%</td>\n",
       "      <td>crit=entropy, m_d=5, ps=True</td>\n",
       "      <td>88.92%</td>\n",
=======
       "      <td>NaN</td>\n",
       "      <td>NaN</td>\n",
       "      <td>NaN</td>\n",
       "      <td>NaN</td>\n",
       "      <td>NaN</td>\n",
       "      <td>NaN</td>\n",
       "      <td>crit=gini, m_d=None, ps=False</td>\n",
       "      <td>88.48%</td>\n",
       "    </tr>\n",
       "    <tr>\n",
       "      <th>2</th>\n",
       "      <td>NaN</td>\n",
       "      <td>NaN</td>\n",
       "      <td>NaN</td>\n",
       "      <td>NaN</td>\n",
       "      <td>NaN</td>\n",
       "      <td>NaN</td>\n",
       "      <td>crit=gini, m_d=None, ps=True</td>\n",
       "      <td>88.48%</td>\n",
       "    </tr>\n",
       "    <tr>\n",
       "      <th>3</th>\n",
       "      <td>NaN</td>\n",
       "      <td>NaN</td>\n",
       "      <td>NaN</td>\n",
       "      <td>NaN</td>\n",
       "      <td>NaN</td>\n",
       "      <td>NaN</td>\n",
       "      <td>crit=gini, m_d=5, ps=False</td>\n",
       "      <td>88.47%</td>\n",
       "    </tr>\n",
       "    <tr>\n",
       "      <th>4</th>\n",
       "      <td>NaN</td>\n",
       "      <td>NaN</td>\n",
       "      <td>NaN</td>\n",
       "      <td>NaN</td>\n",
       "      <td>NaN</td>\n",
       "      <td>NaN</td>\n",
       "      <td>crit=gini, m_d=5, ps=True</td>\n",
       "      <td>88.47%</td>\n",
       "    </tr>\n",
       "    <tr>\n",
       "      <th>5</th>\n",
       "      <td>NaN</td>\n",
       "      <td>NaN</td>\n",
       "      <td>NaN</td>\n",
       "      <td>NaN</td>\n",
       "      <td>NaN</td>\n",
       "      <td>NaN</td>\n",
       "      <td>crit=entropy, m_d=None, ps=False</td>\n",
       "      <td>88.48%</td>\n",
       "    </tr>\n",
       "    <tr>\n",
       "      <th>6</th>\n",
       "      <td>NaN</td>\n",
       "      <td>NaN</td>\n",
       "      <td>NaN</td>\n",
       "      <td>NaN</td>\n",
       "      <td>NaN</td>\n",
       "      <td>NaN</td>\n",
       "      <td>crit=entropy, m_d=None, ps=True</td>\n",
       "      <td>88.48%</td>\n",
       "    </tr>\n",
       "    <tr>\n",
       "      <th>7</th>\n",
       "      <td>NaN</td>\n",
       "      <td>NaN</td>\n",
       "      <td>NaN</td>\n",
       "      <td>NaN</td>\n",
       "      <td>NaN</td>\n",
       "      <td>NaN</td>\n",
       "      <td>crit=entropy, m_d=5, ps=False</td>\n",
       "      <td>88.57%</td>\n",
       "    </tr>\n",
       "    <tr>\n",
       "      <th>8</th>\n",
       "      <td>NaN</td>\n",
       "      <td>NaN</td>\n",
       "      <td>NaN</td>\n",
       "      <td>NaN</td>\n",
       "      <td>NaN</td>\n",
       "      <td>NaN</td>\n",
       "      <td>crit=entropy, m_d=5, ps=True</td>\n",
       "      <td>88.57%</td>\n",
>>>>>>> Stashed changes
       "    </tr>\n",
       "  </tbody>\n",
       "</table>\n",
       "</div>"
      ],
      "text/plain": [
<<<<<<< Updated upstream
       "                         Parâmetros MLP Acc MLP Parâmetros NC  Acc NC  \\\n",
       "1    solv=adam, alp=0.0001, h_l_s=(20,)  88.86%         s_t=s  72.52%   \n",
       "2   solv=adam, alp=0.0001, h_l_s=(150,)  88.90%         s_t=s  72.52%   \n",
       "3     solv=adam, alp=1e-05, h_l_s=(20,)  88.86%           NaN     NaN   \n",
       "4    solv=adam, alp=1e-05, h_l_s=(150,)  88.90%           NaN     NaN   \n",
       "5   solv=lbfgs, alp=0.0001, h_l_s=(20,)  88.87%           NaN     NaN   \n",
       "6  solv=lbfgs, alp=0.0001, h_l_s=(150,)  88.87%           NaN     NaN   \n",
       "7    solv=lbfgs, alp=1e-05, h_l_s=(20,)  88.87%           NaN     NaN   \n",
       "8   solv=lbfgs, alp=1e-05, h_l_s=(150,)  88.87%           NaN     NaN   \n",
       "\n",
       "                          Parâmetros KNN Acc KNN  \\\n",
       "1        neigh=3, weig=uniform, alg=auto  88.46%   \n",
       "2   neigh=3, weig=uniform, alg=ball_tree  88.46%   \n",
       "3       neigh=3, weig=distance, alg=auto  88.46%   \n",
       "4  neigh=3, weig=distance, alg=ball_tree  88.46%   \n",
       "5        neigh=5, weig=uniform, alg=auto  88.41%   \n",
       "6   neigh=5, weig=uniform, alg=ball_tree  88.41%   \n",
       "7       neigh=5, weig=distance, alg=auto  88.41%   \n",
       "8  neigh=5, weig=distance, alg=ball_tree  88.41%   \n",
       "\n",
       "                      Parâmetros DT  Acc DT  \n",
       "1     crit=gini, m_d=None, ps=False  88.92%  \n",
       "2      crit=gini, m_d=None, ps=True  88.92%  \n",
       "3        crit=gini, m_d=5, ps=False  88.88%  \n",
       "4         crit=gini, m_d=5, ps=True  88.88%  \n",
       "5  crit=entropy, m_d=None, ps=False  88.92%  \n",
       "6   crit=entropy, m_d=None, ps=True  88.92%  \n",
       "7     crit=entropy, m_d=5, ps=False  88.92%  \n",
       "8      crit=entropy, m_d=5, ps=True  88.92%  "
      ]
     },
     "execution_count": 244,
=======
       "  Parâmetros MLP Acc MLP Parâmetros NC Acc NC Parâmetros KNN Acc KNN  \\\n",
       "1            NaN     NaN           NaN    NaN            NaN     NaN   \n",
       "2            NaN     NaN           NaN    NaN            NaN     NaN   \n",
       "3            NaN     NaN           NaN    NaN            NaN     NaN   \n",
       "4            NaN     NaN           NaN    NaN            NaN     NaN   \n",
       "5            NaN     NaN           NaN    NaN            NaN     NaN   \n",
       "6            NaN     NaN           NaN    NaN            NaN     NaN   \n",
       "7            NaN     NaN           NaN    NaN            NaN     NaN   \n",
       "8            NaN     NaN           NaN    NaN            NaN     NaN   \n",
       "\n",
       "                      Parâmetros DT  Acc DT  \n",
       "1     crit=gini, m_d=None, ps=False  88.48%  \n",
       "2      crit=gini, m_d=None, ps=True  88.48%  \n",
       "3        crit=gini, m_d=5, ps=False  88.47%  \n",
       "4         crit=gini, m_d=5, ps=True  88.47%  \n",
       "5  crit=entropy, m_d=None, ps=False  88.48%  \n",
       "6   crit=entropy, m_d=None, ps=True  88.48%  \n",
       "7     crit=entropy, m_d=5, ps=False  88.57%  \n",
       "8      crit=entropy, m_d=5, ps=True  88.57%  "
      ]
     },
     "execution_count": 421,
>>>>>>> Stashed changes
     "metadata": {},
     "output_type": "execute_result"
    }
   ],
<<<<<<< Updated upstream
   "source": [
    "H1_accuracy"
   ]
  },
  {
   "cell_type": "markdown",
   "metadata": {},
   "source": [
    "<h2>Hipótese 2: \"É possível identificar e classificar um grupo mais provável de aceitar o depósito a prazo\"</h2>"
=======
   "source": [
    "H1_accuracy"
   ]
  },
  {
   "cell_type": "markdown",
   "metadata": {},
   "source": [
    "Selecionando o conjunto de parâmetros de cada algoritmo que teve a melhor acurácia"
   ]
  },
  {
   "cell_type": "code",
   "execution_count": 443,
   "metadata": {},
   "outputs": [],
   "source": [
    "mlp = mlpExecute(H5_accuracy)[1]\n",
    "nc = ncExecute(H5_accuracy)[1]\n",
    "knn = knnExecute(H5_accuracy)[1]\n",
    "dt = dtExecute(H5_accuracy)[1]\n"
   ]
  },
  {
   "cell_type": "markdown",
   "metadata": {},
   "source": [
    "Gráficos de erro do MPL com 1 camada oculta e variação da quantidade de neurônios"
   ]
  },
  {
   "cell_type": "code",
   "execution_count": null,
   "metadata": {},
   "outputs": [],
   "source": [
    "graficoErroMLP(1, mlp)"
   ]
  },
  {
   "cell_type": "markdown",
   "metadata": {},
   "source": [
    "Gráficos de erro do MPL com 2 camadas ocultas e variação da quantidade de neurônios"
   ]
  },
  {
   "cell_type": "code",
   "execution_count": 438,
   "metadata": {},
   "outputs": [
    {
     "data": {
      "image/png": "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\n",
      "text/plain": [
       "<Figure size 864x432 with 1 Axes>"
      ]
     },
     "metadata": {
      "needs_background": "light"
     },
     "output_type": "display_data"
    }
   ],
   "source": [
    "graficoErroMLP(2, mlp)"
   ]
  },
  {
   "cell_type": "code",
   "execution_count": 441,
   "metadata": {},
   "outputs": [
    {
     "ename": "NameError",
     "evalue": "name 'nc' is not defined",
     "output_type": "error",
     "traceback": [
      "\u001b[1;31m---------------------------------------------------------------------------\u001b[0m",
      "\u001b[1;31mNameError\u001b[0m                                 Traceback (most recent call last)",
      "\u001b[1;32m<ipython-input-441-21c867418df1>\u001b[0m in \u001b[0;36m<module>\u001b[1;34m\u001b[0m\n\u001b[1;32m----> 1\u001b[1;33m \u001b[0mkfoldExecute\u001b[0m\u001b[1;33m(\u001b[0m\u001b[0mmlp\u001b[0m\u001b[1;33m,\u001b[0m \u001b[0mnc\u001b[0m\u001b[1;33m,\u001b[0m \u001b[0mknn\u001b[0m\u001b[1;33m,\u001b[0m \u001b[0mdt\u001b[0m\u001b[1;33m)\u001b[0m\u001b[1;33m\u001b[0m\u001b[1;33m\u001b[0m\u001b[0m\n\u001b[0m",
      "\u001b[1;31mNameError\u001b[0m: name 'nc' is not defined"
     ]
    }
   ],
   "source": []
  },
  {
   "cell_type": "code",
   "execution_count": 444,
   "metadata": {},
   "outputs": [
    {
     "name": "stdout",
     "output_type": "stream",
     "text": [
      "\n",
      "Com 2 folds:\n"
     ]
    },
    {
     "ename": "NameError",
     "evalue": "name 'model_selection' is not defined",
     "output_type": "error",
     "traceback": [
      "\u001b[1;31m---------------------------------------------------------------------------\u001b[0m",
      "\u001b[1;31mNameError\u001b[0m                                 Traceback (most recent call last)",
      "\u001b[1;32m<ipython-input-444-21c867418df1>\u001b[0m in \u001b[0;36m<module>\u001b[1;34m\u001b[0m\n\u001b[1;32m----> 1\u001b[1;33m \u001b[0mkfoldExecute\u001b[0m\u001b[1;33m(\u001b[0m\u001b[0mmlp\u001b[0m\u001b[1;33m,\u001b[0m \u001b[0mnc\u001b[0m\u001b[1;33m,\u001b[0m \u001b[0mknn\u001b[0m\u001b[1;33m,\u001b[0m \u001b[0mdt\u001b[0m\u001b[1;33m)\u001b[0m\u001b[1;33m\u001b[0m\u001b[1;33m\u001b[0m\u001b[0m\n\u001b[0m",
      "\u001b[1;32m<ipython-input-440-6ab5fa22a270>\u001b[0m in \u001b[0;36mkfoldExecute\u001b[1;34m(mlp, nc, knn, dt)\u001b[0m\n\u001b[0;32m     12\u001b[0m         \u001b[0mprint\u001b[0m\u001b[1;33m(\u001b[0m\u001b[1;34m\"\\nCom\"\u001b[0m\u001b[1;33m,\u001b[0m \u001b[0mi\u001b[0m\u001b[1;33m,\u001b[0m \u001b[1;34m\"folds:\"\u001b[0m\u001b[1;33m)\u001b[0m\u001b[1;33m\u001b[0m\u001b[1;33m\u001b[0m\u001b[0m\n\u001b[0;32m     13\u001b[0m         \u001b[1;32mfor\u001b[0m \u001b[0mname\u001b[0m\u001b[1;33m,\u001b[0m \u001b[0mmodel\u001b[0m \u001b[1;32min\u001b[0m \u001b[0mmodels\u001b[0m\u001b[1;33m:\u001b[0m\u001b[1;33m\u001b[0m\u001b[1;33m\u001b[0m\u001b[0m\n\u001b[1;32m---> 14\u001b[1;33m             \u001b[0mkfold\u001b[0m \u001b[1;33m=\u001b[0m \u001b[0mmodel_selection\u001b[0m\u001b[1;33m.\u001b[0m\u001b[0mKFold\u001b[0m\u001b[1;33m(\u001b[0m\u001b[0mn_splits\u001b[0m\u001b[1;33m=\u001b[0m\u001b[0mi\u001b[0m\u001b[1;33m,\u001b[0m \u001b[0mrandom_state\u001b[0m\u001b[1;33m=\u001b[0m\u001b[0mseed\u001b[0m\u001b[1;33m)\u001b[0m\u001b[1;33m\u001b[0m\u001b[1;33m\u001b[0m\u001b[0m\n\u001b[0m\u001b[0;32m     15\u001b[0m             \u001b[0mcv_results\u001b[0m \u001b[1;33m=\u001b[0m \u001b[0mmodel_selection\u001b[0m\u001b[1;33m.\u001b[0m\u001b[0mcross_val_score\u001b[0m\u001b[1;33m(\u001b[0m\u001b[0mmodel\u001b[0m\u001b[1;33m,\u001b[0m \u001b[0mX\u001b[0m\u001b[1;33m,\u001b[0m \u001b[0my\u001b[0m\u001b[1;33m,\u001b[0m \u001b[0mcv\u001b[0m\u001b[1;33m=\u001b[0m\u001b[0mkfold\u001b[0m\u001b[1;33m,\u001b[0m \u001b[0mscoring\u001b[0m\u001b[1;33m=\u001b[0m\u001b[0mscoring\u001b[0m\u001b[1;33m)\u001b[0m\u001b[1;33m\u001b[0m\u001b[1;33m\u001b[0m\u001b[0m\n\u001b[0;32m     16\u001b[0m             \u001b[0mresults\u001b[0m\u001b[1;33m.\u001b[0m\u001b[0mappend\u001b[0m\u001b[1;33m(\u001b[0m\u001b[0mcv_results\u001b[0m\u001b[1;33m)\u001b[0m\u001b[1;33m\u001b[0m\u001b[1;33m\u001b[0m\u001b[0m\n",
      "\u001b[1;31mNameError\u001b[0m: name 'model_selection' is not defined"
     ]
    }
   ],
   "source": [
    "kfoldExecute(mlp, nc, knn, dt)"
   ]
  },
  {
   "cell_type": "markdown",
   "metadata": {},
   "source": [
    "<h2>Hipótese 2: \"É possível identificar e classificar um grupo mais provável de aceitar o depósito a prazo\"</h2>"
   ]
  },
  {
   "cell_type": "code",
   "execution_count": 445,
   "metadata": {},
   "outputs": [],
   "source": [
    "#INPUTS\n",
    "X = phone_calls[['middle-aged', 'olders', 'youngers', 'admin.', 'blue-collar', 'entrepreneur', 'housemaid', 'management', 'retired', 'self-employed', 'services', 'student', 'technician', 'unemployed', 'unknown', 'divorced', 'married', 'single', 'unknown_marital', 'basic.4y', 'basic.6y', 'basic.9y', 'high.school', 'illiterate', 'professional.course', 'university.degree', 'unknown_education']].values\n",
    "X_train, X_test, y_train, y_test = setTrainTest(X, y)"
   ]
  },
  {
   "cell_type": "code",
   "execution_count": 446,
   "metadata": {},
   "outputs": [],
   "source": [
    "H2_accuracy = pd.DataFrame(columns = ['Parâmetros MLP', 'Acc MLP', 'Parâmetros NC', 'Acc NC', 'Parâmetros KNN', 'Acc KNN', 'Parâmetros DT', 'Acc DT', ], index=[x for x in range(1,9)])"
   ]
  },
  {
   "cell_type": "markdown",
   "metadata": {},
   "source": [
    "<h3> Salvando taxas de acurácia no DataFrame</h3>\n",
    "<h3> Definindo melhor combinação de parâmetros para cada algoritmo, de acordo com a taxa de acurácia</h3>\n",
    "<h3>Imprimindo matriz de confusão e relatório de classificação </h3>"
   ]
  },
  {
   "cell_type": "code",
   "execution_count": 450,
   "metadata": {},
   "outputs": [
    {
     "name": "stdout",
     "output_type": "stream",
     "text": [
      "MATRIZ DE CONFUSÃO:\n",
      " [[10944     0]\n",
      " [ 1413     0]]\n",
      "\n",
      "RELATÓRIO DE CLASSIFICAÇÃO:\n",
      "               precision    recall  f1-score   support\n",
      "\n",
      "           0       0.89      1.00      0.94     10944\n",
      "           1       0.00      0.00      0.00      1413\n",
      "\n",
      "   micro avg       0.89      0.89      0.89     12357\n",
      "   macro avg       0.44      0.50      0.47     12357\n",
      "weighted avg       0.78      0.89      0.83     12357\n",
      "\n"
     ]
    },
    {
     "name": "stderr",
     "output_type": "stream",
     "text": [
      "C:\\Users\\vanessa.da.conceicao\\AppData\\Local\\Continuum\\anaconda3\\lib\\site-packages\\sklearn\\metrics\\classification.py:1143: UndefinedMetricWarning: Precision and F-score are ill-defined and being set to 0.0 in labels with no predicted samples.\n",
      "  'precision', 'predicted', average, warn_for)\n"
     ]
    }
   ],
   "source": [
    "mlpPred = mlpExecute(H2_accuracy) #Função irão salvar taxas de acurácia no DataFrame\n",
    "y_pred = mlpPred[0]\n",
    "mlp = mlpPred[1] #Selecionando o melhor conjunto de parâmetros para o algoritmo\n",
    "confusionAndClassification(y_test, y_pred)"
>>>>>>> Stashed changes
   ]
  },
  {
   "cell_type": "code",
<<<<<<< Updated upstream
   "execution_count": 268,
   "metadata": {},
   "outputs": [],
   "source": [
    "#INPUTS\n",
    "X = phone_calls[['middle-aged', 'olders', 'youngers', 'admin.', 'blue-collar', 'entrepreneur', 'housemaid', 'management', 'retired', 'self-employed', 'services', 'student', 'technician', 'unemployed', 'unknown', 'divorced', 'married', 'single', 'unknown_marital', 'basic.4y', 'basic.6y', 'basic.9y', 'high.school', 'illiterate', 'professional.course', 'university.degree', 'unknown_education']].values\n",
    "X_train, X_test, y_train, y_test = setTrainTest(X, y)"
=======
   "execution_count": 452,
   "metadata": {},
   "outputs": [
    {
     "name": "stdout",
     "output_type": "stream",
     "text": [
      "MATRIZ DE CONFUSÃO:\n",
      " [[6667 4277]\n",
      " [ 641  772]]\n",
      "\n",
      "RELATÓRIO DE CLASSIFICAÇÃO:\n",
      "               precision    recall  f1-score   support\n",
      "\n",
      "           0       0.91      0.61      0.73     10944\n",
      "           1       0.15      0.55      0.24      1413\n",
      "\n",
      "   micro avg       0.60      0.60      0.60     12357\n",
      "   macro avg       0.53      0.58      0.48     12357\n",
      "weighted avg       0.83      0.60      0.67     12357\n",
      "\n"
     ]
    }
   ],
   "source": [
    "ncPred = ncExecute(H2_accuracy) #Função irão salvar taxas de acurácia no DataFrame\n",
    "y_pred = ncPred[0]\n",
    "nc = ncPred[1] #Selecionando o melhor conjunto de parâmetros para o algoritmo\n",
    "confusionAndClassification(y_test, y_pred)"
>>>>>>> Stashed changes
   ]
  },
  {
   "cell_type": "code",
<<<<<<< Updated upstream
   "execution_count": 269,
   "metadata": {},
   "outputs": [],
   "source": [
    "H2_accuracy = pd.DataFrame(columns = ['Parâmetros MLP', 'Acc MLP', 'Parâmetros NC', 'Acc NC', 'Parâmetros KNN', 'Acc KNN', 'Parâmetros DT', 'Acc DT', ], index=[x for x in range(1,9)])"
   ]
  },
  {
   "cell_type": "code",
   "execution_count": 270,
   "metadata": {},
   "outputs": [],
   "source": [
    "mlpExecute(H2_accuracy)\n"
   ]
  },
  {
   "cell_type": "code",
   "execution_count": 271,
=======
   "execution_count": 451,
>>>>>>> Stashed changes
   "metadata": {},
   "outputs": [
    {
     "name": "stdout",
     "output_type": "stream",
     "text": [
      "MATRIZ DE CONFUSÃO:\n",
      " [[10661   283]\n",
      " [ 1307   106]]\n",
      "\n",
      "RELATÓRIO DE CLASSIFICAÇÃO:\n",
      "               precision    recall  f1-score   support\n",
      "\n",
      "           0       0.89      0.97      0.93     10944\n",
      "           1       0.27      0.08      0.12      1413\n",
      "\n",
      "   micro avg       0.87      0.87      0.87     12357\n",
      "   macro avg       0.58      0.52      0.52     12357\n",
      "weighted avg       0.82      0.87      0.84     12357\n",
      "\n"
     ]
    }
   ],
   "source": [
<<<<<<< Updated upstream
    "ncExecute(H2_accuracy)"
=======
    "knnPred = knnExecute(H2_accuracy) #Função irão salvar taxas de acurácia no DataFrame\n",
    "y_pred = knnPred[0]\n",
    "knn = knnPred[1] #Selecionando o melhor conjunto de parâmetros para o algoritmo\n",
    "confusionAndClassification(y_test, y_pred)"
>>>>>>> Stashed changes
   ]
  },
  {
   "cell_type": "code",
<<<<<<< Updated upstream
   "execution_count": 272,
   "metadata": {},
   "outputs": [],
   "source": [
    "knnExecute(H2_accuracy)"
   ]
  },
  {
   "cell_type": "code",
   "execution_count": 273,
   "metadata": {},
   "outputs": [],
   "source": [
    "dtExecute(H2_accuracy)"
=======
   "execution_count": 447,
   "metadata": {},
   "outputs": [
    {
     "name": "stdout",
     "output_type": "stream",
     "text": [
      "MATRIZ DE CONFUSÃO:\n",
      " [[10941     3]\n",
      " [ 1410     3]]\n",
      "\n",
      "RELATÓRIO DE CLASSIFICAÇÃO:\n",
      "               precision    recall  f1-score   support\n",
      "\n",
      "           0       0.89      1.00      0.94     10944\n",
      "           1       0.50      0.00      0.00      1413\n",
      "\n",
      "   micro avg       0.89      0.89      0.89     12357\n",
      "   macro avg       0.69      0.50      0.47     12357\n",
      "weighted avg       0.84      0.89      0.83     12357\n",
      "\n"
     ]
    }
   ],
   "source": [
    "dtPred = dtExecute(H2_accuracy) #Função irão salvar taxas de acurácia no DataFrame\n",
    "y_pred = dtPred[0]\n",
    "dt = dtPred[1] #Selecionando o melhor conjunto de parâmetros para o algoritmo\n",
    "confusionAndClassification(y_test, y_pred)"
>>>>>>> Stashed changes
   ]
  },
  {
   "cell_type": "code",
   "execution_count": 274,
   "metadata": {},
   "outputs": [
    {
     "data": {
      "text/html": [
       "<div>\n",
       "<style scoped>\n",
       "    .dataframe tbody tr th:only-of-type {\n",
       "        vertical-align: middle;\n",
       "    }\n",
       "\n",
       "    .dataframe tbody tr th {\n",
       "        vertical-align: top;\n",
       "    }\n",
       "\n",
       "    .dataframe thead th {\n",
       "        text-align: right;\n",
       "    }\n",
       "</style>\n",
       "<table border=\"1\" class=\"dataframe\">\n",
       "  <thead>\n",
       "    <tr style=\"text-align: right;\">\n",
       "      <th></th>\n",
       "      <th>Parâmetros MLP</th>\n",
       "      <th>Acc MLP</th>\n",
       "      <th>Parâmetros NC</th>\n",
       "      <th>Acc NC</th>\n",
       "      <th>Parâmetros KNN</th>\n",
       "      <th>Acc KNN</th>\n",
       "      <th>Parâmetros DT</th>\n",
       "      <th>Acc DT</th>\n",
       "    </tr>\n",
       "  </thead>\n",
       "  <tbody>\n",
       "    <tr>\n",
       "      <th>1</th>\n",
       "      <td>solv=adam, alp=0.0001, h_l_s=(20,)</td>\n",
       "      <td>88.57%</td>\n",
       "      <td>s_t=s</td>\n",
       "      <td>58.27%</td>\n",
       "      <td>neigh=3, weig=uniform, alg=auto</td>\n",
       "      <td>84.54%</td>\n",
       "      <td>crit=gini, m_d=None, ps=False</td>\n",
       "      <td>88.48%</td>\n",
       "    </tr>\n",
       "    <tr>\n",
       "      <th>2</th>\n",
       "      <td>solv=adam, alp=0.0001, h_l_s=(150,)</td>\n",
       "      <td>88.57%</td>\n",
       "      <td>s_t=s</td>\n",
       "      <td>60.20%</td>\n",
       "      <td>neigh=3, weig=uniform, alg=ball_tree</td>\n",
       "      <td>84.56%</td>\n",
       "      <td>crit=gini, m_d=None, ps=True</td>\n",
       "      <td>88.48%</td>\n",
       "    </tr>\n",
       "    <tr>\n",
       "      <th>3</th>\n",
       "      <td>solv=adam, alp=1e-05, h_l_s=(20,)</td>\n",
       "      <td>88.57%</td>\n",
       "      <td>NaN</td>\n",
       "      <td>NaN</td>\n",
       "      <td>neigh=3, weig=distance, alg=auto</td>\n",
       "      <td>84.51%</td>\n",
       "      <td>crit=gini, m_d=5, ps=False</td>\n",
       "      <td>88.47%</td>\n",
       "    </tr>\n",
       "    <tr>\n",
       "      <th>4</th>\n",
       "      <td>solv=adam, alp=1e-05, h_l_s=(150,)</td>\n",
       "      <td>88.56%</td>\n",
       "      <td>NaN</td>\n",
       "      <td>NaN</td>\n",
       "      <td>neigh=3, weig=distance, alg=ball_tree</td>\n",
       "      <td>84.51%</td>\n",
       "      <td>crit=gini, m_d=5, ps=True</td>\n",
       "      <td>88.47%</td>\n",
       "    </tr>\n",
       "    <tr>\n",
       "      <th>5</th>\n",
       "      <td>solv=lbfgs, alp=0.0001, h_l_s=(20,)</td>\n",
       "      <td>88.56%</td>\n",
       "      <td>NaN</td>\n",
       "      <td>NaN</td>\n",
       "      <td>neigh=5, weig=uniform, alg=auto</td>\n",
       "      <td>87.11%</td>\n",
       "      <td>crit=entropy, m_d=None, ps=False</td>\n",
       "      <td>88.48%</td>\n",
       "    </tr>\n",
       "    <tr>\n",
       "      <th>6</th>\n",
       "      <td>solv=lbfgs, alp=0.0001, h_l_s=(150,)</td>\n",
       "      <td>88.51%</td>\n",
       "      <td>NaN</td>\n",
       "      <td>NaN</td>\n",
       "      <td>neigh=5, weig=uniform, alg=ball_tree</td>\n",
       "      <td>87.13%</td>\n",
       "      <td>crit=entropy, m_d=None, ps=True</td>\n",
       "      <td>88.48%</td>\n",
       "    </tr>\n",
       "    <tr>\n",
       "      <th>7</th>\n",
       "      <td>solv=lbfgs, alp=1e-05, h_l_s=(20,)</td>\n",
       "      <td>88.55%</td>\n",
       "      <td>NaN</td>\n",
       "      <td>NaN</td>\n",
       "      <td>neigh=5, weig=distance, alg=auto</td>\n",
       "      <td>87.04%</td>\n",
       "      <td>crit=entropy, m_d=5, ps=False</td>\n",
       "      <td>88.57%</td>\n",
       "    </tr>\n",
       "    <tr>\n",
       "      <th>8</th>\n",
       "      <td>solv=lbfgs, alp=1e-05, h_l_s=(150,)</td>\n",
       "      <td>88.50%</td>\n",
       "      <td>NaN</td>\n",
       "      <td>NaN</td>\n",
       "      <td>neigh=5, weig=distance, alg=ball_tree</td>\n",
       "      <td>87.05%</td>\n",
       "      <td>crit=entropy, m_d=5, ps=True</td>\n",
       "      <td>88.57%</td>\n",
       "    </tr>\n",
       "  </tbody>\n",
       "</table>\n",
       "</div>"
      ],
      "text/plain": [
       "                         Parâmetros MLP Acc MLP Parâmetros NC  Acc NC  \\\n",
       "1    solv=adam, alp=0.0001, h_l_s=(20,)  88.57%         s_t=s  58.27%   \n",
       "2   solv=adam, alp=0.0001, h_l_s=(150,)  88.57%         s_t=s  60.20%   \n",
       "3     solv=adam, alp=1e-05, h_l_s=(20,)  88.57%           NaN     NaN   \n",
       "4    solv=adam, alp=1e-05, h_l_s=(150,)  88.56%           NaN     NaN   \n",
       "5   solv=lbfgs, alp=0.0001, h_l_s=(20,)  88.56%           NaN     NaN   \n",
       "6  solv=lbfgs, alp=0.0001, h_l_s=(150,)  88.51%           NaN     NaN   \n",
       "7    solv=lbfgs, alp=1e-05, h_l_s=(20,)  88.55%           NaN     NaN   \n",
       "8   solv=lbfgs, alp=1e-05, h_l_s=(150,)  88.50%           NaN     NaN   \n",
       "\n",
       "                          Parâmetros KNN Acc KNN  \\\n",
       "1        neigh=3, weig=uniform, alg=auto  84.54%   \n",
       "2   neigh=3, weig=uniform, alg=ball_tree  84.56%   \n",
       "3       neigh=3, weig=distance, alg=auto  84.51%   \n",
       "4  neigh=3, weig=distance, alg=ball_tree  84.51%   \n",
       "5        neigh=5, weig=uniform, alg=auto  87.11%   \n",
       "6   neigh=5, weig=uniform, alg=ball_tree  87.13%   \n",
       "7       neigh=5, weig=distance, alg=auto  87.04%   \n",
       "8  neigh=5, weig=distance, alg=ball_tree  87.05%   \n",
       "\n",
       "                      Parâmetros DT  Acc DT  \n",
       "1     crit=gini, m_d=None, ps=False  88.48%  \n",
       "2      crit=gini, m_d=None, ps=True  88.48%  \n",
       "3        crit=gini, m_d=5, ps=False  88.47%  \n",
       "4         crit=gini, m_d=5, ps=True  88.47%  \n",
       "5  crit=entropy, m_d=None, ps=False  88.48%  \n",
       "6   crit=entropy, m_d=None, ps=True  88.48%  \n",
       "7     crit=entropy, m_d=5, ps=False  88.57%  \n",
       "8      crit=entropy, m_d=5, ps=True  88.57%  "
      ]
     },
     "execution_count": 274,
     "metadata": {},
     "output_type": "execute_result"
    }
   ],
   "source": [
    "H2_accuracy"
   ]
  },
  {
   "cell_type": "markdown",
   "metadata": {},
   "source": [
    "Gráficos de erro do MPL com 1 camada oculta e variação da quantidade de neurônios"
   ]
  },
  {
   "cell_type": "code",
   "execution_count": null,
   "metadata": {},
   "outputs": [],
   "source": [
    "graficoErroMLP(1, mlp)"
   ]
  },
  {
   "cell_type": "markdown",
   "metadata": {},
   "source": [
    "Gráficos de erro do MPL com 1 camada oculta e variação da quantidade de neurônios"
   ]
  },
  {
   "cell_type": "code",
   "execution_count": 438,
   "metadata": {},
   "outputs": [
    {
     "data": {
      "image/png": "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\n",
      "text/plain": [
       "<Figure size 864x432 with 1 Axes>"
      ]
     },
     "metadata": {
      "needs_background": "light"
     },
     "output_type": "display_data"
    }
   ],
   "source": [
    "graficoErroMLP(2, mlp)"
   ]
  },
  {
   "cell_type": "code",
   "execution_count": null,
   "metadata": {},
   "outputs": [],
   "source": [
    "kfoldExecute(mlp, nc, knn, dt)"
   ]
  },
  {
   "cell_type": "markdown",
   "metadata": {},
   "source": [
    "<h2>Hipótese 3: \"Os atributos referentes à ligações anteriores influenciam na nova resposta\"</h2>"
   ]
  },
  {
   "cell_type": "markdown",
   "metadata": {},
   "source": [
    "<p>Dados do dataset original que serão considerados:</p>"
   ]
  },
  {
   "cell_type": "markdown",
   "metadata": {},
   "source": [
    "<p>Relacionado com o último contato da campanha atual: </p>\n",
    "<p>8 - contact: tipo de comunicação de contato (categórico: 'celular', 'telefone') \n",
    "<p>outros atributos:</p>\n",
    "<p>12 - campaign: número de contatos realizados durante esta campanha e para este cliente (numérico, inclui último contato) </p>\n",
    "<p>13 - pdays: número de dias que passaram após o cliente ser contatado pela última vez de uma campanha anterior (numérico; 999 significa cliente não previamente contactado) </p>\n",
    "<p>14 - previous: número de contactos realizados antes desta campanha e para este cliente (numérico) </p>\n",
    "<p>15 - poutcome: resultado da campanha anterior de marketing (categórico: 'falha', 'inexistente', 'sucesso') </p>\n"
   ]
  },
  {
   "cell_type": "code",
   "execution_count": 255,
   "metadata": {},
   "outputs": [],
   "source": [
    "X = phone_calls[['contact', 'campaign_cat','not_contacted', 'contacted_a_few_days_ ago', 'contacted_several_days_ago', 'previous_cat', 'failure', 'nonexistent', 'success']].values\n",
    "X_train, X_test, y_train, y_test = setTrainTest(X, y)"
   ]
  },
  {
   "cell_type": "code",
   "execution_count": 256,
   "metadata": {},
   "outputs": [],
   "source": [
    "H3_accuracy = pd.DataFrame(columns = ['Parâmetros MLP', 'Acc MLP', 'Parâmetros NC', 'Acc NC', 'Parâmetros KNN', 'Acc KNN', 'Parâmetros DT', 'Acc DT', ], index=[x for x in range(1,9)])"
   ]
  },
  {
   "cell_type": "code",
<<<<<<< Updated upstream
   "execution_count": 257,
   "metadata": {},
   "outputs": [],
   "source": [
    "mlpExecute(H3_accuracy)"
=======
   "execution_count": 423,
   "metadata": {},
   "outputs": [],
   "source": [
    "y_pred = mlpExecute(H3_accuracy)[0]\n",
    "confusionAndClassification(y_test, y_pred)"
>>>>>>> Stashed changes
   ]
  },
  {
   "cell_type": "code",
<<<<<<< Updated upstream
   "execution_count": 258,
=======
   "execution_count": null,
>>>>>>> Stashed changes
   "metadata": {},
   "outputs": [],
   "source": [
    "y_pred = ncExecute(H3_accuracy)[0]\n",
    "confusionAndClassification(y_test, y_pred)"
   ]
  },
  {
   "cell_type": "code",
   "execution_count": null,
   "metadata": {},
   "outputs": [],
   "source": [
    "y_pred = knnExecute(H3_accuracy)[0]\n",
    "confusionAndClassification(y_test, y_pred)"
   ]
  },
  {
   "cell_type": "code",
   "execution_count": null,
   "metadata": {},
   "outputs": [],
   "source": [
    "y_pred = dtExecute(H3_accuracy)[0]\n",
    "confusionAndClassification(y_test, y_pred)"
   ]
  },
  {
   "cell_type": "code",
   "execution_count": 261,
   "metadata": {},
   "outputs": [
    {
     "data": {
      "text/html": [
       "<div>\n",
       "<style scoped>\n",
       "    .dataframe tbody tr th:only-of-type {\n",
       "        vertical-align: middle;\n",
       "    }\n",
       "\n",
       "    .dataframe tbody tr th {\n",
       "        vertical-align: top;\n",
       "    }\n",
       "\n",
       "    .dataframe thead th {\n",
       "        text-align: right;\n",
       "    }\n",
       "</style>\n",
       "<table border=\"1\" class=\"dataframe\">\n",
       "  <thead>\n",
       "    <tr style=\"text-align: right;\">\n",
       "      <th></th>\n",
       "      <th>Parâmetros MLP</th>\n",
       "      <th>Acc MLP</th>\n",
       "      <th>Parâmetros NC</th>\n",
       "      <th>Acc NC</th>\n",
       "      <th>Parâmetros KNN</th>\n",
       "      <th>Acc KNN</th>\n",
       "      <th>Parâmetros DT</th>\n",
       "      <th>Acc DT</th>\n",
       "    </tr>\n",
       "  </thead>\n",
       "  <tbody>\n",
       "    <tr>\n",
       "      <th>1</th>\n",
       "      <td>solv=adam, alp=0.0001, h_l_s=(20,)</td>\n",
       "      <td>89.45%</td>\n",
       "      <td>s_t=s</td>\n",
       "      <td>82.37%</td>\n",
       "      <td>neigh=3, weig=uniform, alg=auto</td>\n",
       "      <td>88.65%</td>\n",
       "      <td>crit=gini, m_d=None, ps=False</td>\n",
       "      <td>89.45%</td>\n",
       "    </tr>\n",
       "    <tr>\n",
       "      <th>2</th>\n",
       "      <td>solv=adam, alp=0.0001, h_l_s=(150,)</td>\n",
       "      <td>89.45%</td>\n",
       "      <td>s_t=s</td>\n",
       "      <td>82.37%</td>\n",
       "      <td>neigh=3, weig=uniform, alg=ball_tree</td>\n",
       "      <td>88.64%</td>\n",
       "      <td>crit=gini, m_d=None, ps=True</td>\n",
       "      <td>89.45%</td>\n",
       "    </tr>\n",
       "    <tr>\n",
       "      <th>3</th>\n",
       "      <td>solv=adam, alp=1e-05, h_l_s=(20,)</td>\n",
       "      <td>89.45%</td>\n",
       "      <td>NaN</td>\n",
       "      <td>NaN</td>\n",
       "      <td>neigh=3, weig=distance, alg=auto</td>\n",
       "      <td>88.65%</td>\n",
       "      <td>crit=gini, m_d=5, ps=False</td>\n",
       "      <td>89.45%</td>\n",
       "    </tr>\n",
       "    <tr>\n",
       "      <th>4</th>\n",
       "      <td>solv=adam, alp=1e-05, h_l_s=(150,)</td>\n",
       "      <td>89.45%</td>\n",
       "      <td>NaN</td>\n",
       "      <td>NaN</td>\n",
       "      <td>neigh=3, weig=distance, alg=ball_tree</td>\n",
       "      <td>88.65%</td>\n",
       "      <td>crit=gini, m_d=5, ps=True</td>\n",
       "      <td>89.45%</td>\n",
       "    </tr>\n",
       "    <tr>\n",
       "      <th>5</th>\n",
       "      <td>solv=lbfgs, alp=0.0001, h_l_s=(20,)</td>\n",
       "      <td>89.45%</td>\n",
       "      <td>NaN</td>\n",
       "      <td>NaN</td>\n",
       "      <td>neigh=5, weig=uniform, alg=auto</td>\n",
       "      <td>88.62%</td>\n",
       "      <td>crit=entropy, m_d=None, ps=False</td>\n",
       "      <td>89.45%</td>\n",
       "    </tr>\n",
       "    <tr>\n",
       "      <th>6</th>\n",
       "      <td>solv=lbfgs, alp=0.0001, h_l_s=(150,)</td>\n",
       "      <td>89.45%</td>\n",
       "      <td>NaN</td>\n",
       "      <td>NaN</td>\n",
       "      <td>neigh=5, weig=uniform, alg=ball_tree</td>\n",
       "      <td>88.62%</td>\n",
       "      <td>crit=entropy, m_d=None, ps=True</td>\n",
       "      <td>89.45%</td>\n",
       "    </tr>\n",
       "    <tr>\n",
       "      <th>7</th>\n",
       "      <td>solv=lbfgs, alp=1e-05, h_l_s=(20,)</td>\n",
       "      <td>89.45%</td>\n",
       "      <td>NaN</td>\n",
       "      <td>NaN</td>\n",
       "      <td>neigh=5, weig=distance, alg=auto</td>\n",
       "      <td>88.63%</td>\n",
       "      <td>crit=entropy, m_d=5, ps=False</td>\n",
       "      <td>89.45%</td>\n",
       "    </tr>\n",
       "    <tr>\n",
       "      <th>8</th>\n",
       "      <td>solv=lbfgs, alp=1e-05, h_l_s=(150,)</td>\n",
       "      <td>89.45%</td>\n",
       "      <td>NaN</td>\n",
       "      <td>NaN</td>\n",
       "      <td>neigh=5, weig=distance, alg=ball_tree</td>\n",
       "      <td>88.63%</td>\n",
       "      <td>crit=entropy, m_d=5, ps=True</td>\n",
       "      <td>89.45%</td>\n",
       "    </tr>\n",
       "  </tbody>\n",
       "</table>\n",
       "</div>"
      ],
      "text/plain": [
       "                         Parâmetros MLP Acc MLP Parâmetros NC  Acc NC  \\\n",
       "1    solv=adam, alp=0.0001, h_l_s=(20,)  89.45%         s_t=s  82.37%   \n",
       "2   solv=adam, alp=0.0001, h_l_s=(150,)  89.45%         s_t=s  82.37%   \n",
       "3     solv=adam, alp=1e-05, h_l_s=(20,)  89.45%           NaN     NaN   \n",
       "4    solv=adam, alp=1e-05, h_l_s=(150,)  89.45%           NaN     NaN   \n",
       "5   solv=lbfgs, alp=0.0001, h_l_s=(20,)  89.45%           NaN     NaN   \n",
       "6  solv=lbfgs, alp=0.0001, h_l_s=(150,)  89.45%           NaN     NaN   \n",
       "7    solv=lbfgs, alp=1e-05, h_l_s=(20,)  89.45%           NaN     NaN   \n",
       "8   solv=lbfgs, alp=1e-05, h_l_s=(150,)  89.45%           NaN     NaN   \n",
       "\n",
       "                          Parâmetros KNN Acc KNN  \\\n",
       "1        neigh=3, weig=uniform, alg=auto  88.65%   \n",
       "2   neigh=3, weig=uniform, alg=ball_tree  88.64%   \n",
       "3       neigh=3, weig=distance, alg=auto  88.65%   \n",
       "4  neigh=3, weig=distance, alg=ball_tree  88.65%   \n",
       "5        neigh=5, weig=uniform, alg=auto  88.62%   \n",
       "6   neigh=5, weig=uniform, alg=ball_tree  88.62%   \n",
       "7       neigh=5, weig=distance, alg=auto  88.63%   \n",
       "8  neigh=5, weig=distance, alg=ball_tree  88.63%   \n",
       "\n",
       "                      Parâmetros DT  Acc DT  \n",
       "1     crit=gini, m_d=None, ps=False  89.45%  \n",
       "2      crit=gini, m_d=None, ps=True  89.45%  \n",
       "3        crit=gini, m_d=5, ps=False  89.45%  \n",
       "4         crit=gini, m_d=5, ps=True  89.45%  \n",
       "5  crit=entropy, m_d=None, ps=False  89.45%  \n",
       "6   crit=entropy, m_d=None, ps=True  89.45%  \n",
       "7     crit=entropy, m_d=5, ps=False  89.45%  \n",
       "8      crit=entropy, m_d=5, ps=True  89.45%  "
      ]
     },
     "execution_count": 261,
     "metadata": {},
     "output_type": "execute_result"
    }
   ],
   "source": [
    "H3_accuracy"
   ]
  },
  {
   "cell_type": "markdown",
   "metadata": {},
   "source": [
<<<<<<< Updated upstream
    "<h2>Hipótese 4: \"O fato do cliente ter algum tipo de empréstimo influencia na resposta\"</h2>"
   ]
  },
  {
   "cell_type": "code",
   "execution_count": 277,
   "metadata": {},
   "outputs": [],
   "source": [
    "#INPUTS\n",
    "X = phone_calls[['no', 'unknown_default', 'yes', 'no_housing', 'unknown_housing', 'yes_housing', 'no_loan', 'unknown_loan', 'yes_loan']].values\n",
    "X_train, X_test, y_train, y_test = setTrainTest(X, y)\n",
    "\n"
   ]
  },
  {
   "cell_type": "code",
   "execution_count": 278,
   "metadata": {},
   "outputs": [],
   "source": [
    "H4_accuracy = pd.DataFrame(columns = ['Parâmetros MLP', 'Acc MLP', 'Parâmetros NC', 'Acc NC', 'Parâmetros KNN', 'Acc KNN', 'Parâmetros DT', 'Acc DT', ], index=[x for x in range(1,9)])"
   ]
  },
  {
   "cell_type": "code",
   "execution_count": 279,
   "metadata": {},
   "outputs": [],
   "source": [
    "mlpExecute(H4_accuracy)"
   ]
  },
  {
   "cell_type": "code",
   "execution_count": 280,
   "metadata": {},
   "outputs": [],
   "source": [
    "ncExecute(H4_accuracy)"
   ]
  },
  {
   "cell_type": "code",
   "execution_count": 281,
   "metadata": {},
   "outputs": [],
   "source": [
    "knnExecute(H4_accuracy)"
=======
    "Selecionando o conjunto de parâmetros de cada algoritmo que teve a melhor acurácia"
>>>>>>> Stashed changes
   ]
  },
  {
   "cell_type": "code",
   "execution_count": 434,
   "metadata": {},
   "outputs": [],
   "source": [
<<<<<<< Updated upstream
    "dtExecute(H4_accuracy)"
=======
    "mlp = mlpExecute(H5_accuracy)[1]\n",
    "nc = ncExecute(H5_accuracy)[1]\n",
    "knn = knnExecute(H5_accuracy)[1]\n",
    "dt = dtExecute(H5_accuracy)[1]\n"
   ]
  },
  {
   "cell_type": "markdown",
   "metadata": {},
   "source": [
    "Gráficos de erro do MPL com 1 camada oculta e variação da quantidade de neurônios"
   ]
  },
  {
   "cell_type": "code",
   "execution_count": null,
   "metadata": {},
   "outputs": [],
   "source": [
    "graficoErroMLP(1, mlp)"
   ]
  },
  {
   "cell_type": "markdown",
   "metadata": {},
   "source": [
    "Gráficos de erro do MPL com 2 camadas ocultas e variação da quantidade de neurônios"
   ]
  },
  {
   "cell_type": "code",
   "execution_count": 438,
   "metadata": {},
   "outputs": [
    {
     "data": {
      "image/png": "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\n",
      "text/plain": [
       "<Figure size 864x432 with 1 Axes>"
      ]
     },
     "metadata": {
      "needs_background": "light"
     },
     "output_type": "display_data"
    }
   ],
   "source": [
    "graficoErroMLP(2, mlp)"
   ]
  },
  {
   "cell_type": "code",
   "execution_count": null,
   "metadata": {},
   "outputs": [],
   "source": [
    "kfoldExecute(mlp, nc, knn, dt)"
   ]
  },
  {
   "cell_type": "markdown",
   "metadata": {},
   "source": [
    "<h2>Hipótese 4: \"O fato do cliente ter algum tipo de empréstimo influencia na resposta\"</h2>"
   ]
  },
  {
   "cell_type": "code",
   "execution_count": 364,
   "metadata": {},
   "outputs": [],
   "source": [
    "#INPUTS\n",
    "X = phone_calls[['no', 'unknown_default', 'yes', 'no_housing', 'unknown_housing', 'yes_housing', 'no_loan', 'unknown_loan', 'yes_loan']].values\n",
    "X_train, X_test, y_train, y_test = setTrainTest(X, y)\n",
    "\n"
   ]
  },
  {
   "cell_type": "code",
   "execution_count": 365,
   "metadata": {},
   "outputs": [],
   "source": [
    "H4_accuracy = pd.DataFrame(columns = ['Parâmetros MLP', 'Acc MLP', 'Parâmetros NC', 'Acc NC', 'Parâmetros KNN', 'Acc KNN', 'Parâmetros DT', 'Acc DT', ], index=[x for x in range(1,9)])"
   ]
  },
  {
   "cell_type": "code",
   "execution_count": 423,
   "metadata": {},
   "outputs": [],
   "source": [
    "y_pred = mlpExecute(H4_accuracy)[0]\n",
    "confusionAndClassification(y_test, y_pred)"
   ]
  },
  {
   "cell_type": "code",
   "execution_count": null,
   "metadata": {},
   "outputs": [],
   "source": [
    "y_pred = ncExecute(H4_accuracy)[0]\n",
    "confusionAndClassification(y_test, y_pred)"
   ]
  },
  {
   "cell_type": "code",
   "execution_count": null,
   "metadata": {},
   "outputs": [],
   "source": [
    "y_pred = knnExecute(H4_accuracy)[0]\n",
    "confusionAndClassification(y_test, y_pred)"
   ]
  },
  {
   "cell_type": "code",
   "execution_count": null,
   "metadata": {},
   "outputs": [],
   "source": [
    "y_pred = dtExecute(H4_accuracy)[0]\n",
    "confusionAndClassification(y_test, y_pred)"
>>>>>>> Stashed changes
   ]
  },
  {
   "cell_type": "code",
   "execution_count": 283,
   "metadata": {},
   "outputs": [
    {
     "data": {
      "text/html": [
       "<div>\n",
       "<style scoped>\n",
       "    .dataframe tbody tr th:only-of-type {\n",
       "        vertical-align: middle;\n",
       "    }\n",
       "\n",
       "    .dataframe tbody tr th {\n",
       "        vertical-align: top;\n",
       "    }\n",
       "\n",
       "    .dataframe thead th {\n",
       "        text-align: right;\n",
       "    }\n",
       "</style>\n",
       "<table border=\"1\" class=\"dataframe\">\n",
       "  <thead>\n",
       "    <tr style=\"text-align: right;\">\n",
       "      <th></th>\n",
       "      <th>Parâmetros MLP</th>\n",
       "      <th>Acc MLP</th>\n",
       "      <th>Parâmetros NC</th>\n",
       "      <th>Acc NC</th>\n",
       "      <th>Parâmetros KNN</th>\n",
       "      <th>Acc KNN</th>\n",
       "      <th>Parâmetros DT</th>\n",
       "      <th>Acc DT</th>\n",
       "    </tr>\n",
       "  </thead>\n",
       "  <tbody>\n",
       "    <tr>\n",
       "      <th>1</th>\n",
       "      <td>solv=adam, alp=0.0001, h_l_s=(20,)</td>\n",
       "      <td>88.57%</td>\n",
       "      <td>s_t=s</td>\n",
       "      <td>30.41%</td>\n",
       "      <td>neigh=3, weig=uniform, alg=auto</td>\n",
       "      <td>88.57%</td>\n",
       "      <td>crit=gini, m_d=None, ps=False</td>\n",
       "      <td>88.57%</td>\n",
       "    </tr>\n",
       "    <tr>\n",
       "      <th>2</th>\n",
       "      <td>solv=adam, alp=0.0001, h_l_s=(150,)</td>\n",
       "      <td>88.57%</td>\n",
       "      <td>s_t=s</td>\n",
       "      <td>30.41%</td>\n",
       "      <td>neigh=3, weig=uniform, alg=ball_tree</td>\n",
       "      <td>88.57%</td>\n",
       "      <td>crit=gini, m_d=None, ps=True</td>\n",
       "      <td>88.57%</td>\n",
       "    </tr>\n",
       "    <tr>\n",
       "      <th>3</th>\n",
       "      <td>solv=adam, alp=1e-05, h_l_s=(20,)</td>\n",
       "      <td>88.57%</td>\n",
       "      <td>NaN</td>\n",
       "      <td>NaN</td>\n",
       "      <td>neigh=3, weig=distance, alg=auto</td>\n",
       "      <td>88.57%</td>\n",
       "      <td>crit=gini, m_d=5, ps=False</td>\n",
       "      <td>88.57%</td>\n",
       "    </tr>\n",
       "    <tr>\n",
       "      <th>4</th>\n",
       "      <td>solv=adam, alp=1e-05, h_l_s=(150,)</td>\n",
       "      <td>88.57%</td>\n",
       "      <td>NaN</td>\n",
       "      <td>NaN</td>\n",
       "      <td>neigh=3, weig=distance, alg=ball_tree</td>\n",
       "      <td>88.57%</td>\n",
       "      <td>crit=gini, m_d=5, ps=True</td>\n",
       "      <td>88.57%</td>\n",
       "    </tr>\n",
       "    <tr>\n",
       "      <th>5</th>\n",
       "      <td>solv=lbfgs, alp=0.0001, h_l_s=(20,)</td>\n",
       "      <td>88.57%</td>\n",
       "      <td>NaN</td>\n",
       "      <td>NaN</td>\n",
       "      <td>neigh=5, weig=uniform, alg=auto</td>\n",
       "      <td>88.57%</td>\n",
       "      <td>crit=entropy, m_d=None, ps=False</td>\n",
       "      <td>88.57%</td>\n",
       "    </tr>\n",
       "    <tr>\n",
       "      <th>6</th>\n",
       "      <td>solv=lbfgs, alp=0.0001, h_l_s=(150,)</td>\n",
       "      <td>88.57%</td>\n",
       "      <td>NaN</td>\n",
       "      <td>NaN</td>\n",
       "      <td>neigh=5, weig=uniform, alg=ball_tree</td>\n",
       "      <td>88.57%</td>\n",
       "      <td>crit=entropy, m_d=None, ps=True</td>\n",
       "      <td>88.57%</td>\n",
       "    </tr>\n",
       "    <tr>\n",
       "      <th>7</th>\n",
       "      <td>solv=lbfgs, alp=1e-05, h_l_s=(20,)</td>\n",
       "      <td>88.57%</td>\n",
       "      <td>NaN</td>\n",
       "      <td>NaN</td>\n",
       "      <td>neigh=5, weig=distance, alg=auto</td>\n",
       "      <td>88.57%</td>\n",
       "      <td>crit=entropy, m_d=5, ps=False</td>\n",
       "      <td>88.57%</td>\n",
       "    </tr>\n",
       "    <tr>\n",
       "      <th>8</th>\n",
       "      <td>solv=lbfgs, alp=1e-05, h_l_s=(150,)</td>\n",
       "      <td>88.57%</td>\n",
       "      <td>NaN</td>\n",
       "      <td>NaN</td>\n",
       "      <td>neigh=5, weig=distance, alg=ball_tree</td>\n",
       "      <td>88.57%</td>\n",
       "      <td>crit=entropy, m_d=5, ps=True</td>\n",
       "      <td>88.57%</td>\n",
       "    </tr>\n",
       "  </tbody>\n",
       "</table>\n",
       "</div>"
      ],
      "text/plain": [
       "                         Parâmetros MLP Acc MLP Parâmetros NC  Acc NC  \\\n",
       "1    solv=adam, alp=0.0001, h_l_s=(20,)  88.57%         s_t=s  30.41%   \n",
       "2   solv=adam, alp=0.0001, h_l_s=(150,)  88.57%         s_t=s  30.41%   \n",
       "3     solv=adam, alp=1e-05, h_l_s=(20,)  88.57%           NaN     NaN   \n",
       "4    solv=adam, alp=1e-05, h_l_s=(150,)  88.57%           NaN     NaN   \n",
       "5   solv=lbfgs, alp=0.0001, h_l_s=(20,)  88.57%           NaN     NaN   \n",
       "6  solv=lbfgs, alp=0.0001, h_l_s=(150,)  88.57%           NaN     NaN   \n",
       "7    solv=lbfgs, alp=1e-05, h_l_s=(20,)  88.57%           NaN     NaN   \n",
       "8   solv=lbfgs, alp=1e-05, h_l_s=(150,)  88.57%           NaN     NaN   \n",
       "\n",
       "                          Parâmetros KNN Acc KNN  \\\n",
       "1        neigh=3, weig=uniform, alg=auto  88.57%   \n",
       "2   neigh=3, weig=uniform, alg=ball_tree  88.57%   \n",
       "3       neigh=3, weig=distance, alg=auto  88.57%   \n",
       "4  neigh=3, weig=distance, alg=ball_tree  88.57%   \n",
       "5        neigh=5, weig=uniform, alg=auto  88.57%   \n",
       "6   neigh=5, weig=uniform, alg=ball_tree  88.57%   \n",
       "7       neigh=5, weig=distance, alg=auto  88.57%   \n",
       "8  neigh=5, weig=distance, alg=ball_tree  88.57%   \n",
       "\n",
       "                      Parâmetros DT  Acc DT  \n",
       "1     crit=gini, m_d=None, ps=False  88.57%  \n",
       "2      crit=gini, m_d=None, ps=True  88.57%  \n",
       "3        crit=gini, m_d=5, ps=False  88.57%  \n",
       "4         crit=gini, m_d=5, ps=True  88.57%  \n",
       "5  crit=entropy, m_d=None, ps=False  88.57%  \n",
       "6   crit=entropy, m_d=None, ps=True  88.57%  \n",
       "7     crit=entropy, m_d=5, ps=False  88.57%  \n",
       "8      crit=entropy, m_d=5, ps=True  88.57%  "
      ]
     },
     "execution_count": 283,
     "metadata": {},
     "output_type": "execute_result"
    }
   ],
   "source": [
    "H4_accuracy"
   ]
  },
  {
   "cell_type": "markdown",
   "metadata": {},
   "source": [
    "Selecionando o conjunto de parâmetros de cada algoritmo que teve a melhor acurácia"
   ]
  },
  {
   "cell_type": "code",
   "execution_count": 434,
   "metadata": {},
   "outputs": [],
   "source": [
    "mlp = mlpExecute(H5_accuracy)[1]\n",
    "nc = ncExecute(H5_accuracy)[1]\n",
    "knn = knnExecute(H5_accuracy)[1]\n",
    "dt = dtExecute(H5_accuracy)[1]\n"
   ]
  },
  {
   "cell_type": "markdown",
   "metadata": {},
   "source": [
    "Gráficos de erro do MPL com 1 camada oculta e variação da quantidade de neurônios"
   ]
  },
  {
   "cell_type": "code",
   "execution_count": null,
   "metadata": {},
   "outputs": [],
   "source": [
    "graficoErroMLP(1, mlp)"
   ]
  },
  {
   "cell_type": "markdown",
   "metadata": {},
   "source": [
    "Gráficos de erro do MPL com 2 camadas ocultas e variação da quantidade de neurônios"
   ]
  },
  {
   "cell_type": "code",
   "execution_count": 438,
   "metadata": {},
   "outputs": [
    {
     "data": {
      "image/png": "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\n",
      "text/plain": [
       "<Figure size 864x432 with 1 Axes>"
      ]
     },
     "metadata": {
      "needs_background": "light"
     },
     "output_type": "display_data"
    }
   ],
   "source": [
    "graficoErroMLP(2, mlp)"
   ]
  },
  {
   "cell_type": "code",
   "execution_count": null,
   "metadata": {},
   "outputs": [],
   "source": [
    "kfoldExecute(mlp, nc, knn, dt)"
   ]
  },
  {
   "cell_type": "markdown",
   "metadata": {},
   "source": [
    "<h2>Hipótese 5: \"O dia da semana pode influenciar na resposta\"</h2>"
   ]
  },
  {
   "cell_type": "code",
   "execution_count": null,
   "metadata": {},
   "outputs": [],
   "source": [
    "#INPUTS\n",
    "X = phone_calls[['fri', 'mon', 'thu', 'tue', 'wed', 'no', 'unknown_default', 'yes']].values\n",
    "X_train, X_test, y_train, y_test = setTrainTest(X, y)"
   ]
  },
  {
   "cell_type": "code",
   "execution_count": null,
   "metadata": {},
   "outputs": [],
   "source": [
    "H5_accuracy = pd.DataFrame(columns = ['Parâmetros MLP', 'Acc MLP', 'Parâmetros NC', 'Acc NC', 'Parâmetros KNN', 'Acc KNN', 'Parâmetros DT', 'Acc DT', ], index=[x for x in range(1,9)])"
   ]
  },
  {
   "cell_type": "code",
<<<<<<< Updated upstream
   "execution_count": null,
   "metadata": {},
   "outputs": [],
   "source": [
    "mlpExecute(H5_accuracy) "
   ]
  },
  {
   "cell_type": "code",
   "execution_count": null,
   "metadata": {},
   "outputs": [],
=======
   "execution_count": 423,
   "metadata": {},
   "outputs": [],
>>>>>>> Stashed changes
   "source": [
    "ncExecute(H5_accuracy)"
   ]
  },
  {
   "cell_type": "code",
   "execution_count": null,
   "metadata": {},
   "outputs": [],
   "source": [
    "y_pred = ncExecute(H5_accuracy)[0]\n",
    "confusionAndClassification(y_test, y_pred)"
   ]
  },
  {
   "cell_type": "code",
   "execution_count": null,
   "metadata": {},
   "outputs": [],
   "source": [
    "y_pred = knnExecute(H5_accuracy)[0]\n",
    "confusionAndClassification(y_test, y_pred)"
   ]
  },
  {
   "cell_type": "code",
   "execution_count": null,
   "metadata": {},
   "outputs": [],
   "source": [
    "y_pred = dtExecute(H5_accuracy)[0]\n",
    "confusionAndClassification(y_test, y_pred)"
   ]
  },
  {
   "cell_type": "code",
   "execution_count": null,
   "metadata": {},
   "outputs": [],
   "source": [
    "H5_accuracy"
   ]
  },
  {
   "cell_type": "markdown",
   "metadata": {},
   "source": [
    "Selecionando o conjunto de parâmetros de cada algoritmo que teve a melhor acurácia"
   ]
  },
  {
   "cell_type": "code",
   "execution_count": 434,
   "metadata": {},
   "outputs": [],
   "source": [
    "mlp = mlpExecute(H5_accuracy)[1]\n",
    "nc = ncExecute(H5_accuracy)[1]\n",
    "knn = knnExecute(H5_accuracy)[1]\n",
    "dt = dtExecute(H5_accuracy)[1]\n"
   ]
  },
  {
   "cell_type": "markdown",
   "metadata": {},
   "source": [
    "Gráficos de erro do MPL com 1 camada oculta e variação da quantidade de neurônios"
   ]
  },
  {
   "cell_type": "code",
   "execution_count": null,
   "metadata": {},
   "outputs": [],
   "source": [
    "graficoErroMLP(1, mlp)"
   ]
  },
  {
   "cell_type": "markdown",
   "metadata": {},
   "source": [
    "Gráficos de erro do MPL com 2 camadas ocultas e variação da quantidade de neurônios"
   ]
  },
  {
   "cell_type": "code",
   "execution_count": 438,
   "metadata": {},
   "outputs": [
    {
     "data": {
      "image/png": "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\n",
      "text/plain": [
       "<Figure size 864x432 with 1 Axes>"
      ]
     },
     "metadata": {
      "needs_background": "light"
     },
     "output_type": "display_data"
    }
   ],
   "source": [
    "graficoErroMLP(2, mlp)"
   ]
  },
  {
   "cell_type": "code",
   "execution_count": null,
   "metadata": {},
   "outputs": [],
   "source": [
    "kfoldExecute(mlp, nc, knn, dt)"
   ]
  },
  {
   "cell_type": "code",
   "execution_count": null,
   "metadata": {},
   "outputs": [],
   "source": []
  }
 ],
 "metadata": {
  "kernelspec": {
   "display_name": "Python 3",
   "language": "python",
   "name": "python3"
  },
  "language_info": {
   "codemirror_mode": {
    "name": "ipython",
    "version": 3
   },
   "file_extension": ".py",
   "mimetype": "text/x-python",
   "name": "python",
   "nbconvert_exporter": "python",
   "pygments_lexer": "ipython3",
   "version": "3.7.3"
  }
 },
 "nbformat": 4,
 "nbformat_minor": 2
}
